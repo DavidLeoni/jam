{
 "cells": [
  {
   "cell_type": "markdown",
   "id": "oriented-escape",
   "metadata": {},
   "source": [
    "# Java Exercises "
   ]
  },
  {
   "cell_type": "markdown",
   "id": "arbitrary-luxembourg",
   "metadata": {},
   "source": [
    "Prima di tutto, ricordo che sul libro CS awesome ci sono 5 practice units:\n",
    "\n",
    "Practice units: [11](https://csawesome.runestone.academy/runestone/books/published/csawesome/Unit11-posttest/toctree.html), [12](https://csawesome.runestone.academy/runestone/books/published/csawesome/Tests/toctree.html), [13](https://csawesome.runestone.academy/runestone/books/published/csawesome/TimedTests/toctree.html), [14](https://csawesome.runestone.academy/runestone/books/published/csawesome/MixedFreeResponse/toctree.html), [15](https://csawesome.runestone.academy/runestone/books/published/csawesome/FreeResponse/toctree.html)\n",
    "\n",
    "Contengono parecchie domande ed esercizi, in particolare penso troverete utili le domande sulle classi.\n",
    "Purtroppo sono mischiate, quindi non ha molto senso che vi metta link specifici, dovrete cercarle voi.\n",
    "\n",
    "Riguardo il nostro esame, abbiamo trattato la maggior parte del libro eccetto la ricorsione e per le classi Java richiederò solo qualche semplice esercizio di modellazione come quelli visti in classe.\n",
    "\n",
    "Qui di seguito riporto inoltre esercizi che ho proposto agli orali più diversi altri, in particolare per matrici e hashmaps. Non è strettamente necessario farli tutti e probabilmente non ne avrete il tempo, consiglio di farne un po' per tipo in base alle aree in cui avete più bisogno di approfondire.\n",
    "\n",
    "Gli esercizi sono divisi in sezioni: \n",
    "\n",
    "* [Basics](#Basics)\n",
    "* [Strings](#Strings)\n",
    "* [Lists](#Lists)\n",
    "* [Matrices](#Matrices)\n",
    "* [Sets and Maps](#Sets-and-Maps)\n",
    "* [Classes](#Classes)"
   ]
  },
  {
   "cell_type": "markdown",
   "id": "constant-thinking",
   "metadata": {},
   "source": [
    "## Basics\n",
    "\n",
    "Edabit - [Pages in a Book](https://edabit.com/challenge/kZZDAMCjekgBdWgJy)"
   ]
  },
  {
   "cell_type": "markdown",
   "id": "insured-yellow",
   "metadata": {},
   "source": [
    "## Strings"
   ]
  },
  {
   "cell_type": "markdown",
   "id": "illegal-pledge",
   "metadata": {},
   "source": [
    "\n",
    "### Edabit - Strings\n",
    "\n",
    "* [First Before Second Letter](https://edabit.com/challenge/D6XfxhRobdQvbKX4v)\n",
    "* [Wrap Around](https://edabit.com/challenge/Q9EkExy6BYLnqBCQB)\n",
    "* [C*ns*r*d Str*ngs](https://edabit.com/challenge/ehyZvt6AJF4rKFfXT)\n",
    "* [Valid Rondo Form](https://edabit.com/challenge/stXWy2iufNhBo9sTW)\n",
    "* [Parenthesis Clusters](https://edabit.com/challenge/Fpymv2HieqEd7ptAq)\n",
    "* [Count Missing Numbers](https://edabit.com/challenge/vBwRuR4mF5yQ4cNuc)\n",
    "* [Math Making](https://edabit.com/challenge/3r7z6pkGnd4u7eZAd)\n",
    "* [To Adjust the Time](https://edabit.com/challenge/YsD3af7LgaH6JRSCH)\n",
    "* [Swapping Two by Two](https://edabit.com/challenge/Bt6tuyqL7ESZHpsec)\n",
    "* [Reverse Letters, Keep Numbers in Place](https://edabit.com/challenge/AQr6ZPvSWzJ2cPTGt) hint: use `Character.isDigit('5')`\n",
    "* [Complete the Word](https://edabit.com/challenge/t9S9nNr79pLqjXgqb)"
   ]
  },
  {
   "cell_type": "markdown",
   "id": "rapid-november",
   "metadata": {},
   "source": [
    "### Exercise - The Kingdom of Stringards\n",
    "\n",
    "Characterland is ruled with the iron fist by the Dukes of Stringards. The towns managed by them are monodimensional, and can be represented as a string: the host dukes `d`, lords `s`, vassals `v` and peasants `p`. To separate the various social circles from improper mingling, some walls `|mm|`have been erected."
   ]
  },
  {
   "cell_type": "markdown",
   "id": "involved-channels",
   "metadata": {},
   "source": [
    "#### Stringards IV: Power struggle\n",
    "\n",
    "Over time the dukes family has expanded and alas ruthless feuds have happened. According to the number of town people to the left of the dukes or to the right, a corresponding number of royal members to the left or to the right receives support to do their power games. A member of the dukes palace who receives support becomes uppercase. Each character `'p'`, `'v'` or `'s'` contributes support (but not the walls). The royal members who are not reached by support are slaughtered by their siblings, and substituted with a [Latin Cross Unicode](https://www.compart.com/en/unicode/U+271D) ✝ \n",
    "\n",
    "* assume at least a block of `d` is always present, and it is unique\n",
    "* assume that for each house to the left/right, there is _at least_ a left/right duke \n",
    "\n",
    "\n",
    "Example - given:\n",
    "\n",
    "```java\n",
    "String town = \"ppp|mm|vv|mm|v|s|mm|dddddddddddddddddddddddd|mm|ss|mm|vvvvv|mm|pppp\";\n",
    "```\n",
    "\n",
    "After your code, it must print:\n",
    "\n",
    "```\n",
    "Members of the royal family:24\n",
    "                       left:7\n",
    "                      right:11\n",
    "\n",
    "After the deadly struggle, the new town is\n",
    "\n",
    "ppp|mm|vv|mm|v|s|mm|DDDDDDD✝✝✝✝✝✝DDDDDDDDDDD|mm|ss|mm|vvvvv|mm|pppp\n",
    "```"
   ]
  },
  {
   "cell_type": "code",
   "execution_count": 1,
   "id": "bound-brook",
   "metadata": {
    "scrolled": false
   },
   "outputs": [],
   "source": [
    "\n",
    "String town =  \"ppp|mm|vv|mm|v|s|mm|dddddddddddddddddddddddd|mm|ss|mm|vvvvv|mm|pppp\";\n",
    "//    result:  \"ppp|mm|vv|mm|v|s|mm|DDDDDDD✝✝✝✝✝✝DDDDDDDDDDD|mm|ss|mm|vvvvv|mm|pppp\"    // tot:24 sx:7 dx:11\n",
    "//town =       \"ppp|mm|ppp|mm|vv|mm|ss|mm|dddddddddddddddddddd|mm|ss|mm|mm|s|v|mm|p|p|\";\n",
    "//     result: \"ppp|mm|ppp|mm|vv|mm|ss|mm|DDDDDDDDDD✝✝✝✝DDDDDD|mm|ss|mm|mm|s|v|mm|p|p|\" // tot:20 sx:10 dx:6\n"
   ]
  },
  {
   "cell_type": "markdown",
   "id": "flexible-disease",
   "metadata": {},
   "source": [
    "## Construction site\n",
    "\n",
    "Given a a list `house` as a list of strings `nxm` and a character list `bricks` of `n+1` elements, RETURN a NEW list obtained by alternating rows of `house` with characters taken from `bricks`\n",
    "\n",
    "* to the sides of the rows always put the character '|' except for the last story (the roof)"
   ]
  },
  {
   "cell_type": "code",
   "execution_count": 2,
   "id": "finished-compromise",
   "metadata": {},
   "outputs": [],
   "source": [
    "import java.util.List;\n",
    "\n",
    "\n",
    "public static List<String> house(List<String> mura, List<String> mattonelle){\n",
    "    \n",
    "    throw new RuntimeException(\"TODO IMPLEMENT ME!\");    \n",
    "}\n",
    "\n",
    "\n",
    "List<String> m4 = List.of(\"feab\",\n",
    "                          \"acgf\",\n",
    "                          \"bcdf\");\n",
    "\n",
    "\n",
    "\n",
    "// house(m4, List.of(\"^\",\"-\",\"_\",\"=\")) \n",
    "\n",
    "/*\n",
    "should produce\n",
    "                                           \n",
    "  [\" ^^^^ \",\n",
    "   \"|feab|\",\n",
    "   \"|----|\",\n",
    "   \"|acgf|\",\n",
    "   \"|____|\",\n",
    "   \"|bcdf|\",\n",
    "   \"|====|\"]\n",
    "\n",
    "*/"
   ]
  },
  {
   "cell_type": "markdown",
   "id": "painful-still",
   "metadata": {},
   "source": [
    "## Lists"
   ]
  },
  {
   "cell_type": "markdown",
   "id": "supposed-leeds",
   "metadata": {},
   "source": [
    "### Edabit - lists\n",
    "\n",
    "* [Difference of Max and Min Numbers in Array](https://edabit.com/challenge/hymPkXdhmDQLe87QT)\n",
    "* [Remove The Word!](https://edabit.com/challenge/6CkRcCdGAmCGPZnyb)\n",
    "* [Consecutive Numbers](https://edabit.com/challenge/Md6usCHQ7Xsj2fQi3)\n",
    "* [Largest Gap](https://edabit.com/challenge/qSJ5hZfG52Nf2hXWS)\n",
    "* [Longest Consecutive Run](https://edabit.com/challenge/NwSd26PwgggJquov3)\n",
    "* [Reverse the Odd Length Words](https://edabit.com/challenge/p5kyThBZDR7oJhjR7)\n",
    "* [Longest Word](https://edabit.com/challenge/LzY7r73f9xKhKvtki)\n",
    "* [Building up a Word](https://edabit.com/challenge/Eiyu2SZk9rgdp5gZd)\n",
    "* [Rearrange the Sentence](https://edabit.com/challenge/FPemghc8ut9xfaMGo)\n",
    "* [Filter Repeating Character Strings](https://edabit.com/challenge/tunTJAdBeLgc8s4ap)\n",
    "* [Anonymous Name](https://edabit.com/challenge/MKP8QxzuDaqYAJ6sZ)\n",
    "* [H-Index](https://leetcode.com/problems/h-index/)"
   ]
  },
  {
   "cell_type": "markdown",
   "id": "thorough-officer",
   "metadata": {},
   "source": [
    "### Edabit - Lists - Other exercises\n",
    "\n",
    "* [Combined Consecutive Sequence](https://edabit.com/challenge/mHLAmj4vmRuXrT8Nb)\n",
    "* [Water Balloon](https://edabit.com/challenge/3y2FmfjhbiQPPYbcn)\n",
    "* [Fulcrum](https://edabit.com/challenge/pn7QpvW2fW9grvYYE)\n",
    "* [Sort by the Letters](https://edabit.com/challenge/LhMkMu46rG8EweYf7)\n",
    "* [Almost Palindrome](https://edabit.com/challenge/APNhiaMCuRSwALN63)\n",
    "* [Number of Two or More Consecutive Ones](https://edabit.com/challenge/u4rHyBDs5RM2PfNxy)\n",
    "\n",
    "### Geeks for Geeks - Lists - Other exercises\n",
    "\n",
    "- [Trace Path](https://practice.geeksforgeeks.org/problems/trace-path3840/1)"
   ]
  },
  {
   "cell_type": "markdown",
   "id": "adaptive-embassy",
   "metadata": {},
   "source": [
    "### Exercise - sumvec"
   ]
  },
  {
   "cell_type": "code",
   "execution_count": 3,
   "id": "unusual-isaac",
   "metadata": {},
   "outputs": [
    {
     "data": {
      "text/plain": [
       "true"
      ]
     },
     "execution_count": 3,
     "metadata": {},
     "output_type": "execute_result"
    }
   ],
   "source": [
    "/** Assume u and v are two vectors represented as lists, \n",
    "        RETURN a NEW list containing the vectorial sum of u and v    \n",
    "    \n",
    "        - if the length of u is different from length of v, raise a RuntimeException  \n",
    "        \n",
    "        - if you encounter nulls, raise RuntimeException  (could be many ...)\n",
    "*/\n",
    "public static List<Integer> sumvec(List<Integer> u, List<Integer> v){\n",
    "    throw new RuntimeException(\"TODO IMPLEMENT ME!\");  \n",
    "}\n",
    "\n",
    "// sumvec(List.of(4,2,6,3), List.of(8,1,4,2));   // [12, 3, 10, 5]\n",
    "// sumvec(List.of(7,5), List.of(8,1,4,2));   // exception!\n",
    "// sumvec(null, List.of(8,1,4,2));   // exception!\n",
    "// sumvec(List.of(4,2,6,3), null);   // exception!\n",
    "// sumvec(null, null);   // exception!\n",
    "\n",
    "ArrayList<Integer> arr = new ArrayList();\n",
    "arr.add(2);\n",
    "arr.add(null);\n",
    "//sumvec(arr, List.of(7,9));  // exception!\n",
    "//sumvec(List.of(8,5), arr);  // exception!\n",
    "//sumvec(arr, arr);           // exception!"
   ]
  },
  {
   "cell_type": "markdown",
   "id": "silver-laser",
   "metadata": {},
   "source": [
    "### ord3\n",
    "\n",
    "RETURN `true` if provided list has the first three elements ordered in ascending order, otherwise return `false`.\n",
    "\n",
    "• if the list has less than 3 elements, return `false`\n",
    "\n",
    "```java\n",
    "public static boolean ord3(List<Integer> lista) \n",
    "```\n",
    "\n",
    "```\n",
    "ord3([5]) -> false\n",
    "\n",
    "ord3([4,7]) -> false\n",
    "\n",
    "ord3([4,6,9]) -> true\n",
    "\n",
    "ord3([4,9,7]) -> false\n",
    "\n",
    "ord3([9,5,7]) -> false\n",
    "\n",
    "ord3([4,8,9,1,5]) -> true  # first 3 are increasing\n",
    "\n",
    "ord3([9,4,8,10,13]) -> false # first 3 are NOT increasing\n",
    "```"
   ]
  },
  {
   "cell_type": "markdown",
   "id": "grateful-trinity",
   "metadata": {},
   "source": [
    "### Exercise - tante_lettere"
   ]
  },
  {
   "cell_type": "code",
   "execution_count": 4,
   "id": "celtic-interval",
   "metadata": {},
   "outputs": [],
   "source": [
    "/*\n",
    "    Given a string word, RETURN a NEW string with the characters progressively replicated.\n",
    "*/        \n",
    "public static String tante_lettere(String parola){   \n",
    "    throw new RuntimeException(\"TODO IMPLEMENT ME!\");  \n",
    "}\n",
    "\n",
    "    \n",
    "/*\n",
    "tante_lettere(\"\") -> \"\"\n",
    "tante_lettere(\"a\") -> \"a\";\n",
    "tante_lettere(\"abc\") -> \"abbccc\";\n",
    "tante_lettere(\"GOAL\") -> \"GOOAAALLLL\";\n",
    "tante_lettere(\"abaco\") -> \"abbaaaccccooooo\";\n",
    "*/"
   ]
  },
  {
   "cell_type": "markdown",
   "id": "forced-latino",
   "metadata": {},
   "source": [
    "### No Yelling  MODIFICATO\n",
    "\n",
    "https://edabit.com/challenge/33tRK98geLPcf73PF\n",
    "\n",
    "Create a function that transforms sentences ending with multiple question marks ? or exclamation marks ! into a sentence sith single sequences of exclamations\n",
    "\n",
    "Examples\n",
    "\n",
    "```\n",
    "noYelling(\"What went wrong?????????\") ➞ \"What went wrong?\"\n",
    "\n",
    "noYelling(\"Oh my goodness!!!\") ➞ \"Oh my goodness!\"\n",
    "\n",
    "noYelling(\"I just!!! can!!! not!!! believe!!! it!!!\") ➞ \"I just! can! not! believe! it!\"\n",
    "// change repeating punctuation inside the sentence (NOTE: the requirement is different from Edabit)\n",
    "\n",
    "noYelling(\"Oh my goodness!\") ➞ \"Oh my goodness!\"\n",
    "// Do not change sentences where there exists only one or zero exclamation marks/question marks.\n",
    "\n",
    "noYelling(\"I just cannot believe it.\") ➞ \"I just cannot believe it.\"\n",
    "\n",
    "```\n",
    "\n",
    "Notes\n",
    "\n",
    "Don't worry about mixed punctuation (no cases that end in something like ?!??!).\n",
    "\n",
    "Keep sentences that do not have question/exclamation marks the same."
   ]
  },
  {
   "cell_type": "markdown",
   "id": "dirty-newfoundland",
   "metadata": {},
   "source": [
    "### flag\n",
    "\n",
    "Given two integer numbers `n` and `m`, with `m` a multiple of 3, RETURN a list of `n` strings of length `m` having in the strings the digits from `0` to `2` in three vertical strips.\n",
    "\n",
    "\n",
    "```java\n",
    "\n",
    "public static List<String> flag(int n, int m)\n",
    "\n",
    "input:\n",
    "\n",
    "flag(5,12)\n",
    "\n",
    "output:\n",
    "\n",
    "[\"000011112222\",\n",
    " \"000011112222\",\n",
    " \"000011112222\",\n",
    " \"000011112222\",\n",
    " \"000011112222\"]\n",
    "\n",
    "```"
   ]
  },
  {
   "cell_type": "markdown",
   "id": "delayed-momentum",
   "metadata": {},
   "source": [
    "### Check if One Array can be Nested in Another\n",
    "\n",
    "Create a function that returns true if the first array can be nested inside the second.\n",
    "\n",
    "arr1 can be nested inside arr2 if:\n",
    "\n",
    "arr1's min is greater than arr2's min.\n",
    "arr1's max is less than arr2's max.\n",
    "\n",
    "Examples\n",
    "\n",
    "```\n",
    "canNest([1, 2, 3, 4], [0, 6]) ➞ true\n",
    "\n",
    "canNest([3, 1], [4, 0]) ➞ true\n",
    "\n",
    "canNest([9, 9, 8], [8, 9]) ➞ false\n",
    "\n",
    "canNest([1, 2, 3, 4], [2, 3]) ➞ false\n",
    "```\n",
    "\n",
    "**Note**: the strict inequality (see example #3)."
   ]
  },
  {
   "cell_type": "markdown",
   "id": "danish-chile",
   "metadata": {},
   "source": [
    "### Exercise - breakdance\n",
    "        \n",
    "✪✪ As a skilled breakdancer, you're given `music` as a list of sounds. You will have to perform a couple of dances:\n",
    "\n",
    "- during the first one, you will have to repeat the music sounds until you find exactly `3` sounds `'pa'`, then you will shout `BREAKDANCE!`.\n",
    "- during the second one, you will have to repeat the music sounds _in reverse_ until you find exactly `3` sounds `'pa'`, then you will shout `BREAKDANCE!`\n",
    "\n",
    "\n",
    "- **DO NOT** try creating new lists with elements in reverse order\n",
    "\n",
    "Example - given:\n",
    "\n",
    "```python\n",
    "List<String> music = List.of('unz','pa','pa','tud','unz','pa','pa','tud','unz','boom','boom','tud')\n",
    "```"
   ]
  },
  {
   "cell_type": "markdown",
   "id": "peaceful-grove",
   "metadata": {},
   "source": [
    "Prints:\n",
    "\n",
    "```\n",
    "unz\n",
    "pa\n",
    "pa\n",
    "tud\n",
    "unz\n",
    "pa\n",
    "BREAKDANCE!\n",
    "\n",
    "tud\n",
    "boom\n",
    "boom\n",
    "unz\n",
    "tud\n",
    "pa\n",
    "pa\n",
    "unz\n",
    "tud\n",
    "pa\n",
    "BREAKDANCE!\n",
    "```"
   ]
  },
  {
   "cell_type": "code",
   "execution_count": 5,
   "id": "horizontal-authority",
   "metadata": {
    "scrolled": true
   },
   "outputs": [],
   "source": [
    "List<String> music = List.of(\"unz\",\"pa\",\"pa\",\"tud\",\"unz\",\"pa\",\"pa\",\"tud\",\"unz\",\"boom\",\"boom\",\"tud\");\n",
    "\n",
    "// write here\n"
   ]
  },
  {
   "cell_type": "markdown",
   "id": "applicable-sustainability",
   "metadata": {},
   "source": [
    "### Exercise - Wild West\n",
    "\n",
    "✪✪ The two outlaws Carson and Butch agreed to bury a treasure in the jolly town of Tombstone, ma now each of them wants to take back the treasure without sharing anything with the partner.\n",
    "\n",
    "- For arriving to the treasure there is a `road` from `Santa Fe` until `Tombstone` which we represent as a list of strings\n",
    "- we use two indexes `butch` and `carson` to represent where the outlaws are on the road\n",
    "- each outlaw starts from a different town\n",
    "- at each turn Carson moves of **one** city\n",
    "- at each turn Butch moves of **two** cities, because he has a fast Mustang horse\n",
    "\n",
    "Write some code which prints the run and terminates as soon as one them arrives to the last city, telling who got the treasure.\n",
    "\n",
    "* In the case both outlaws arrive to the last city at the same time, prints `Final duel in Tombstone!`\n",
    "\n",
    "- your code must work for _any_ `road` and initial position `carson` and `butch`\n",
    "\n",
    "Example - 1 given:\n",
    "\n",
    "```python\n",
    "#             0         1          2           3            4               5\n",
    "List<String> road = List.of(\"Santa Fe\",\"Denver\",\"Dodge City\", \"Silverton\", \"Agua Caliente\", \"Tombstone\");\n",
    "int carson = 3, butch = 0;\n",
    "```\n",
    "\n",
    "it must print:\n",
    "\n",
    "```\n",
    "Carson starts from Silverton\n",
    "Butch starts from Santa Fe\n",
    "Carson reaches Agua Caliente\n",
    "Butch reaches Dodge City\n",
    "Carson reaches Tombstone\n",
    "Butch reaches Agua Caliente\n",
    "\n",
    "Carson takes the treasure in  Tombstone !\n",
    "```\n",
    "\n",
    "Example 2 - given:\n",
    "\n",
    "```python\n",
    "#            0         1          2           3              4               5\n",
    "List<String> road = List.of(\"Santa Fe\",\"Denver\",\"Dodge City\", \"Silverton\", \"Agua Caliente\", \"Tombstone\");\n",
    "int carson = 3, butch = 2;\n",
    "```\n",
    "\n",
    "it must print:\n",
    "\n",
    "```\n",
    "Carson starts from Silverton\n",
    "Butch starts from Dodge City\n",
    "Carson reaches Agua Caliente\n",
    "Butch reaches Agua Caliente\n",
    "Carson reaches Tombstone\n",
    "Butch reaches Tombstone\n",
    "\n",
    "Final duel in  Tombstone !\n",
    "```"
   ]
  },
  {
   "cell_type": "code",
   "execution_count": 6,
   "id": "addressed-eugene",
   "metadata": {
    "scrolled": false
   },
   "outputs": [],
   "source": [
    "List<String> road = List.of(\"Santa Fe\",\"Denver\",\"Dodge City\", \"Silverton\", \"Agua Caliente\", \"Tombstone\");\n",
    "\n",
    "int carson = 3, butch = 0; //   Carson takes the treasure in Tombstone !\n",
    "//carson = 0; butch = 0;   //  Butch takes the treasure in Tombstone !\n",
    "//carson = 3; butch = 2;   //  Final duel in Tombstone !\n",
    "\n",
    "// write here\n"
   ]
  },
  {
   "cell_type": "markdown",
   "id": "premier-playlist",
   "metadata": {},
   "source": [
    "## Matrices"
   ]
  },
  {
   "cell_type": "markdown",
   "id": "binary-forward",
   "metadata": {},
   "source": [
    "### Edabit - Matrices - Other exercises\n",
    "\n",
    "* [Find the Largest Numbers in a Group of Arrays](https://edabit.com/challenge/QLz5aGfChHhndKWMv)\n",
    "* [Beginning and End Pairs](https://edabit.com/challenge/HrCuzAKE6skEYgDmf)"
   ]
  },
  {
   "cell_type": "markdown",
   "id": "stuffed-academy",
   "metadata": {},
   "source": [
    "\n",
    "### GeeksForGeeks - matrices - other exercises\n",
    "\n",
    "- [Sum of elements in a matrix](https://practice.geeksforgeeks.org/problems/sum-of-elements-in-a-matrix2000/1)\n",
    "- [Addition of two square matrices](https://practice.geeksforgeeks.org/problems/addition-of-two-square-matrices4916/1)\n",
    "- [Print Matrix in snake Pattern](https://practice.geeksforgeeks.org/problems/print-matrix-in-snake-pattern-1587115621/1)\n",
    "- [Sum of upper and lower triangles](https://practice.geeksforgeeks.org/problems/sum-of-upper-and-lower-triangles-1587115621/1)\n",
    "- [Identical Matrices](https://practice.geeksforgeeks.org/problems/identical-matrices1042/1)\n",
    "- [Sorted matrix](https://practice.geeksforgeeks.org/problems/sorted-matrix2333/1)\n",
    "- [Search in a matrix ](https://practice.geeksforgeeks.org/problems/search-in-a-matrix17201720/1)\n",
    "- [Predict the Column](https://practice.geeksforgeeks.org/problems/predict-the-column/1)"
   ]
  },
  {
   "cell_type": "markdown",
   "id": "scenic-segment",
   "metadata": {},
   "source": [
    "### Leetcode - matrices - other exercises\n",
    "\n",
    "* [Matrix Diagonal Sum](https://leetcode.com/problems/matrix-diagonal-sum/)\n",
    "* [Count negative numbers in Sorted matrix](https://leetcode.com/problems/count-negative-numbers-in-a-sorted-matrix/)\n",
    "* [Cells with odd values in a matrix](https://leetcode.com/problems/cells-with-odd-values-in-a-matrix/)\n",
    "* [Lucky Numbers in a Matrix](https://leetcode.com/problems/lucky-numbers-in-a-matrix/)\n",
    "* [Toepliz Matrix](https://leetcode.com/problems/toeplitz-matrix/)\n",
    "* [Special Positions in a Binary Matrix](https://leetcode.com/problems/special-positions-in-a-binary-matrix/)\n",
    "* [Set Matrix Zeroes](https://leetcode.com/problems/set-matrix-zeroes/)  - don't care about execution time\n",
    "* [Search a 2D Matrix](https://leetcode.com/problems/search-a-2d-matrix/) - try to make at least  a bit efficient \n",
    "* [Spiral Matrix](https://leetcode.com/problems/spiral-matrix/)\n",
    "* [Spiral Matrix ii](https://leetcode.com/problems/spiral-matrix-ii/)"
   ]
  },
  {
   "cell_type": "markdown",
   "id": "growing-failure",
   "metadata": {},
   "source": [
    "## Sets and Maps"
   ]
  },
  {
   "cell_type": "markdown",
   "id": "controlled-delivery",
   "metadata": {},
   "source": [
    "### Coding Bat - maps - exercises\n",
    "\n",
    "https://codingbat.com/java/Map-1\n",
    "\n",
    "https://codingbat.com/java/Map-2"
   ]
  },
  {
   "cell_type": "markdown",
   "id": "flexible-lawyer",
   "metadata": {},
   "source": [
    "### Geeks for geeks - maps - exercises\n",
    "\n",
    "If you don't know how to do them, notice there is often on Editorial tab with an article explaining them.\n",
    "\n",
    "* [Check if a string is Isogram or not](https://practice.geeksforgeeks.org/problems/check-if-a-string-is-isogram-or-not-1587115620/1)\n",
    "* [Twice counter](https://practice.geeksforgeeks.org/problems/twice-counter4236/1)\n",
    "* [Exceptionally odd](https://practice.geeksforgeeks.org/problems/find-the-odd-occurence4820/1)\n",
    "* [Non repeating character](https://practice.geeksforgeeks.org/problems/non-repeating-character-1587115620/1)\n",
    "* [Intersection of two arrays](https://practice.geeksforgeeks.org/problems/intersection-of-two-arrays2404/1)\n",
    "* [Union of two arrays](https://practice.geeksforgeeks.org/problems/union-of-two-arrays3538/1)\n",
    "* [Top K Frequent Elements in Array](https://practice.geeksforgeeks.org/problems/top-k-frequent-elements-in-array/1)"
   ]
  },
  {
   "cell_type": "markdown",
   "id": "stainless-advancement",
   "metadata": {},
   "source": [
    "### Edabit - maps - exercises\n",
    "\n",
    "* [Generating Words from Names](https://edabit.com/challenge/sDvjdcBrbHoXKvDsZ)\n",
    "* [How Many Unique Styles?](https://edabit.com/challenge/AvP94XqJvPjoMk5PT)\n",
    "* [Encoded String Parse](https://edabit.com/challenge/7vN8ZRw43yuWNoy3Y)\n",
    "* [Count the Number of Duplicate Characters](https://edabit.com/challenge/zmbR8SKveCgJ6KB5G)"
   ]
  },
  {
   "cell_type": "markdown",
   "id": "diverse-sector",
   "metadata": {},
   "source": [
    "### Leetcode - maps - Missing Number\n",
    "\n",
    "* [Missing number](https://leetcode.com/problems/missing-number/description/)\n",
    "* [Replace words](https://leetcode.com/problems/replace-words/)"
   ]
  },
  {
   "cell_type": "markdown",
   "id": "fundamental-float",
   "metadata": {},
   "source": [
    "### Edabit - Odd One Out\n",
    "\n",
    "https://edabit.com/challenge/bpqfCQ7zumf5Ep24Z\n",
    "\n",
    "**ATTENZIONE: ci sono due modi per farlo: quello semplice è contare le frequenze con le hashmap ma richiede più memoria. Un modo alternativo più efficiente, ma più difficile, è usare solo con quattro variabili intere.**\n",
    "\n",
    "```\n",
    "              5       3      3      3        \n",
    "oddOneOut([\"silly\", \"mom\", \"let\", \"the\"]) ➞ true\n",
    "\n",
    "               6         5       6\n",
    "oddOneOut([\"swanky\", \"rhino\", \"moment\"]) ➞ true\n",
    "              \n",
    "             3      4        5\n",
    "oddOneOut([\"the\", \"them\", \"theme\"]) ➞ false\n",
    "\n",
    "              4      2    2      4\n",
    "oddOneOut([\"very\", \"to\", \"an\", \"some\"]) ➞ false\n",
    "            \n",
    "            1     2\n",
    "oddOneOut([\"a\", \"bc\"]) ➞ false\n",
    "\n",
    "\n",
    "            3       3      3       3       5 \n",
    "oddOneOut([\"dir\", \"dac\", \"inc\",  \"tra\", \"mondo\"]) ➞ false\n",
    "\n",
    "```\n",
    "\n",
    "\n",
    "Notes\n",
    "- The length of the array will always have at least three or more words.\n",
    "- It's enough to keep track of _two_ counts!"
   ]
  },
  {
   "cell_type": "markdown",
   "id": "loose-shirt",
   "metadata": {},
   "source": [
    "## Classes "
   ]
  },
  {
   "cell_type": "markdown",
   "id": "optional-venezuela",
   "metadata": {},
   "source": [
    "### CSAwesome practice units\n",
    "\n",
    "See class questions and exercises in CS awesomepractice units: [11](https://csawesome.runestone.academy/runestone/books/published/csawesome/Unit11-posttest/toctree.html), [12](https://csawesome.runestone.academy/runestone/books/published/csawesome/Tests/toctree.html), [13](https://csawesome.runestone.academy/runestone/books/published/csawesome/TimedTests/toctree.html), [14](https://csawesome.runestone.academy/runestone/books/published/csawesome/MixedFreeResponse/toctree.html), [15](https://csawesome.runestone.academy/runestone/books/published/csawesome/FreeResponse/toctree.html) .   \n",
    "\n",
    "Exercises types are mixed, you will have to browse a bit to find them.\n",
    "\n",
    "### Edabit - classes - CoffeeShop\n",
    "\n",
    "https://edabit.com/challenge/k3pg4uMgKcDA95sqb"
   ]
  },
  {
   "cell_type": "code",
   "execution_count": null,
   "id": "static-person",
   "metadata": {},
   "outputs": [],
   "source": []
  }
 ],
 "metadata": {
  "kernelspec": {
   "display_name": "Java",
   "language": "java",
   "name": "java"
  },
  "language_info": {
   "codemirror_mode": "java",
   "file_extension": ".jshell",
   "mimetype": "text/x-java-source",
   "name": "Java",
   "pygments_lexer": "java",
   "version": "15.0.2+7"
  },
  "toc": {
   "base_numbering": 1,
   "nav_menu": {},
   "number_sections": false,
   "sideBar": true,
   "skip_h1_title": false,
   "title_cell": "Table of Contents",
   "title_sidebar": "Contents",
   "toc_cell": false,
   "toc_position": {},
   "toc_section_display": true,
   "toc_window_display": true
  }
 },
 "nbformat": 4,
 "nbformat_minor": 5
}
