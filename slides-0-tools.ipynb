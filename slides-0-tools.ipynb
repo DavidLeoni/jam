{
 "cells": [
  {
   "cell_type": "raw",
   "metadata": {
    "raw_mimetype": "text/html",
    "slideshow": {
     "slide_type": "skip"
    }
   },
   "source": [
    "<link rel=\"stylesheet\" href=\"custom.css\" id=\"theme\">"
   ]
  },
  {
   "cell_type": "markdown",
   "metadata": {
    "slideshow": {
     "slide_type": "slide"
    }
   },
   "source": [
    "# UF 06: JAVA\n",
    "\n",
    "## Architecture and tools\n",
    "\n",
    "**Alta Formazione Professionale - ITT Marconi**\n",
    "\n",
    "**January 2021**"
   ]
  },
  {
   "cell_type": "markdown",
   "metadata": {
    "slideshow": {
     "slide_type": "slide"
    }
   },
   "source": [
    "## Why Java\n",
    "\n",
    "widely adopted"
   ]
  },
  {
   "cell_type": "markdown",
   "metadata": {
    "slideshow": {
     "slide_type": "fragment"
    }
   },
   "source": [
    "platform independent"
   ]
  },
  {
   "cell_type": "markdown",
   "metadata": {
    "slideshow": {
     "slide_type": "fragment"
    }
   },
   "source": [
    "web server, analytics, mobile (Android)"
   ]
  },
  {
   "cell_type": "markdown",
   "metadata": {
    "slideshow": {
     "slide_type": "slide"
    }
   },
   "source": [
    "## Java: many versions\n",
    "\n",
    "![java-versions.png](tools/img/java-versions.png)\n",
    "\n",
    "Source: [Wikipedia](https://en.wikipedia.org/wiki/Java_version_history)"
   ]
  },
  {
   "cell_type": "markdown",
   "metadata": {
    "slideshow": {
     "slide_type": "slide"
    }
   },
   "source": [
    "## Usage by version\n",
    "\n",
    "![java-usage-by-version.png](tools/img/java-usage-by-version.png)\n",
    "\n",
    "Source: [New Relic - State of Java](https://blog.newrelic.com/technology/state-of-java/)"
   ]
  },
  {
   "cell_type": "markdown",
   "metadata": {
    "slideshow": {
     "slide_type": "slide"
    }
   },
   "source": [
    "\n",
    "## Vendors\n",
    "\n",
    "![java-vendors.png](tools/img/java-vendors.png)\n",
    "\n",
    "Source: [New Relic - State of Java](https://blog.newrelic.com/technology/state-of-java/)"
   ]
  },
  {
   "cell_type": "markdown",
   "metadata": {
    "slideshow": {
     "slide_type": "slide"
    }
   },
   "source": [
    "## Which one?\n",
    "\n",
    "\n",
    "**at work**\n",
    "\n",
    "- _tried-and-tested_ _LTS_ versions (8, 11) \n",
    "- vendor: somebody to call when you have problems\n",
    "   "
   ]
  },
  {
   "cell_type": "markdown",
   "metadata": {
    "slideshow": {
     "slide_type": "fragment"
    }
   },
   "source": [
    "**in these classes**\n",
    "\n",
    "- _latest-and-greatest_ (v15 as of Jan 2021)\n",
    "- vendor: [AdoptOpenJDK](https://adoptopenjdk.net/)"
   ]
  },
  {
   "cell_type": "markdown",
   "metadata": {
    "slideshow": {
     "slide_type": "fragment"
    }
   },
   "source": [
    "**Selecting the right Java version / vendor is very important**\n",
    "\n",
    "Please read [Java Versions and Features by Marco Behler](https://www.marcobehler.com/guides/a-guide-to-java-versions-and-features)     \n",
    "\n"
   ]
  },
  {
   "cell_type": "markdown",
   "metadata": {
    "slideshow": {
     "slide_type": "slide"
    }
   },
   "source": [
    "## Java language\n",
    "\n",
    "object oriented"
   ]
  },
  {
   "cell_type": "markdown",
   "metadata": {
    "slideshow": {
     "slide_type": "fragment"
    }
   },
   "source": [
    "strongly typed"
   ]
  },
  {
   "cell_type": "markdown",
   "metadata": {
    "slideshow": {
     "slide_type": "fragment"
    }
   },
   "source": [
    "write once, run anywhere (WORA)"
   ]
  },
  {
   "cell_type": "markdown",
   "metadata": {
    "slideshow": {
     "slide_type": "fragment"
    }
   },
   "source": [
    "designed for writing large programs\n",
    "\n",
    "- lately also supports scripting ($\\geq$ Java 9)"
   ]
  },
  {
   "cell_type": "markdown",
   "metadata": {
    "slideshow": {
     "slide_type": "fragment"
    }
   },
   "source": [
    "imperative paradigm\n",
    "\n",
    "- lately also functional ($\\geq$ Java 8)"
   ]
  },
  {
   "cell_type": "markdown",
   "metadata": {
    "slideshow": {
     "slide_type": "fragment"
    }
   },
   "source": [
    "verbose\n",
    "\n",
    "- lately more concise, i.e. streams ($\\geq$ Java 8), records ($\\geq$ Java 14), ..."
   ]
  },
  {
   "cell_type": "markdown",
   "metadata": {
    "slideshow": {
     "slide_type": "slide"
    }
   },
   "source": [
    "## Architecture\n",
    "\n",
    "**Java is multiplatform**\n",
    "\n",
    "source code `.java`"
   ]
  },
  {
   "cell_type": "markdown",
   "metadata": {
    "slideshow": {
     "slide_type": "fragment"
    }
   },
   "source": [
    "bytecode  `.class`"
   ]
  },
  {
   "cell_type": "markdown",
   "metadata": {
    "slideshow": {
     "slide_type": "fragment"
    }
   },
   "source": [
    "java archive `.jar` (optional)"
   ]
  },
  {
   "cell_type": "markdown",
   "metadata": {
    "slideshow": {
     "slide_type": "fragment"
    }
   },
   "source": [
    "Java Runtime Environment (JRE) / Java Development Kit (JDK)\n",
    "\n",
    "- virtual machine (JVM)\n",
    "\n",
    "- JIT / AOT compilation"
   ]
  },
  {
   "cell_type": "markdown",
   "metadata": {
    "slideshow": {
     "slide_type": "fragment"
    }
   },
   "source": [
    "CPU code "
   ]
  },
  {
   "cell_type": "markdown",
   "metadata": {
    "slideshow": {
     "slide_type": "slide"
    }
   },
   "source": [
    "## Tools\n",
    "\n",
    "[Netbeans](https://netbeans.org/) \n",
    "\n",
    "- Desktop IDE\n",
    "- I installed the 12.2 version, supports latest Java 15 features\n",
    "- Maven build system natively supported"
   ]
  },
  {
   "cell_type": "markdown",
   "metadata": {
    "slideshow": {
     "slide_type": "fragment"
    }
   },
   "source": [
    "[repl.it](https://repl.it/)\n",
    "\n",
    "- online IDE\n",
    "- collaborative\n",
    "- supports Java 11 (as of Jan 2021)"
   ]
  },
  {
   "cell_type": "markdown",
   "metadata": {
    "slideshow": {
     "slide_type": "fragment"
    }
   },
   "source": [
    "[pythontutor.com/java.html](http://pythontutor.com/java.html#mode=edit) \n",
    "\n",
    "- online\n",
    "- visual debugger\n",
    "- supports Java 8 (as of Jan 2021)"
   ]
  },
  {
   "cell_type": "markdown",
   "metadata": {
    "slideshow": {
     "slide_type": "fragment"
    }
   },
   "source": [
    "### [other desktop IDEs](https://csawesome.runestone.academy/runestone/books/published/csawesome/Unit1-Getting-Started/javaIDEs.html):\n",
    "\n",
    "- Eclipse\n",
    "- IntelliJ\n",
    "- AndroidStudio (based on IntelliJ)"
   ]
  },
  {
   "cell_type": "markdown",
   "metadata": {
    "slideshow": {
     "slide_type": "slide"
    }
   },
   "source": [
    "### build systems\n",
    "\n",
    "Ant"
   ]
  },
  {
   "cell_type": "markdown",
   "metadata": {
    "slideshow": {
     "slide_type": "fragment"
    }
   },
   "source": [
    "Maven"
   ]
  },
  {
   "cell_type": "markdown",
   "metadata": {
    "slideshow": {
     "slide_type": "fragment"
    }
   },
   "source": [
    "Gradle"
   ]
  },
  {
   "cell_type": "markdown",
   "metadata": {
    "slideshow": {
     "slide_type": "fragment"
    }
   },
   "source": [
    "Bazel "
   ]
  },
  {
   "cell_type": "markdown",
   "metadata": {
    "slideshow": {
     "slide_type": "fragment"
    }
   },
   "source": [
    "..."
   ]
  },
  {
   "cell_type": "markdown",
   "metadata": {
    "slideshow": {
     "slide_type": "fragment"
    }
   },
   "source": [
    "Each IDE has its own and can optionally use others "
   ]
  },
  {
   "cell_type": "markdown",
   "metadata": {
    "slideshow": {
     "slide_type": "slide"
    }
   },
   "source": [
    "## Users and Groups - JAVA \n",
    "\n",
    "Write your REPL user here:\n",
    "\n",
    "### [Link](https://docs.google.com/spreadsheets/d/1BKLCfMLwS0hXR3bO8rAS-hd3bUPVWapY62jOr8DkBbw/edit#gid=0)"
   ]
  }
 ],
 "metadata": {
  "celltoolbar": "Slideshow",
  "kernelspec": {
   "display_name": "Java",
   "language": "java",
   "name": "java"
  },
  "language_info": {
   "codemirror_mode": "java",
   "file_extension": ".jshell",
   "mimetype": "text/x-java-source",
   "name": "Java",
   "pygments_lexer": "java",
   "version": "15.0.1+9"
  },
  "toc": {
   "base_numbering": 1,
   "nav_menu": {},
   "number_sections": false,
   "sideBar": true,
   "skip_h1_title": false,
   "title_cell": "Table of Contents",
   "title_sidebar": "Contents",
   "toc_cell": false,
   "toc_position": {},
   "toc_section_display": true,
   "toc_window_display": true
  }
 },
 "nbformat": 4,
 "nbformat_minor": 4
}
