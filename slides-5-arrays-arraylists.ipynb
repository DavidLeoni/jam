{
 "cells": [
  {
   "cell_type": "raw",
   "metadata": {
    "raw_mimetype": "text/html",
    "slideshow": {
     "slide_type": "notes"
    }
   },
   "source": [
    "<link rel=\"stylesheet\" href=\"custom.css\" id=\"theme\">"
   ]
  },
  {
   "cell_type": "markdown",
   "metadata": {
    "slideshow": {
     "slide_type": "slide"
    }
   },
   "source": [
    "\n",
    "# UF 06: JAVA\n",
    "\n",
    "## Arrays and ArrayLists\n",
    "\n",
    "**Alta Formazione Professionale - ITT Marconi**\n",
    "\n",
    "**February 2021**\n"
   ]
  },
  {
   "cell_type": "markdown",
   "metadata": {
    "slideshow": {
     "slide_type": "slide"
    }
   },
   "source": [
    "## [6.1. Array Creation and Access](https://csawesome.runestone.academy/runestone/books/published/csawesome/Unit6-Arrays/topic-6-1-array-basics.html)\n",
    "\n"
   ]
  },
  {
   "cell_type": "code",
   "execution_count": 1,
   "metadata": {
    "slideshow": {
     "slide_type": "-"
    }
   },
   "outputs": [],
   "source": [
    "int[] highScores = {5,2,7,8,2,4};"
   ]
  },
  {
   "cell_type": "markdown",
   "metadata": {
    "slideshow": {
     "slide_type": "-"
    }
   },
   "source": [
    "- sequence of contiguous elements"
   ]
  },
  {
   "cell_type": "markdown",
   "metadata": {
    "slideshow": {
     "slide_type": "fragment"
    }
   },
   "source": [
    "- fixed length"
   ]
  },
  {
   "cell_type": "markdown",
   "metadata": {
    "slideshow": {
     "slide_type": "fragment"
    }
   },
   "source": [
    "- primitive and references types"
   ]
  },
  {
   "cell_type": "markdown",
   "metadata": {
    "slideshow": {
     "slide_type": "fragment"
    }
   },
   "source": [
    "- mutable cells"
   ]
  },
  {
   "cell_type": "markdown",
   "metadata": {
    "slideshow": {
     "slide_type": "fragment"
    }
   },
   "source": [
    "- fast read / write"
   ]
  },
  {
   "cell_type": "markdown",
   "metadata": {
    "slideshow": {
     "slide_type": "fragment"
    }
   },
   "source": [
    "- access by index"
   ]
  },
  {
   "cell_type": "markdown",
   "metadata": {
    "slideshow": {
     "slide_type": "fragment"
    }
   },
   "source": [
    "- memory efficient"
   ]
  },
  {
   "cell_type": "markdown",
   "metadata": {
    "slideshow": {
     "slide_type": "slide"
    }
   },
   "source": [
    "1) Declaring and Creating an Array"
   ]
  },
  {
   "cell_type": "code",
   "execution_count": 2,
   "metadata": {
    "slideshow": {
     "slide_type": "-"
    }
   },
   "outputs": [],
   "source": [
    "int[] ratings;"
   ]
  },
  {
   "cell_type": "code",
   "execution_count": 3,
   "metadata": {
    "slideshow": {
     "slide_type": "fragment"
    }
   },
   "outputs": [
    {
     "name": "stdout",
     "output_type": "stream",
     "text": [
      "null\n"
     ]
    }
   ],
   "source": [
    "System.out.println(ratings);"
   ]
  },
  {
   "cell_type": "code",
   "execution_count": 4,
   "metadata": {
    "slideshow": {
     "slide_type": "fragment"
    }
   },
   "outputs": [
    {
     "data": {
      "text/plain": [
       "null"
      ]
     },
     "execution_count": 4,
     "metadata": {},
     "output_type": "execute_result"
    }
   ],
   "source": [
    "Arrays.toString(ratings)"
   ]
  },
  {
   "cell_type": "markdown",
   "metadata": {
    "slideshow": {
     "slide_type": "slide"
    }
   },
   "source": [
    "2) Using new to Create Arrays"
   ]
  },
  {
   "cell_type": "code",
   "execution_count": 5,
   "metadata": {
    "slideshow": {
     "slide_type": "-"
    }
   },
   "outputs": [],
   "source": [
    "ratings = new int[5];"
   ]
  },
  {
   "cell_type": "code",
   "execution_count": 6,
   "metadata": {
    "slideshow": {
     "slide_type": "fragment"
    }
   },
   "outputs": [
    {
     "name": "stdout",
     "output_type": "stream",
     "text": [
      "[I@7d86980e\n"
     ]
    }
   ],
   "source": [
    "System.out.println(ratings);"
   ]
  },
  {
   "cell_type": "code",
   "execution_count": 7,
   "metadata": {
    "slideshow": {
     "slide_type": "fragment"
    }
   },
   "outputs": [
    {
     "name": "stdout",
     "output_type": "stream",
     "text": [
      "[0, 0, 0, 0, 0]\n"
     ]
    }
   ],
   "source": [
    "System.out.println(Arrays.toString(ratings));"
   ]
  },
  {
   "cell_type": "code",
   "execution_count": 8,
   "metadata": {
    "slideshow": {
     "slide_type": "slide"
    }
   },
   "outputs": [],
   "source": [
    "String[] titles = new String[5];"
   ]
  },
  {
   "cell_type": "code",
   "execution_count": 9,
   "metadata": {
    "slideshow": {
     "slide_type": "fragment"
    }
   },
   "outputs": [
    {
     "name": "stdout",
     "output_type": "stream",
     "text": [
      "[null, null, null, null, null]\n"
     ]
    }
   ],
   "source": [
    "System.out.println(Arrays.toString(titles));"
   ]
  },
  {
   "cell_type": "code",
   "execution_count": 10,
   "metadata": {
    "slideshow": {
     "slide_type": "fragment"
    }
   },
   "outputs": [],
   "source": [
    "Integer[] durations = new Integer[5];  // boxed !"
   ]
  },
  {
   "cell_type": "code",
   "execution_count": 11,
   "metadata": {
    "slideshow": {
     "slide_type": "fragment"
    }
   },
   "outputs": [
    {
     "name": "stdout",
     "output_type": "stream",
     "text": [
      "[null, null, null, null, null]\n"
     ]
    }
   ],
   "source": [
    "System.out.println(Arrays.toString(durations));"
   ]
  },
  {
   "cell_type": "markdown",
   "metadata": {
    "slideshow": {
     "slide_type": "slide"
    }
   },
   "source": [
    "\n",
    "3) Initializer Lists to Create Arrays"
   ]
  },
  {
   "cell_type": "code",
   "execution_count": 12,
   "metadata": {
    "slideshow": {
     "slide_type": "-"
    }
   },
   "outputs": [],
   "source": [
    "String[] titles = {\"Robocop\", \"Alien\", \"Terminator\"};"
   ]
  },
  {
   "cell_type": "code",
   "execution_count": 13,
   "metadata": {
    "slideshow": {
     "slide_type": "fragment"
    }
   },
   "outputs": [
    {
     "name": "stdout",
     "output_type": "stream",
     "text": [
      "[Robocop, Alien, Terminator]\n"
     ]
    }
   ],
   "source": [
    "System.out.println(Arrays.toString(titles));"
   ]
  },
  {
   "cell_type": "markdown",
   "metadata": {
    "slideshow": {
     "slide_type": "fragment"
    }
   },
   "source": [
    "4) Array length"
   ]
  },
  {
   "cell_type": "code",
   "execution_count": 14,
   "metadata": {
    "slideshow": {
     "slide_type": "-"
    }
   },
   "outputs": [
    {
     "name": "stdout",
     "output_type": "stream",
     "text": [
      "3\n"
     ]
    }
   ],
   "source": [
    "System.out.println(titles.length)"
   ]
  },
  {
   "cell_type": "markdown",
   "metadata": {
    "slideshow": {
     "slide_type": "slide"
    }
   },
   "source": [
    "5) Access and Modify Array Values"
   ]
  },
  {
   "cell_type": "code",
   "execution_count": 15,
   "metadata": {
    "slideshow": {
     "slide_type": "-"
    }
   },
   "outputs": [
    {
     "name": "stdout",
     "output_type": "stream",
     "text": [
      "Robocop\n"
     ]
    }
   ],
   "source": [
    "System.out.println(titles[0]);"
   ]
  },
  {
   "cell_type": "code",
   "execution_count": 16,
   "metadata": {
    "slideshow": {
     "slide_type": "fragment"
    }
   },
   "outputs": [
    {
     "name": "stdout",
     "output_type": "stream",
     "text": [
      "b\n"
     ]
    }
   ],
   "source": [
    "System.out.println(titles[0].charAt(2));"
   ]
  },
  {
   "cell_type": "code",
   "execution_count": 17,
   "metadata": {
    "slideshow": {
     "slide_type": "fragment"
    }
   },
   "outputs": [
    {
     "data": {
      "text/plain": [
       "[Star Wars, Alien, Terminator]"
      ]
     },
     "execution_count": 17,
     "metadata": {},
     "output_type": "execute_result"
    }
   ],
   "source": [
    "titles[0] = \"Star Wars\";\n",
    "Arrays.toString(titles)"
   ]
  },
  {
   "cell_type": "code",
   "execution_count": 18,
   "metadata": {
    "slideshow": {
     "slide_type": "fragment"
    }
   },
   "outputs": [
    {
     "data": {
      "text/plain": [
       "[Star Wars, Space Cowboys, Back to the Future]"
      ]
     },
     "execution_count": 18,
     "metadata": {},
     "output_type": "execute_result"
    }
   ],
   "source": [
    "titles[1] = \"Space Cowboys\";\n",
    "titles[2] = \"Back to the Future\";\n",
    "Arrays.toString(titles);"
   ]
  },
  {
   "cell_type": "markdown",
   "metadata": {
    "slideshow": {
     "slide_type": "slide"
    }
   },
   "source": [
    "## What could possibly go wrong?"
   ]
  },
  {
   "cell_type": "markdown",
   "metadata": {
    "slideshow": {
     "slide_type": "fragment"
    }
   },
   "source": [
    "\n",
    "\n",
    "```java\n",
    "titles[3] = \"Apollo 13\";\n",
    "```"
   ]
  },
  {
   "cell_type": "markdown",
   "metadata": {
    "slideshow": {
     "slide_type": "fragment"
    }
   },
   "source": [
    "```\n",
    "---------------------------------------------------------------------------\n",
    "java.lang.ArrayIndexOutOfBoundsException: Index 3 out of bounds for length 3\n",
    "\tat .(#51:1)\n",
    "```"
   ]
  },
  {
   "cell_type": "markdown",
   "metadata": {
    "slideshow": {
     "slide_type": "fragment"
    }
   },
   "source": [
    "```java\n",
    "titles[-1] = \"Don't Open the Door\";\n",
    "```"
   ]
  },
  {
   "cell_type": "markdown",
   "metadata": {
    "slideshow": {
     "slide_type": "fragment"
    }
   },
   "source": [
    "```java\n",
    "---------------------------------------------------------------------------\n",
    "java.lang.ArrayIndexOutOfBoundsException: Index -1 out of bounds for length 3\n",
    "\tat .(#54:1)\n",
    "```\n"
   ]
  },
  {
   "cell_type": "markdown",
   "metadata": {
    "slideshow": {
     "slide_type": "fragment"
    }
   },
   "source": [
    "```java\n",
    "titles[1] = 666;\n",
    "\n",
    "|   titles[1] = 666;\n",
    "incompatible types: int cannot be converted to java.lang.String\n",
    "```"
   ]
  },
  {
   "cell_type": "markdown",
   "metadata": {
    "slideshow": {
     "slide_type": "slide"
    }
   },
   "source": [
    "## [6.2. Traversing Arrays with For Loops](https://csawesome.runestone.academy/runestone/books/published/csawesome/Unit6-Arrays/topic-6-2-traversing-arrays.html)\n",
    "\n",
    "1) Index Variables"
   ]
  },
  {
   "cell_type": "code",
   "execution_count": 19,
   "metadata": {
    "slideshow": {
     "slide_type": "-"
    }
   },
   "outputs": [
    {
     "name": "stdout",
     "output_type": "stream",
     "text": [
      "Robocop\n",
      "Alien\n",
      "Terminator\n",
      "Star Wars\n",
      "Back to the Future\n"
     ]
    }
   ],
   "source": [
    "String[] titles = {\"Robocop\", \"Alien\", \"Terminator\", \"Star Wars\", \"Back to the Future\"};\n",
    "\n",
    "for (int i = 0; i < titles.length; i++) {\n",
    "    System.out.println(  titles[i] );\n",
    "}"
   ]
  },
  {
   "cell_type": "markdown",
   "metadata": {
    "slideshow": {
     "slide_type": "slide"
    }
   },
   "source": [
    "## [6.3. Enhanced For-Loop (For-Each) for Arrays](https://csawesome.runestone.academy/runestone/books/published/csawesome/Unit6-Arrays/topic-6-3-arrays-with-foreach.html)"
   ]
  },
  {
   "cell_type": "code",
   "execution_count": 20,
   "metadata": {
    "slideshow": {
     "slide_type": "-"
    }
   },
   "outputs": [
    {
     "name": "stdout",
     "output_type": "stream",
     "text": [
      "Robocop\n",
      "Alien\n",
      "Terminator\n",
      "Star Wars\n",
      "Back to the Future\n"
     ]
    }
   ],
   "source": [
    "String[] titles = {\"Robocop\", \"Alien\", \"Terminator\", \"Star Wars\", \"Back to the Future\"};\n",
    "\n",
    "for (String s : titles) {\n",
    "    System.out.println( s );\n",
    "}"
   ]
  },
  {
   "cell_type": "markdown",
   "metadata": {
    "slideshow": {
     "slide_type": "slide"
    }
   },
   "source": [
    "## Mutating or not?"
   ]
  },
  {
   "cell_type": "markdown",
   "metadata": {
    "slideshow": {
     "slide_type": "-"
    }
   },
   "source": [
    "```java\n",
    "int[] years = {1987, 1079, 1984, 1977, 1985};\n",
    "\n",
    "for (int i=0; i < years.length; i++) {\n",
    "    years[i] + 100;\n",
    "}\n",
    " \n",
    "// System.out.println( Arrays.toString(years) );\n",
    "```"
   ]
  },
  {
   "cell_type": "code",
   "execution_count": 21,
   "metadata": {
    "slideshow": {
     "slide_type": "fragment"
    }
   },
   "outputs": [],
   "source": [
    "int[] years = {1987, 1079, 1984, 1977, 1985};\n",
    "\n",
    "for (int i=0; i < years.length; i++) {\n",
    "    years[i] = years[i] + 1000;\n",
    "}\n",
    " \n",
    "// System.out.println( Arrays.toString(years) );"
   ]
  },
  {
   "cell_type": "markdown",
   "metadata": {
    "slideshow": {
     "slide_type": "slide"
    }
   },
   "source": [
    "## Mutating or not?"
   ]
  },
  {
   "cell_type": "code",
   "execution_count": 22,
   "metadata": {
    "slideshow": {
     "slide_type": "-"
    }
   },
   "outputs": [],
   "source": [
    "int[] years = {1987, 1079, 1984, 1977, 1985};\n",
    "\n",
    "for (int y : years) {\n",
    "    y = y + 1000;\n",
    "}\n",
    " \n",
    "// System.out.println( Arrays.toString(years) );"
   ]
  },
  {
   "cell_type": "markdown",
   "metadata": {
    "slideshow": {
     "slide_type": "slide"
    }
   },
   "source": [
    "## Mutating or not? \n"
   ]
  },
  {
   "cell_type": "code",
   "execution_count": 23,
   "metadata": {
    "slideshow": {
     "slide_type": "-"
    }
   },
   "outputs": [],
   "source": [
    "String[] titles = {\"Robocop\", \"Alien\", \"Terminator\", \"Star Wars\", \"Back to the Future\"};\n",
    "\n",
    "for (String s : titles) {\n",
    "    s.toUpperCase();\n",
    "}\n",
    " \n",
    "// System.out.println( Arrays.toString(titles) );"
   ]
  },
  {
   "cell_type": "code",
   "execution_count": 24,
   "metadata": {
    "slideshow": {
     "slide_type": "fragment"
    }
   },
   "outputs": [],
   "source": [
    "String[] titles = {\"Robocop\", \"Alien\", \"Terminator\", \"Star Wars\", \"Back to the Future\"};\n",
    "\n",
    "for (String s : titles) {\n",
    "    s = s.toUpperCase();\n",
    "}\n",
    " \n",
    "// System.out.println( Arrays.toString(titles) );"
   ]
  },
  {
   "cell_type": "markdown",
   "metadata": {
    "slideshow": {
     "slide_type": "slide"
    }
   },
   "source": [
    "## Mutating or not? "
   ]
  },
  {
   "cell_type": "code",
   "execution_count": 25,
   "metadata": {
    "slideshow": {
     "slide_type": "-"
    }
   },
   "outputs": [],
   "source": [
    "String[] titles = {\"Robocop\", \"Alien\", \"Terminator\", \"Star Wars\", \"Back to the Future\"};\n",
    "\n",
    "for (String s : titles) {\n",
    "    s = \"BOH\";\n",
    "}\n",
    " \n",
    "// System.out.println( Arrays.toString(titles) ); "
   ]
  },
  {
   "cell_type": "markdown",
   "metadata": {
    "slideshow": {
     "slide_type": "slide"
    }
   },
   "source": [
    "## Mutating or not? \n"
   ]
  },
  {
   "cell_type": "code",
   "execution_count": 26,
   "metadata": {
    "slideshow": {
     "slide_type": "-"
    }
   },
   "outputs": [
    {
     "name": "stdout",
     "output_type": "stream",
     "text": [
      "[Fri Jul 17 00:00:00 CEST 1987, Fri May 24 00:00:00 CEST 1985, Thu Oct 25 00:00:00 CET 1984, Tue May 24 00:00:00 CEST 1977, Tue Jul 02 00:00:00 CEST 1985]\n",
      "\n"
     ]
    }
   ],
   "source": [
    "import java.util.Date;\n",
    "\n",
    "Date releases[] = { new Date(87, 6, 17), \n",
    "                    new Date(85, 4, 24), \n",
    "                    new Date(84, 9, 25), \n",
    "                    new Date(77, 4, 24),\n",
    "                    new Date(85, 6, 2)\n",
    "};\n",
    "\n",
    "System.out.println( Arrays.toString(releases) + '\\n');\n",
    "\n",
    "for (int i=0; i < releases.length; i++) {    \n",
    "    releases[i].setYear(releases[i].getYear() + 1000);\n",
    "}\n",
    "\n",
    "// System.out.println( Arrays.toString(releases) );  "
   ]
  },
  {
   "cell_type": "markdown",
   "metadata": {
    "slideshow": {
     "slide_type": "slide"
    }
   },
   "source": [
    "## Mutating or not? "
   ]
  },
  {
   "cell_type": "code",
   "execution_count": 27,
   "metadata": {
    "slideshow": {
     "slide_type": "-"
    }
   },
   "outputs": [
    {
     "name": "stdout",
     "output_type": "stream",
     "text": [
      "[Fri Jul 17 00:00:00 CEST 1987, Fri May 24 00:00:00 CEST 1985, Thu Oct 25 00:00:00 CET 1984, Tue May 24 00:00:00 CEST 1977, Tue Jul 02 00:00:00 CEST 1985]\n",
      "\n"
     ]
    }
   ],
   "source": [
    "Date releases[] = { new Date(87, 6, 17), \n",
    "                    new Date(85, 4, 24), \n",
    "                    new Date(84, 9, 25), \n",
    "                    new Date(77, 4, 24),\n",
    "                    new Date(85, 6, 2)\n",
    "};\n",
    "\n",
    "System.out.println( Arrays.toString(releases) + '\\n');\n",
    "\n",
    "for (Date d : releases) {    \n",
    "    d.setYear(d.getYear() + 1000);\n",
    "}\n",
    "\n",
    "// System.out.println( Arrays.toString(releases) );  "
   ]
  },
  {
   "cell_type": "markdown",
   "metadata": {
    "slideshow": {
     "slide_type": "slide"
    }
   },
   "source": [
    "## Can we use a `while`?"
   ]
  },
  {
   "cell_type": "code",
   "execution_count": 28,
   "metadata": {
    "slideshow": {
     "slide_type": "-"
    }
   },
   "outputs": [],
   "source": [
    "Date releases[] = { new Date(87, 6, 17), \n",
    "                    new Date(85, 4, 24), \n",
    "                    new Date(84, 9, 25), \n",
    "                    new Date(77, 4, 24),\n",
    "                    new Date(85, 6, 2)\n",
    "};\n",
    "\n",
    "\n",
    "int i=0;\n",
    "\n",
    "while (i < releases.length) {\n",
    "    \n",
    "    Date d = releases[i];\n",
    "    d.setYear(d.getYear() + 1000);\n",
    "    \n",
    "    i++;\n",
    "}\n",
    "\n",
    "// System.out.println( Arrays.toString(releases) );  "
   ]
  },
  {
   "cell_type": "markdown",
   "metadata": {
    "slideshow": {
     "slide_type": "slide"
    }
   },
   "source": [
    "## Mutating what?\n",
    "\n",
    "We want an array with 5 dates having consecutive years"
   ]
  },
  {
   "cell_type": "code",
   "execution_count": 29,
   "metadata": {
    "slideshow": {
     "slide_type": "-"
    }
   },
   "outputs": [],
   "source": [
    "Date releases[] = new Date[5];\n",
    "\n",
    "Date d = new Date();\n",
    "\n",
    "for (int i = 0; i < releases.length; i++){\n",
    "\n",
    "    d.setYear(80 + i); \n",
    "    d.setMonth(5);\n",
    "    d.setDate(10);   // sets the day\n",
    "\n",
    "    releases[i] = d;\n",
    "}\n",
    "\n",
    "// System.out.println( Arrays.toString(releases) );  "
   ]
  },
  {
   "cell_type": "markdown",
   "metadata": {
    "slideshow": {
     "slide_type": "slide"
    }
   },
   "source": [
    "## Exercise - Dungeon\n",
    "\n",
    "A knight explores a cavern in search of rare objects. As soon as he finds what he's looking for, he rejoices and goes back. We represent the `dungeon` as an array of strings. The variable `goal` holds the object to find. Write some code to PRINT the output.\n",
    "\n",
    "* **DO NOT** USE `break` !\n",
    "* The array may also *not* contain object to look for\n",
    "\n",
    "```java\n",
    "explore(\"the treasure\", \n",
    "        {\"a rock\",\"a trap\",\"some swords\", \"the treasure\",\"a spiderweb\", \"a bolete of the tombs\"})\n",
    "```\n",
    "```\n",
    "     Entering..\n",
    "     Found a rock\n",
    "     Found a trap\n",
    "     Found some swords\n",
    "     How lucky! I found a treasure.\n",
    "     Going back!     \n",
    "     Found some swords\n",
    "     Found a trap\n",
    "     Found a rock\n",
    "     Exiting..\n",
    "```"
   ]
  },
  {
   "cell_type": "markdown",
   "metadata": {
    "slideshow": {
     "slide_type": "slide"
    }
   },
   "source": [
    "\n",
    "```java\n",
    "explore(\"the talisman of power\", {\"a trap\",\"a bolete of the tombs\",\"a spiderweb\"});\n",
    "```\n",
    "```\n",
    "   Entering..\n",
    "   Found a trap\n",
    "   Found a bolete of the tombs\n",
    "   Found a spiderweb\n",
    "   Alas, there is no treasure!\n",
    "   Going back\n",
    "   Found a spiderweb\n",
    "   Found a bolete of the tombs\n",
    "   Found a trap\n",
    "   Exiting..\n",
    "```"
   ]
  },
  {
   "cell_type": "code",
   "execution_count": 30,
   "metadata": {
    "slideshow": {
     "slide_type": "fragment"
    }
   },
   "outputs": [],
   "source": [
    "String goal = \"the treasure\"; \n",
    "String[] dungeon = {\"a rock\",\"a trap\",\"some swords\",\"the treasure\",\"a spiderweb\", \"a bolete of the tombs\"};\n",
    "\n",
    "// goal = \"the talisman of power\";\n",
    "// String[] dungeon = {\"a trap\",\"a bolete of the tombs\",\"a spiderweb\"};\n",
    "\n",
    "// write here\n"
   ]
  },
  {
   "cell_type": "markdown",
   "metadata": {
    "slideshow": {
     "slide_type": "slide"
    }
   },
   "source": [
    "## [7.1. Intro to ArrayLists](https://csawesome.runestone.academy/runestone/books/published/csawesome/Unit7-ArrayList/topic-7-1-arraylist-basics.html)\n"
   ]
  },
  {
   "cell_type": "code",
   "execution_count": 31,
   "metadata": {
    "slideshow": {
     "slide_type": "-"
    }
   },
   "outputs": [
    {
     "name": "stdout",
     "output_type": "stream",
     "text": [
      "[Prince of Persia, Legend of Zelda, Monkey Island, Doom]\n"
     ]
    }
   ],
   "source": [
    "import java.util.ArrayList;\n",
    "\n",
    "ArrayList<String> videogames = new ArrayList();\n",
    "\n",
    "videogames.add(\"Prince of Persia\");\n",
    "videogames.add(\"Legend of Zelda\");\n",
    "videogames.add(\"Monkey Island\");\n",
    "videogames.add(\"Doom\");\n",
    "\n",
    "System.out.println(videogames);"
   ]
  },
  {
   "cell_type": "markdown",
   "metadata": {
    "slideshow": {
     "slide_type": "slide"
    }
   },
   "source": [
    "### mutable size"
   ]
  },
  {
   "cell_type": "markdown",
   "metadata": {
    "slideshow": {
     "slide_type": "-"
    }
   },
   "source": [
    "- fast append at the end"
   ]
  },
  {
   "cell_type": "markdown",
   "metadata": {
    "slideshow": {
     "slide_type": "fragment"
    }
   },
   "source": [
    "- fast remove from the end"
   ]
  },
  {
   "cell_type": "code",
   "execution_count": 32,
   "metadata": {
    "slideshow": {
     "slide_type": "-"
    }
   },
   "outputs": [
    {
     "data": {
      "text/plain": [
       "Doom"
      ]
     },
     "execution_count": 32,
     "metadata": {},
     "output_type": "execute_result"
    }
   ],
   "source": [
    "videogames.remove(3);   // removing from right end is fast"
   ]
  },
  {
   "cell_type": "code",
   "execution_count": 33,
   "metadata": {
    "slideshow": {
     "slide_type": "-"
    }
   },
   "outputs": [
    {
     "name": "stdout",
     "output_type": "stream",
     "text": [
      "[Prince of Persia, Legend of Zelda, Monkey Island]\n"
     ]
    }
   ],
   "source": [
    "System.out.println(videogames);"
   ]
  },
  {
   "cell_type": "markdown",
   "metadata": {
    "slideshow": {
     "slide_type": "slide"
    }
   },
   "source": [
    "### ArrayList: array or list? "
   ]
  },
  {
   "cell_type": "markdown",
   "metadata": {
    "slideshow": {
     "slide_type": "fragment"
    }
   },
   "source": [
    "Internally, it's more [like an array](https://hg.openjdk.java.net/jdk8/jdk8/jdk/file/tip/src/share/classes/java/util/ArrayList.java)"
   ]
  },
  {
   "cell_type": "markdown",
   "metadata": {
    "slideshow": {
     "slide_type": "slide"
    }
   },
   "source": [
    "### ArrayList: fast read/write at index"
   ]
  },
  {
   "cell_type": "code",
   "execution_count": 34,
   "metadata": {
    "slideshow": {
     "slide_type": "-"
    }
   },
   "outputs": [
    {
     "data": {
      "text/plain": [
       "Legend of Zelda"
      ]
     },
     "execution_count": 34,
     "metadata": {},
     "output_type": "execute_result"
    }
   ],
   "source": [
    "videogames.get(1)"
   ]
  },
  {
   "cell_type": "code",
   "execution_count": 35,
   "metadata": {
    "slideshow": {
     "slide_type": "fragment"
    }
   },
   "outputs": [
    {
     "data": {
      "text/plain": [
       "Legend of Zelda"
      ]
     },
     "execution_count": 35,
     "metadata": {},
     "output_type": "execute_result"
    }
   ],
   "source": [
    "videogames.set(1, \"Bubble bubble\");  // returns the removed element"
   ]
  },
  {
   "cell_type": "code",
   "execution_count": 36,
   "metadata": {
    "slideshow": {
     "slide_type": "-"
    }
   },
   "outputs": [
    {
     "name": "stdout",
     "output_type": "stream",
     "text": [
      "[Prince of Persia, Bubble bubble, Monkey Island]\n"
     ]
    }
   ],
   "source": [
    "System.out.println(videogames);"
   ]
  },
  {
   "cell_type": "markdown",
   "metadata": {
    "slideshow": {
     "slide_type": "slide"
    }
   },
   "source": [
    "## [7.2. ArrayList Methods](https://csawesome.runestone.academy/runestone/books/published/csawesome/Unit7-ArrayList/topic-7-2-arraylist-methods.html)\n",
    "\n",
    "```java\n",
    "videogames.size();   // 3\n",
    "```\n",
    "\n",
    "```java\n",
    "videogames.add(\"Street Fighter\", 1)`  // inserts at arbitrary position, slow!\n",
    "```"
   ]
  },
  {
   "cell_type": "markdown",
   "metadata": {
    "slideshow": {
     "slide_type": "slide"
    }
   },
   "source": [
    "###  search methods"
   ]
  },
  {
   "cell_type": "code",
   "execution_count": 37,
   "metadata": {
    "slideshow": {
     "slide_type": "fragment"
    }
   },
   "outputs": [
    {
     "data": {
      "text/plain": [
       "true"
      ]
     },
     "execution_count": 37,
     "metadata": {},
     "output_type": "execute_result"
    }
   ],
   "source": [
    "videogames.contains(\"Monkey Island\");"
   ]
  },
  {
   "cell_type": "code",
   "execution_count": 38,
   "metadata": {
    "slideshow": {
     "slide_type": "fragment"
    }
   },
   "outputs": [
    {
     "data": {
      "text/plain": [
       "2"
      ]
     },
     "execution_count": 38,
     "metadata": {},
     "output_type": "execute_result"
    }
   ],
   "source": [
    "videogames.indexOf(\"Monkey Island\");"
   ]
  },
  {
   "cell_type": "code",
   "execution_count": 39,
   "metadata": {
    "slideshow": {
     "slide_type": "fragment"
    }
   },
   "outputs": [
    {
     "data": {
      "text/plain": [
       "-1"
      ]
     },
     "execution_count": 39,
     "metadata": {},
     "output_type": "execute_result"
    }
   ],
   "source": [
    "videogames.indexOf(\"Gioco del pippero\");"
   ]
  },
  {
   "cell_type": "code",
   "execution_count": 40,
   "metadata": {
    "slideshow": {
     "slide_type": "fragment"
    }
   },
   "outputs": [
    {
     "data": {
      "text/plain": [
       "true"
      ]
     },
     "execution_count": 40,
     "metadata": {},
     "output_type": "execute_result"
    }
   ],
   "source": [
    "videogames.remove(\"Monkey Island\");    // only first occurrence !"
   ]
  },
  {
   "cell_type": "code",
   "execution_count": 41,
   "metadata": {
    "slideshow": {
     "slide_type": "fragment"
    }
   },
   "outputs": [
    {
     "name": "stdout",
     "output_type": "stream",
     "text": [
      "[Prince of Persia, Bubble bubble]\n"
     ]
    }
   ],
   "source": [
    "System.out.println(videogames);"
   ]
  },
  {
   "cell_type": "markdown",
   "metadata": {
    "slideshow": {
     "slide_type": "slide"
    }
   },
   "source": [
    "\n",
    "## ArrayList: TAKE AWAY ?\n",
    "\n",
    "* `videogames.remove(\"Monkey Island\");`\n",
    "\n",
    "* `videogames.remove(2);`\n",
    "\n",
    "* `videogames.remove(videogames.indexOf(\"Monkey Island\"));`"
   ]
  },
  {
   "cell_type": "markdown",
   "metadata": {
    "slideshow": {
     "slide_type": "slide"
    }
   },
   "source": [
    "## ArrayList: TAKE AWAY ?\n",
    "\n",
    "```java\n",
    "\n",
    "if (videogames.contains(\"Monkey Island\")){\n",
    "    videogames.remove(\"Monkey Island\");\n",
    "}    \n",
    "\n",
    "```"
   ]
  },
  {
   "cell_type": "markdown",
   "metadata": {
    "slideshow": {
     "slide_type": "slide"
    }
   },
   "source": [
    "## ArrayList: TAKE AWAY ?\n",
    "\n",
    "```java\n",
    "\n",
    "int i = videogames.indexOf(\"Monkey Island\");\n",
    "\n",
    "if (i != -1) {\n",
    "    videogames.remove(i);\n",
    "}  \n",
    "\n",
    "```"
   ]
  },
  {
   "cell_type": "markdown",
   "metadata": {
    "slideshow": {
     "slide_type": "slide"
    }
   },
   "source": [
    "\n",
    "## ArrayList: TAKE AWAY ?"
   ]
  },
  {
   "cell_type": "code",
   "execution_count": 42,
   "metadata": {
    "slideshow": {
     "slide_type": "-"
    }
   },
   "outputs": [
    {
     "name": "stdout",
     "output_type": "stream",
     "text": [
      "[Prince of Persia, Monkey Island, Legend of Zelda, Monkey Island, Doom]\n"
     ]
    }
   ],
   "source": [
    "import java.util.ArrayList;\n",
    "\n",
    "ArrayList<String> videogames = new ArrayList<String>();\n",
    "\n",
    "videogames.add(\"Prince of Persia\");\n",
    "videogames.add(\"Monkey Island\");\n",
    "videogames.add(\"Legend of Zelda\");\n",
    "videogames.add(\"Monkey Island\");\n",
    "videogames.add(\"Doom\");\n",
    "System.out.println(videogames);"
   ]
  },
  {
   "cell_type": "markdown",
   "metadata": {
    "slideshow": {
     "slide_type": "fragment"
    }
   },
   "source": [
    "```java\n",
    "videogames.remove(\"Monkey Island\");  \n",
    "videogames.remove(\"Monkey Island\");  \n",
    "videogames.remove(\"Monkey Island\");  \n",
    "\n",
    "System.out.println(videogames);\n",
    "```"
   ]
  },
  {
   "cell_type": "code",
   "execution_count": 43,
   "metadata": {
    "slideshow": {
     "slide_type": "fragment"
    }
   },
   "outputs": [
    {
     "name": "stdout",
     "output_type": "stream",
     "text": [
      "[Prince of Persia, Legend of Zelda, Doom]\n"
     ]
    }
   ],
   "source": [
    "videogames.remove(\"Monkey Island\");  // removes first occurrence\n",
    "videogames.remove(\"Monkey Island\");  // removes second\n",
    "\n",
    "videogames.remove(\"Monkey Island\");  // no third occurrence, doesn't explode\n",
    "\n",
    "System.out.println(videogames);"
   ]
  },
  {
   "cell_type": "markdown",
   "metadata": {
    "slideshow": {
     "slide_type": "slide"
    }
   },
   "source": [
    "## ArrayList: TAKE AWAY ?\n",
    "\n",
    "[7.3. Traversing ArrayLists with Loops](https://csawesome.runestone.academy/runestone/books/published/csawesome/Unit7-ArrayList/topic-7-3-arraylist-loops.html)\n",
    "\n",
    "\n",
    "```java\n",
    "\n",
    "for (String s : videogames){\n",
    "    if (\"Monkey Island\".equals(s)){\n",
    "        videogames.remove(s);\n",
    "    }\n",
    "}\n",
    "\n",
    "```\n"
   ]
  },
  {
   "cell_type": "markdown",
   "metadata": {
    "slideshow": {
     "slide_type": "fragment"
    }
   },
   "source": [
    "**Never remove nor add stuff to a sequence you are iterating with a** ***for each***\n",
    "\n",
    "```java\n",
    "\n",
    "---------------------------------------------------------------------------\n",
    "java.util.ConcurrentModificationException: null\n",
    "\tat java.base/java.util.ArrayList$Itr.checkForComodification(ArrayList.java:1013)\n",
    "\tat java.base/java.util.ArrayList$Itr.next(ArrayList.java:967)\n",
    "\tat .(#187:1)\n",
    "\n",
    "```"
   ]
  },
  {
   "cell_type": "markdown",
   "metadata": {
    "slideshow": {
     "slide_type": "slide"
    }
   },
   "source": [
    "## ArrayList: TAKE AWAY! Algorithmic"
   ]
  },
  {
   "cell_type": "code",
   "execution_count": 44,
   "metadata": {
    "slideshow": {
     "slide_type": "-"
    }
   },
   "outputs": [
    {
     "name": "stdout",
     "output_type": "stream",
     "text": [
      "[Prince of Persia, Legend of Zelda, Doom]\n"
     ]
    }
   ],
   "source": [
    "import java.util.ArrayList;\n",
    "ArrayList<String> videogames = new ArrayList<String>();\n",
    "videogames.add(\"Prince of Persia\");\n",
    "videogames.add(\"Monkey Island\");\n",
    "videogames.add(\"Legend of Zelda\");\n",
    "videogames.add(\"Monkey Island\");\n",
    "videogames.add(\"Doom\");\n",
    "\n",
    "int i = videogames.indexOf(\"Monkey Island\");\n",
    "\n",
    "while (i != -1) {\n",
    "    \n",
    "    videogames.remove(i);\n",
    "    \n",
    "    i = videogames.indexOf(\"Monkey Island\");\n",
    "}\n",
    "\n",
    "System.out.println(videogames);"
   ]
  },
  {
   "cell_type": "markdown",
   "metadata": {
    "slideshow": {
     "slide_type": "slide"
    }
   },
   "source": [
    "##  ArrayList: TAKE AWAY! Guru\n",
    "\n",
    "```java\n",
    "videogames.removeAll( Collections.singleton(\"MonkeyIsland\") );\n",
    "```"
   ]
  },
  {
   "cell_type": "markdown",
   "metadata": {
    "slideshow": {
     "slide_type": "slide"
    }
   },
   "source": [
    "## Need mutability?\n",
    "\n",
    "**What happens when you allow people to write on stuff you own?**"
   ]
  },
  {
   "cell_type": "markdown",
   "metadata": {
    "slideshow": {
     "slide_type": "fragment"
    }
   },
   "source": [
    "![graffiti1](lists/img/graffiti.jpg)"
   ]
  },
  {
   "cell_type": "markdown",
   "metadata": {
    "slideshow": {
     "slide_type": "slide"
    }
   },
   "source": [
    "## Don't need mutability? - 'unmodifiable' views"
   ]
  },
  {
   "cell_type": "markdown",
   "metadata": {
    "slideshow": {
     "slide_type": "-"
    }
   },
   "source": [
    "![fenced-house.jpg](lists/img/fenced-house.jpg)"
   ]
  },
  {
   "cell_type": "markdown",
   "metadata": {
    "slideshow": {
     "slide_type": "slide"
    }
   },
   "source": [
    "## Don't need mutability? - 'unmodifiable' views"
   ]
  },
  {
   "cell_type": "code",
   "execution_count": 45,
   "metadata": {
    "slideshow": {
     "slide_type": "-"
    }
   },
   "outputs": [
    {
     "data": {
      "text/plain": [
       "true"
      ]
     },
     "execution_count": 45,
     "metadata": {},
     "output_type": "execute_result"
    }
   ],
   "source": [
    "import java.util.ArrayList;\n",
    "ArrayList<String> videogames = new ArrayList();\n",
    "\n",
    "videogames.add(\"Prince of Persia\");\n",
    "videogames.add(\"Legend of Zelda\");\n",
    "videogames.add(\"Monkey Island\");"
   ]
  },
  {
   "cell_type": "code",
   "execution_count": 46,
   "metadata": {
    "slideshow": {
     "slide_type": "fragment"
    }
   },
   "outputs": [
    {
     "data": {
      "text/plain": [
       "Legend of Zelda"
      ]
     },
     "execution_count": 46,
     "metadata": {},
     "output_type": "execute_result"
    }
   ],
   "source": [
    "List<String> myView = Collections.unmodifiableList(videogames);\n",
    "\n",
    "myView.get(1);"
   ]
  },
  {
   "cell_type": "markdown",
   "metadata": {
    "slideshow": {
     "slide_type": "slide"
    }
   },
   "source": [
    "## Don't need mutability? - 'unmodifiable' views\n",
    "\n",
    "```java\n",
    "myView.add(\"Pong\");\n",
    "```"
   ]
  },
  {
   "cell_type": "markdown",
   "metadata": {
    "slideshow": {
     "slide_type": "fragment"
    }
   },
   "source": [
    "```java\n",
    "---------------------------------------------------------------------------\n",
    "java.lang.UnsupportedOperationException: null\n",
    "\tat java.base/java.util.Collections$UnmodifiableCollection.add(Collections.java:1062)\n",
    "\tat .(#282:1)\n",
    "\n",
    "```"
   ]
  },
  {
   "cell_type": "markdown",
   "metadata": {
    "slideshow": {
     "slide_type": "fragment"
    }
   },
   "source": [
    "**Beware you can still change original array!!!**"
   ]
  },
  {
   "cell_type": "code",
   "execution_count": 47,
   "metadata": {
    "slideshow": {
     "slide_type": "fragment"
    }
   },
   "outputs": [
    {
     "data": {
      "text/plain": [
       "true"
      ]
     },
     "execution_count": 47,
     "metadata": {},
     "output_type": "execute_result"
    }
   ],
   "source": [
    "videogames.add(\"Diablo\");"
   ]
  },
  {
   "cell_type": "code",
   "execution_count": 48,
   "metadata": {
    "slideshow": {
     "slide_type": "-"
    }
   },
   "outputs": [
    {
     "data": {
      "text/plain": [
       "[Prince of Persia, Legend of Zelda, Monkey Island, Diablo]"
      ]
     },
     "execution_count": 48,
     "metadata": {},
     "output_type": "execute_result"
    }
   ],
   "source": [
    "myView"
   ]
  },
  {
   "cell_type": "markdown",
   "metadata": {
    "slideshow": {
     "slide_type": "slide"
    }
   },
   "source": [
    "## Don't need mutability?  Java 9 style"
   ]
  },
  {
   "cell_type": "code",
   "execution_count": 49,
   "metadata": {
    "slideshow": {
     "slide_type": "-"
    }
   },
   "outputs": [
    {
     "data": {
      "text/plain": [
       "class java.util.ImmutableCollections$ListN"
      ]
     },
     "execution_count": 49,
     "metadata": {},
     "output_type": "execute_result"
    }
   ],
   "source": [
    "// Java 9\n",
    "\n",
    "List<String> computers = List.of(\"Apple II\", \"Commodore 64\",  \"Amiga 500\", \"486\");  \n",
    "\n",
    "computers.getClass();"
   ]
  },
  {
   "cell_type": "code",
   "execution_count": 50,
   "metadata": {
    "slideshow": {
     "slide_type": "fragment"
    }
   },
   "outputs": [
    {
     "data": {
      "text/plain": [
       "Commodore 64"
      ]
     },
     "execution_count": 50,
     "metadata": {},
     "output_type": "execute_result"
    }
   ],
   "source": [
    "computers.get(1);"
   ]
  },
  {
   "cell_type": "markdown",
   "metadata": {
    "slideshow": {
     "slide_type": "fragment"
    }
   },
   "source": [
    "\n",
    "```java\n",
    "computers.set(1, \"Vic 20\");\n",
    "\n",
    "---------------------------------------------------------------------------\n",
    "java.lang.UnsupportedOperationException: null\n",
    "\tat java.base/java.util.ImmutableCollections.uoe(ImmutableCollections.java:127)\n",
    "\tat java.base/java.util.ImmutableCollections$AbstractImmutableList.set(ImmutableCollections.java:160)\n",
    "\tat .(#252:1)\n",
    "\n",
    "\n",
    "```"
   ]
  },
  {
   "cell_type": "markdown",
   "metadata": {
    "slideshow": {
     "slide_type": "fragment"
    }
   },
   "source": [
    "- `ImmutableCollections`  "
   ]
  },
  {
   "cell_type": "markdown",
   "metadata": {
    "slideshow": {
     "slide_type": "fragment"
    }
   },
   "source": [
    "- thread safe"
   ]
  },
  {
   "cell_type": "markdown",
   "metadata": {
    "slideshow": {
     "slide_type": "fragment"
    }
   },
   "source": [
    "-  _very_ good for concurrent code !"
   ]
  },
  {
   "cell_type": "markdown",
   "metadata": {
    "slideshow": {
     "slide_type": "slide"
    }
   },
   "source": [
    "\n",
    "## Don't need mutability? Java 9 style from list"
   ]
  },
  {
   "cell_type": "code",
   "execution_count": 51,
   "metadata": {
    "slideshow": {
     "slide_type": "-"
    }
   },
   "outputs": [],
   "source": [
    "\n",
    "import java.util.ArrayList;\n",
    "ArrayList<String> videogames = new ArrayList();\n",
    "\n",
    "videogames.add(\"Prince of Persia\");\n",
    "videogames.add(\"Legend of Zelda\");\n",
    "videogames.add(\"Monkey Island\");\n",
    "\n",
    "\n",
    "// ugly new String[0] tells java the type ..\n",
    "\n",
    "List<String> imm = List.of(videogames.toArray(new String[0]));  \n"
   ]
  },
  {
   "cell_type": "markdown",
   "metadata": {
    "slideshow": {
     "slide_type": "fragment"
    }
   },
   "source": [
    "```java\n",
    "\n",
    "imm.add(\"Pong\");\n",
    "---------------------------------------------------------------------------\n",
    "java.lang.UnsupportedOperationException: null\n",
    "\tat java.base/java.util.ImmutableCollections.uoe(ImmutableCollections.java:127)\n",
    "\tat java.base/java.util.ImmutableCollections$AbstractImmutableCollection.add(ImmutableCollections.java:131)\n",
    "\tat .(#331:1)\n",
    "\n",
    "```"
   ]
  },
  {
   "cell_type": "code",
   "execution_count": 52,
   "metadata": {
    "slideshow": {
     "slide_type": "fragment"
    }
   },
   "outputs": [
    {
     "name": "stdout",
     "output_type": "stream",
     "text": [
      "[Prince of Persia, Legend of Zelda, Monkey Island, Diablo II]\n"
     ]
    }
   ],
   "source": [
    "videogames.add(\"Diablo II\");\n",
    "\n",
    "System.out.println(videogames); // changed"
   ]
  },
  {
   "cell_type": "code",
   "execution_count": 53,
   "metadata": {
    "slideshow": {
     "slide_type": "fragment"
    }
   },
   "outputs": [
    {
     "name": "stdout",
     "output_type": "stream",
     "text": [
      "[Prince of Persia, Legend of Zelda, Monkey Island]\n"
     ]
    }
   ],
   "source": [
    "System.out.println(imm);       // no change"
   ]
  },
  {
   "cell_type": "markdown",
   "metadata": {
    "slideshow": {
     "slide_type": "slide"
    }
   },
   "source": [
    "## Truly immutable ?\n"
   ]
  },
  {
   "cell_type": "code",
   "execution_count": 54,
   "metadata": {
    "slideshow": {
     "slide_type": "-"
    }
   },
   "outputs": [
    {
     "name": "stdout",
     "output_type": "stream",
     "text": [
      "[Wed Jun 01 00:00:00 CEST 1977, Sun Aug 01 00:00:00 CEST 1982, Wed Apr 01 00:00:00 CEST 1987]\n"
     ]
    }
   ],
   "source": [
    "import java.util.Date;\n",
    "\n",
    "List<String> computers = List.of(\"Apple II\",       \"Commodore 64\",      \"Amiga 500\");  \n",
    "    \n",
    "List<Date>   releases  = List.of(new Date(77,5,1), new Date(82,07,1),  new Date(87,03,1));\n",
    "\n",
    "System.out.println(releases);"
   ]
  },
  {
   "cell_type": "code",
   "execution_count": 55,
   "metadata": {
    "slideshow": {
     "slide_type": "fragment"
    }
   },
   "outputs": [
    {
     "name": "stdout",
     "output_type": "stream",
     "text": [
      "[Sun Jun 01 00:00:00 CEST 4977, Sun Aug 01 00:00:00 CEST 1982, Wed Apr 01 00:00:00 CEST 1987]\n"
     ]
    }
   ],
   "source": [
    "releases.get(0).setYear(3077);\n",
    "\n",
    "System.out.println(releases);"
   ]
  },
  {
   "cell_type": "markdown",
   "metadata": {
    "slideshow": {
     "slide_type": "slide"
    }
   },
   "source": [
    "## Truly immutable !\n"
   ]
  },
  {
   "cell_type": "code",
   "execution_count": 56,
   "metadata": {
    "slideshow": {
     "slide_type": "-"
    }
   },
   "outputs": [
    {
     "name": "stdout",
     "output_type": "stream",
     "text": [
      "[1977-06-01, 1982-08-01, 1987-04-01]\n"
     ]
    }
   ],
   "source": [
    "import java.time.LocalDate;   // java 8, good stuff\n",
    "\n",
    "List<LocalDate> releases = List.of(LocalDate.of(1977, 6, 1), \n",
    "                                   LocalDate.of(1982, 8, 1), \n",
    "                                   LocalDate.of(1987, 4, 1));\n",
    "\n",
    "//releases.get(0).setYear(3077)  // impossible !\n",
    "\n",
    "System.out.println(releases);"
   ]
  },
  {
   "cell_type": "markdown",
   "metadata": {
    "slideshow": {
     "slide_type": "slide"
    }
   },
   "source": [
    "## Prefer immutable stuff if you:\n",
    "\n",
    "- use it in many places"
   ]
  },
  {
   "cell_type": "markdown",
   "metadata": {
    "slideshow": {
     "slide_type": "fragment"
    }
   },
   "source": [
    "- small data structure"
   ]
  },
  {
   "cell_type": "markdown",
   "metadata": {
    "slideshow": {
     "slide_type": "fragment"
    }
   },
   "source": [
    "* you have concurrent threads"
   ]
  },
  {
   "cell_type": "markdown",
   "metadata": {
    "slideshow": {
     "slide_type": "fragment"
    }
   },
   "source": [
    "- pass it to untrusted people (your collegues...)"
   ]
  },
  {
   "cell_type": "markdown",
   "metadata": {
    "slideshow": {
     "slide_type": "fragment"
    }
   },
   "source": [
    "- don't have to change it too often"
   ]
  },
  {
   "cell_type": "markdown",
   "metadata": {
    "slideshow": {
     "slide_type": "slide"
    }
   },
   "source": [
    "## Immutability downsides\n",
    "\n",
    "- java is historically mutability-oriented"
   ]
  },
  {
   "cell_type": "markdown",
   "metadata": {
    "slideshow": {
     "slide_type": "fragment"
    }
   },
   "source": [
    "- reconstructing objects from file may be hard\n"
   ]
  },
  {
   "cell_type": "markdown",
   "metadata": {
    "slideshow": {
     "slide_type": "fragment"
    }
   },
   "source": [
    "- not all your colleagues may like it"
   ]
  },
  {
   "cell_type": "markdown",
   "metadata": {
    "slideshow": {
     "slide_type": "slide"
    }
   },
   "source": [
    "## Exercise: Travelbook\n",
    "\n",
    "Suppose you visited the attic and found a stack of books, which we represent as a list of strings. Each string is prefixed by a label of one character indicating the category (`D` for Detective story, `T` for Travel, `H` for History)\n",
    "\n",
    "Since we are passionate about travel books, we want to examine stack one book at a time to transfer books into another pile we call ŧravel, which at the beginning is empty. We start from the top book in stack, and transfer into travel only the books starting with the label `T` like (`\"T-Australia\"`)\n",
    "\n",
    "The non-travel books are not interesting and must be discarded."
   ]
  },
  {
   "cell_type": "code",
   "execution_count": 57,
   "metadata": {
    "slideshow": {
     "slide_type": "-"
    }
   },
   "outputs": [],
   "source": [
    "public static void travelbook(){\n",
    "    ArrayList<String> stack = new ArrayList();\n",
    "    stack.add(\"H-Middle Ages\");   // <---- bottom\n",
    "    stack.add(\"T-Australia\");\n",
    "    stack.add(\"T-Scotland\");\n",
    "    stack.add(\"D-Suspects\");\n",
    "    stack.add(\"T-Caribbean\");     // <---- top\n",
    "\n",
    "    ArrayList<String> travel = new ArrayList();\n",
    "}"
   ]
  },
  {
   "cell_type": "markdown",
   "metadata": {
    "slideshow": {
     "slide_type": "slide"
    }
   },
   "source": [
    "Write some code that produces the following print:\n",
    "\n",
    "```\n",
    "At the beginning:\n",
    "    stack:   [\"H-Middle Ages\", \"T-Australia\", \"T-Scotland\", \"D-Suspects\", \"T-Caribbean\"]\n",
    "    travel: []\n",
    "Taken T-Caribbean\n",
    "    stack:   [\"H-Middle Ages\", \"T-Australia\", \"T-Scotland\", \"D-Suspects\"]\n",
    "    travel: [\"T-Caribbean\"]\n",
    "Discarded D-Suspects\n",
    "    stack:   [\"H-Middle Ages\", \"T-Australia\", \"T-Scotland\"]\n",
    "    travel: [\"T-Caribbean\"]\n",
    "Taken T-Scotland\n",
    "    stack:   [\"H-Middle Ages\", \"T-Australia\"]\n",
    "    travel: [\"T-Caribbean\", \"T-Scotland\"]\n",
    "Taken T-Australia\n",
    "    stack:   [\"H-Middle Ages\"]\n",
    "    travel: [\"T-Caribbean\", \"T-Scotland\", \"T-Australia\"]\n",
    "Discarded H-Middle Ages\n",
    "    stack:   []\n",
    "    travel: [\"T-Caribbean\", \"T-Scotland\", \"T-Australia\"]\n",
    "```"
   ]
  },
  {
   "cell_type": "markdown",
   "metadata": {
    "slideshow": {
     "slide_type": "slide"
    }
   },
   "source": [
    "## Exercise - Bang!\n",
    "\n",
    "There are two stacks of objects `right_stack` and `left_stack` which we represent as lists of strings. A cowboy shoots the objects at the top of the stacks, alternating the stack at each shoot. The cowboy always hits the target, so each shot decreases a stack.\n",
    "\n",
    "- Suppose the objects on top are the ones at the end of the list\n",
    "- To keep track of which stack to hit, use a variable shoot holding either `\"R\"` or `\"L\"` character\n",
    "- After each shot the cowboy if possible changes the stack , otherwise keeps shooting at the same stack until it’s empty.\n",
    "- your code must work for any stack and initial shot\n",
    "\n",
    "**Example - given:**"
   ]
  },
  {
   "cell_type": "code",
   "execution_count": 58,
   "metadata": {
    "slideshow": {
     "slide_type": "-"
    }
   },
   "outputs": [],
   "source": [
    "public static void bang(){     \n",
    "    ArrayList<String> left_stack = new ArrayList();\n",
    "    left_stack.add(\"box\");\n",
    "    left_stack.add(\"boot\");\n",
    "    left_stack.add(\"horseshoe\");\n",
    "    left_stack.add(\"bucket\");\n",
    "\n",
    "    ArrayList<String> right_stack = new ArrayList();\n",
    "    left_stack.add(\"bin\");\n",
    "    left_stack.add(\"saddle\");\n",
    "    left_stack.add(\"tin can\");\n",
    "    \n",
    "    String shoot = \"R\";\n",
    "    \n",
    "    // write here\n",
    "}"
   ]
  },
  {
   "cell_type": "markdown",
   "metadata": {
    "slideshow": {
     "slide_type": "slide"
    }
   },
   "source": [
    "\n",
    "after your code, it must print:\n",
    "\n",
    "```\n",
    "Ready?\n",
    "   left_stack: [\"box\", \"boot\", \"horseshoe\", \"bucket\"]\n",
    "  right_stack: [\"bin\", \"saddle\", \"tin can\"]\n",
    "BANG! right:  tin can\n",
    "   left_stack: [\"box\", \"boot\", \"horseshoe\", \"bucket\"]\n",
    "  right_stack: [\"bin\", \"saddle\"]\n",
    "BANG! left:   bucket\n",
    "   left_stack: [\"box\", \"boot\", \"horseshoe\"]\n",
    "  right_stack: [\"bin\", \"saddle\"]\n",
    "BANG! right:  saddle\n",
    "   left_stack: [\"box\", \"boot\", \"horseshoe\"]\n",
    "  right_stack: [\"bin\"]\n",
    "BANG! left:   horseshoe\n",
    "   left_stack: [\"box\", \"boot\"]\n",
    "  right_stack: [\"bin\"]\n",
    "BANG! right:  bin\n",
    "   left_stack: [\"box\", \"boot\"]\n",
    "  right_stack: []\n",
    "BANG! left:   boot\n",
    "   left_stack: [\"box\"]\n",
    "  right_stack: []\n",
    "Nothing to shoot on the right!\n",
    "   left_stack: [\"box\"]\n",
    "  right_stack: []\n",
    "BANG! left:   box\n",
    "   left_stack: []\n",
    "  right_stack: []\n",
    "```"
   ]
  },
  {
   "cell_type": "markdown",
   "metadata": {
    "slideshow": {
     "slide_type": "slide"
    }
   },
   "source": [
    "## [7.4. ArrayList Algorithms](https://csawesome.runestone.academy/runestone/books/published/csawesome/Unit7-ArrayList/topic-7-4-arraylist-algorithms.html)\n",
    "\n",
    "1) Free Response - String Scramble B\n",
    "\n",
    "2) Free Response - Climbing Club A\n",
    "\n",
    "3) Free Response - Climbing Club B\n",
    "\n",
    "\n",
    "4) Free Response - Climbing Club C\n",
    "\n",
    "5) Free Response - CookieOrder A\n",
    "\n",
    "6) Free Response - CookieOrder B\n",
    "\n",
    "7) Free Response - StringFormatter A\n",
    "\n",
    "8) Free Response - StringFormatter B\n",
    "\n",
    "9) Free Response - Delimiters A\n",
    "\n",
    "10) Free Response - Delimiters B\n",
    "\n",
    "11) Free Response - Grid World A (Not Complete)\n"
   ]
  },
  {
   "cell_type": "markdown",
   "metadata": {
    "slideshow": {
     "slide_type": "slide"
    }
   },
   "source": [
    "## [7.5. Searching Algorithms]()\n",
    "\n",
    "1) Sequential Search\n",
    "\n",
    "2) Binary Search\n",
    "\n",
    "3) Runtimes\n",
    "\n",
    "4) Programming Challenge : Search Runtimes\n",
    "\n",
    "5) Summary\n"
   ]
  },
  {
   "cell_type": "markdown",
   "metadata": {
    "slideshow": {
     "slide_type": "slide"
    }
   },
   "source": [
    "## [7.6. Sorting Algorithms](https://csawesome.runestone.academy/runestone/books/published/csawesome/Unit7-ArrayList/topic-7-6-sorting.html) - SKIP IT !\n",
    "\n",
    "1) Selection Sort  no\n",
    "2) Insertion Sort  no\n",
    "3) Programming Challenge : Sort Runtimes no\n"
   ]
  },
  {
   "cell_type": "markdown",
   "metadata": {
    "slideshow": {
     "slide_type": "slide"
    }
   },
   "source": [
    "## [7.7. Ethics of Data Collection and Data Privacy](https://csawesome.runestone.academy/runestone/books/published/csawesome/Unit7-ArrayList/topic-7-7-data-ethics.html) - SKIP IT !\n",
    "\n",
    "\n",
    "1) POGIL Groupwork: Data Privacy\n",
    "\n",
    "2) Summary\n"
   ]
  }
 ],
 "metadata": {
  "celltoolbar": "Slideshow",
  "kernelspec": {
   "display_name": "Java",
   "language": "java",
   "name": "java"
  },
  "language_info": {
   "codemirror_mode": "java",
   "file_extension": ".jshell",
   "mimetype": "text/x-java-source",
   "name": "Java",
   "pygments_lexer": "java",
   "version": "15.0.2+7"
  },
  "toc": {
   "base_numbering": 1,
   "nav_menu": {},
   "number_sections": false,
   "sideBar": true,
   "skip_h1_title": false,
   "title_cell": "Table of Contents",
   "title_sidebar": "Contents",
   "toc_cell": false,
   "toc_position": {},
   "toc_section_display": true,
   "toc_window_display": true
  }
 },
 "nbformat": 4,
 "nbformat_minor": 4
}
