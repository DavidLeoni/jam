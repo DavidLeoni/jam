{
 "cells": [
  {
   "cell_type": "raw",
   "metadata": {
    "raw_mimetype": "text/html",
    "slideshow": {
     "slide_type": "notes"
    }
   },
   "source": [
    "<link rel=\"stylesheet\" href=\"custom.css\" id=\"theme\">"
   ]
  },
  {
   "cell_type": "markdown",
   "metadata": {
    "slideshow": {
     "slide_type": "slide"
    }
   },
   "source": [
    "\n",
    "# UF 06: JAVA\n",
    "\n",
    "## Arrays and ArrayLists\n",
    "\n",
    "**Alta Formazione Professionale - ITT Marconi**\n",
    "\n",
    "**February 2021**\n"
   ]
  },
  {
   "cell_type": "markdown",
   "metadata": {
    "slideshow": {
     "slide_type": "slide"
    }
   },
   "source": [
    "## [6.1. Array Creation and Access](https://csawesome.runestone.academy/runestone/books/published/csawesome/Unit6-Arrays/topic-6-1-array-basics.html)\n",
    "\n",
    "- sequence of contiguous elements\n",
    "- fixed length\n",
    "- primitive and references types\n",
    "- mutable cells\n",
    "- fast read / write\n",
    "- access by index\n",
    "- memory efficient"
   ]
  },
  {
   "cell_type": "markdown",
   "metadata": {
    "slideshow": {
     "slide_type": "slide"
    }
   },
   "source": [
    "1) Declaring and Creating an Array"
   ]
  },
  {
   "cell_type": "code",
   "execution_count": 1,
   "metadata": {
    "slideshow": {
     "slide_type": "-"
    }
   },
   "outputs": [],
   "source": [
    "int[] ratings;"
   ]
  },
  {
   "cell_type": "code",
   "execution_count": 2,
   "metadata": {
    "slideshow": {
     "slide_type": "fragment"
    }
   },
   "outputs": [
    {
     "name": "stdout",
     "output_type": "stream",
     "text": [
      "null\n"
     ]
    }
   ],
   "source": [
    "System.out.println(ratings);"
   ]
  },
  {
   "cell_type": "code",
   "execution_count": 3,
   "metadata": {
    "slideshow": {
     "slide_type": "fragment"
    }
   },
   "outputs": [
    {
     "data": {
      "text/plain": [
       "null"
      ]
     },
     "execution_count": 3,
     "metadata": {},
     "output_type": "execute_result"
    }
   ],
   "source": [
    "Arrays.toString(ratings)"
   ]
  },
  {
   "cell_type": "markdown",
   "metadata": {
    "slideshow": {
     "slide_type": "slide"
    }
   },
   "source": [
    "2) Using new to Create Arrays"
   ]
  },
  {
   "cell_type": "code",
   "execution_count": 4,
   "metadata": {
    "slideshow": {
     "slide_type": "-"
    }
   },
   "outputs": [],
   "source": [
    "ratings = new int[5];"
   ]
  },
  {
   "cell_type": "code",
   "execution_count": 5,
   "metadata": {
    "slideshow": {
     "slide_type": "fragment"
    }
   },
   "outputs": [
    {
     "name": "stdout",
     "output_type": "stream",
     "text": [
      "[I@208d299\n"
     ]
    }
   ],
   "source": [
    "System.out.println(ratings);"
   ]
  },
  {
   "cell_type": "code",
   "execution_count": 6,
   "metadata": {
    "slideshow": {
     "slide_type": "fragment"
    }
   },
   "outputs": [
    {
     "name": "stdout",
     "output_type": "stream",
     "text": [
      "[0, 0, 0, 0, 0]\n"
     ]
    }
   ],
   "source": [
    "System.out.println(Arrays.toString(ratings));"
   ]
  },
  {
   "cell_type": "code",
   "execution_count": 7,
   "metadata": {
    "slideshow": {
     "slide_type": "slide"
    }
   },
   "outputs": [],
   "source": [
    "String[] titles = new String[5];"
   ]
  },
  {
   "cell_type": "code",
   "execution_count": 8,
   "metadata": {
    "slideshow": {
     "slide_type": "fragment"
    }
   },
   "outputs": [
    {
     "name": "stdout",
     "output_type": "stream",
     "text": [
      "[null, null, null, null, null]\n"
     ]
    }
   ],
   "source": [
    "System.out.println(Arrays.toString(titles));"
   ]
  },
  {
   "cell_type": "code",
   "execution_count": 9,
   "metadata": {
    "slideshow": {
     "slide_type": "fragment"
    }
   },
   "outputs": [],
   "source": [
    "Integer[] durations = new Integer[5];  // boxed !"
   ]
  },
  {
   "cell_type": "code",
   "execution_count": 10,
   "metadata": {
    "slideshow": {
     "slide_type": "fragment"
    }
   },
   "outputs": [
    {
     "name": "stdout",
     "output_type": "stream",
     "text": [
      "[null, null, null, null, null]\n"
     ]
    }
   ],
   "source": [
    "System.out.println(Arrays.toString(durations));"
   ]
  },
  {
   "cell_type": "markdown",
   "metadata": {
    "slideshow": {
     "slide_type": "slide"
    }
   },
   "source": [
    "\n",
    "3) Initializer Lists to Create Arrays"
   ]
  },
  {
   "cell_type": "code",
   "execution_count": 11,
   "metadata": {
    "slideshow": {
     "slide_type": "-"
    }
   },
   "outputs": [],
   "source": [
    "String[] titles = {\"Robocop\", \"Alien\", \"Terminator\"};"
   ]
  },
  {
   "cell_type": "code",
   "execution_count": 12,
   "metadata": {
    "slideshow": {
     "slide_type": "fragment"
    }
   },
   "outputs": [
    {
     "name": "stdout",
     "output_type": "stream",
     "text": [
      "[Robocop, Alien, Terminator]\n"
     ]
    }
   ],
   "source": [
    "System.out.println(Arrays.toString(titles));"
   ]
  },
  {
   "cell_type": "markdown",
   "metadata": {
    "slideshow": {
     "slide_type": "fragment"
    }
   },
   "source": [
    "4) Array length"
   ]
  },
  {
   "cell_type": "code",
   "execution_count": 13,
   "metadata": {
    "slideshow": {
     "slide_type": "-"
    }
   },
   "outputs": [
    {
     "name": "stdout",
     "output_type": "stream",
     "text": [
      "3\n"
     ]
    }
   ],
   "source": [
    "System.out.println(titles.length)"
   ]
  },
  {
   "cell_type": "markdown",
   "metadata": {
    "slideshow": {
     "slide_type": "slide"
    }
   },
   "source": [
    "5) Access and Modify Array Values"
   ]
  },
  {
   "cell_type": "code",
   "execution_count": 14,
   "metadata": {
    "slideshow": {
     "slide_type": "-"
    }
   },
   "outputs": [
    {
     "name": "stdout",
     "output_type": "stream",
     "text": [
      "Robocop\n"
     ]
    }
   ],
   "source": [
    "System.out.println(titles[0]);"
   ]
  },
  {
   "cell_type": "code",
   "execution_count": 15,
   "metadata": {
    "slideshow": {
     "slide_type": "fragment"
    }
   },
   "outputs": [
    {
     "name": "stdout",
     "output_type": "stream",
     "text": [
      "b\n"
     ]
    }
   ],
   "source": [
    "System.out.println(titles[0].charAt(2));"
   ]
  },
  {
   "cell_type": "code",
   "execution_count": 16,
   "metadata": {
    "slideshow": {
     "slide_type": "fragment"
    }
   },
   "outputs": [
    {
     "data": {
      "text/plain": [
       "[Star Wars, Alien, Terminator]"
      ]
     },
     "execution_count": 16,
     "metadata": {},
     "output_type": "execute_result"
    }
   ],
   "source": [
    "titles[0] = \"Star Wars\";\n",
    "Arrays.toString(titles)"
   ]
  },
  {
   "cell_type": "code",
   "execution_count": 17,
   "metadata": {
    "slideshow": {
     "slide_type": "fragment"
    }
   },
   "outputs": [
    {
     "data": {
      "text/plain": [
       "[Star Wars, Space Cowboys, Back to the Future]"
      ]
     },
     "execution_count": 17,
     "metadata": {},
     "output_type": "execute_result"
    }
   ],
   "source": [
    "titles[1] = \"Space Cowboys\";\n",
    "titles[2] = \"Back to the Future\";\n",
    "Arrays.toString(titles);"
   ]
  },
  {
   "cell_type": "markdown",
   "metadata": {
    "slideshow": {
     "slide_type": "slide"
    }
   },
   "source": [
    "## What could possibly go wrong?"
   ]
  },
  {
   "cell_type": "markdown",
   "metadata": {
    "slideshow": {
     "slide_type": "fragment"
    }
   },
   "source": [
    "\n",
    "\n",
    "```java\n",
    "titles[3] = \"Apollo 13\";\n",
    "```"
   ]
  },
  {
   "cell_type": "markdown",
   "metadata": {
    "slideshow": {
     "slide_type": "fragment"
    }
   },
   "source": [
    "```\n",
    "---------------------------------------------------------------------------\n",
    "java.lang.ArrayIndexOutOfBoundsException: Index 3 out of bounds for length 3\n",
    "\tat .(#51:1)\n",
    "```"
   ]
  },
  {
   "cell_type": "markdown",
   "metadata": {
    "slideshow": {
     "slide_type": "fragment"
    }
   },
   "source": [
    "```java\n",
    "titles[-1] = \"Don't Open the Door\";\n",
    "```"
   ]
  },
  {
   "cell_type": "markdown",
   "metadata": {
    "slideshow": {
     "slide_type": "fragment"
    }
   },
   "source": [
    "```java\n",
    "---------------------------------------------------------------------------\n",
    "java.lang.ArrayIndexOutOfBoundsException: Index -1 out of bounds for length 3\n",
    "\tat .(#54:1)\n",
    "```\n"
   ]
  },
  {
   "cell_type": "markdown",
   "metadata": {
    "slideshow": {
     "slide_type": "fragment"
    }
   },
   "source": [
    "```java\n",
    "titles[1] = 666;\n",
    "\n",
    "|   titles[1] = 666;\n",
    "incompatible types: int cannot be converted to java.lang.String\n",
    "```"
   ]
  },
  {
   "cell_type": "markdown",
   "metadata": {
    "slideshow": {
     "slide_type": "slide"
    }
   },
   "source": [
    "## [6.2. Traversing Arrays with For Loops](https://csawesome.runestone.academy/runestone/books/published/csawesome/Unit6-Arrays/topic-6-2-traversing-arrays.html)\n",
    "\n",
    "1) Index Variables"
   ]
  },
  {
   "cell_type": "code",
   "execution_count": 18,
   "metadata": {
    "slideshow": {
     "slide_type": "-"
    }
   },
   "outputs": [
    {
     "name": "stdout",
     "output_type": "stream",
     "text": [
      "Robocop\n",
      "Alien\n",
      "Terminator\n",
      "Star Wars\n",
      "Back to the Future\n"
     ]
    }
   ],
   "source": [
    "String[] titles = {\"Robocop\", \"Alien\", \"Terminator\", \"Star Wars\", \"Back to the Future\"};\n",
    "\n",
    "for (int i = 0; i < titles.length; i++) {\n",
    "    System.out.println(  titles[i] );\n",
    "}"
   ]
  },
  {
   "cell_type": "markdown",
   "metadata": {
    "slideshow": {
     "slide_type": "slide"
    }
   },
   "source": [
    "## [6.3. Enhanced For-Loop (For-Each) for Arrays](https://csawesome.runestone.academy/runestone/books/published/csawesome/Unit6-Arrays/topic-6-3-arrays-with-foreach.html)"
   ]
  },
  {
   "cell_type": "code",
   "execution_count": 19,
   "metadata": {
    "slideshow": {
     "slide_type": "-"
    }
   },
   "outputs": [
    {
     "name": "stdout",
     "output_type": "stream",
     "text": [
      "Robocop\n",
      "Alien\n",
      "Terminator\n",
      "Star Wars\n",
      "Back to the Future\n"
     ]
    }
   ],
   "source": [
    "String[] titles = {\"Robocop\", \"Alien\", \"Terminator\", \"Star Wars\", \"Back to the Future\"};\n",
    "\n",
    "for (String s : titles) {\n",
    "    System.out.println( s );\n",
    "}"
   ]
  },
  {
   "cell_type": "markdown",
   "metadata": {
    "slideshow": {
     "slide_type": "slide"
    }
   },
   "source": [
    "## Mutating or not?"
   ]
  },
  {
   "cell_type": "markdown",
   "metadata": {
    "slideshow": {
     "slide_type": "-"
    }
   },
   "source": [
    "```java\n",
    "int[] years = {1987, 1079, 1984, 1977, 1985};\n",
    "\n",
    "for (int i=0; i < years.length; i++) {\n",
    "    years[i] + 100;\n",
    "}\n",
    " \n",
    "// System.out.println( Arrays.toString(years) );\n",
    "```"
   ]
  },
  {
   "cell_type": "code",
   "execution_count": 20,
   "metadata": {
    "slideshow": {
     "slide_type": "fragment"
    }
   },
   "outputs": [],
   "source": [
    "int[] years = {1987, 1079, 1984, 1977, 1985};\n",
    "\n",
    "for (int i=0; i < years.length; i++) {\n",
    "    years[i] = years[i] + 1000;\n",
    "}\n",
    " \n",
    "// System.out.println( Arrays.toString(years) );"
   ]
  },
  {
   "cell_type": "markdown",
   "metadata": {
    "slideshow": {
     "slide_type": "slide"
    }
   },
   "source": [
    "## Mutating or not?"
   ]
  },
  {
   "cell_type": "code",
   "execution_count": 21,
   "metadata": {
    "slideshow": {
     "slide_type": "-"
    }
   },
   "outputs": [],
   "source": [
    "int[] years = {1987, 1079, 1984, 1977, 1985};\n",
    "\n",
    "for (int y : years) {\n",
    "    y = y + 1000;\n",
    "}\n",
    " \n",
    "// System.out.println( Arrays.toString(years) );"
   ]
  },
  {
   "cell_type": "markdown",
   "metadata": {
    "slideshow": {
     "slide_type": "slide"
    }
   },
   "source": [
    "## Mutating or not? \n"
   ]
  },
  {
   "cell_type": "code",
   "execution_count": 22,
   "metadata": {
    "slideshow": {
     "slide_type": "-"
    }
   },
   "outputs": [],
   "source": [
    "String[] titles = {\"Robocop\", \"Alien\", \"Terminator\", \"Star Wars\", \"Back to the Future\"};\n",
    "\n",
    "for (String s : titles) {\n",
    "    s.toUpperCase();\n",
    "}\n",
    " \n",
    "// System.out.println( Arrays.toString(titles) );"
   ]
  },
  {
   "cell_type": "code",
   "execution_count": 23,
   "metadata": {
    "slideshow": {
     "slide_type": "fragment"
    }
   },
   "outputs": [],
   "source": [
    "String[] titles = {\"Robocop\", \"Alien\", \"Terminator\", \"Star Wars\", \"Back to the Future\"};\n",
    "\n",
    "for (String s : titles) {\n",
    "    s = s.toUpperCase();\n",
    "}\n",
    " \n",
    "// System.out.println( Arrays.toString(titles) );"
   ]
  },
  {
   "cell_type": "markdown",
   "metadata": {
    "slideshow": {
     "slide_type": "slide"
    }
   },
   "source": [
    "## Mutating or not? "
   ]
  },
  {
   "cell_type": "code",
   "execution_count": 24,
   "metadata": {
    "slideshow": {
     "slide_type": "-"
    }
   },
   "outputs": [],
   "source": [
    "String[] titles = {\"Robocop\", \"Alien\", \"Terminator\", \"Star Wars\", \"Back to the Future\"};\n",
    "\n",
    "for (String s : titles) {\n",
    "    s = \"BOH\";\n",
    "}\n",
    " \n",
    "// System.out.println( Arrays.toString(titles) ); "
   ]
  },
  {
   "cell_type": "markdown",
   "metadata": {
    "slideshow": {
     "slide_type": "slide"
    }
   },
   "source": [
    "## Mutating or not? \n"
   ]
  },
  {
   "cell_type": "code",
   "execution_count": 25,
   "metadata": {
    "slideshow": {
     "slide_type": "-"
    }
   },
   "outputs": [
    {
     "name": "stdout",
     "output_type": "stream",
     "text": [
      "[Fri Jul 17 00:00:00 CEST 1987, Fri May 24 00:00:00 CEST 1985, Thu Oct 25 00:00:00 CET 1984, Tue May 24 00:00:00 CEST 1977, Tue Jul 02 00:00:00 CEST 1985]\n",
      "\n"
     ]
    }
   ],
   "source": [
    "import java.util.Date;\n",
    "\n",
    "Date releases[] = { new Date(87, 6, 17), \n",
    "                    new Date(85, 4, 24), \n",
    "                    new Date(84, 9, 25), \n",
    "                    new Date(77, 4, 24),\n",
    "                    new Date(85, 6, 2)\n",
    "};\n",
    "\n",
    "System.out.println( Arrays.toString(releases) + '\\n');\n",
    "\n",
    "for (int i=0; i < releases.length; i++) {    \n",
    "    releases[i].setYear(releases[i].getYear() + 1000);\n",
    "}\n",
    "\n",
    "// System.out.println( Arrays.toString(releases) );  "
   ]
  },
  {
   "cell_type": "markdown",
   "metadata": {
    "slideshow": {
     "slide_type": "slide"
    }
   },
   "source": [
    "## Mutating or not? "
   ]
  },
  {
   "cell_type": "code",
   "execution_count": 26,
   "metadata": {
    "slideshow": {
     "slide_type": "-"
    }
   },
   "outputs": [
    {
     "name": "stdout",
     "output_type": "stream",
     "text": [
      "[Fri Jul 17 00:00:00 CEST 1987, Fri May 24 00:00:00 CEST 1985, Thu Oct 25 00:00:00 CET 1984, Tue May 24 00:00:00 CEST 1977, Tue Jul 02 00:00:00 CEST 1985]\n",
      "\n"
     ]
    }
   ],
   "source": [
    "Date releases[] = { new Date(87, 6, 17), \n",
    "                    new Date(85, 4, 24), \n",
    "                    new Date(84, 9, 25), \n",
    "                    new Date(77, 4, 24),\n",
    "                    new Date(85, 6, 2)\n",
    "};\n",
    "\n",
    "System.out.println( Arrays.toString(releases) + '\\n');\n",
    "\n",
    "for (Date d : releases) {    \n",
    "    d.setYear(d.getYear() + 1000);\n",
    "}\n",
    "\n",
    "// System.out.println( Arrays.toString(releases) );  "
   ]
  },
  {
   "cell_type": "markdown",
   "metadata": {
    "slideshow": {
     "slide_type": "slide"
    }
   },
   "source": [
    "## Can we use a `while`?"
   ]
  },
  {
   "cell_type": "code",
   "execution_count": 27,
   "metadata": {
    "slideshow": {
     "slide_type": "-"
    }
   },
   "outputs": [],
   "source": [
    "Date releases[] = { new Date(87, 6, 17), \n",
    "                    new Date(85, 4, 24), \n",
    "                    new Date(84, 9, 25), \n",
    "                    new Date(77, 4, 24),\n",
    "                    new Date(85, 6, 2)\n",
    "};\n",
    "\n",
    "\n",
    "int i=0;\n",
    "\n",
    "while (i < releases.length) {\n",
    "    \n",
    "    Date d = releases[i];\n",
    "    d.setYear(d.getYear() + 1000);\n",
    "    \n",
    "    i++;\n",
    "}\n",
    "\n",
    "// System.out.println( Arrays.toString(releases) );  "
   ]
  },
  {
   "cell_type": "markdown",
   "metadata": {
    "slideshow": {
     "slide_type": "slide"
    }
   },
   "source": [
    "## Mutating what?\n",
    "\n",
    "We want an array with 5 dates having consecutive years"
   ]
  },
  {
   "cell_type": "code",
   "execution_count": 28,
   "metadata": {
    "slideshow": {
     "slide_type": "-"
    }
   },
   "outputs": [],
   "source": [
    "Date releases[] = new Date[5];\n",
    "\n",
    "Date d = new Date();\n",
    "\n",
    "for (int i = 0; i < releases.length; i++){\n",
    "\n",
    "    d.setYear(80 + i); \n",
    "    d.setMonth(5);\n",
    "    d.setDate(10);   // sets the day\n",
    "\n",
    "    releases[i] = d;\n",
    "}\n",
    "\n",
    "// System.out.println( Arrays.toString(releases) );  "
   ]
  },
  {
   "cell_type": "markdown",
   "metadata": {
    "slideshow": {
     "slide_type": "slide"
    }
   },
   "source": [
    "## Exercise - Dungeon\n",
    "\n",
    "A knight explores a cavern in search of rare objects. As soon as he finds what he's looking for, he rejoices and goes back. We represent the `dungeon` as an array of strings. The variable `goal` holds the object to find. Write some code to PRINT the output.\n",
    "\n",
    "* **DO NOT** USE `break` !\n",
    "* The array may also *not* contain object to look for\n",
    "\n",
    "```java\n",
    "explore(\"the treasure\", \n",
    "        {\"a rock\",\"a trap\",\"some swords\", \"the treasure\",\"a spiderweb\", \"a bolete of the tombs\"})\n",
    "```\n",
    "```\n",
    "     Entering..\n",
    "     Found a rock\n",
    "     Found a trap\n",
    "     Found some swords\n",
    "     How lucky! I found a treasure.\n",
    "     Going back!     \n",
    "     Found some swords\n",
    "     Found a trap\n",
    "     Found a rock\n",
    "     Exiting..\n",
    "```"
   ]
  },
  {
   "cell_type": "markdown",
   "metadata": {
    "slideshow": {
     "slide_type": "slide"
    }
   },
   "source": [
    "\n",
    "```java\n",
    "explore(\"the talisman of power\", {\"a trap\",'a bolete of the tombs',\"a spiderweb\"});\n",
    "```\n",
    "```\n",
    "   Entering..\n",
    "   Found a trap\n",
    "   Found a bolete of the tombs\n",
    "   Found a spiderweb\n",
    "   Alas, there is no treasure!\n",
    "   Going back\n",
    "   Found a spiderweb\n",
    "   Found a bolete of the tombs\n",
    "   Found a trap\n",
    "   Exiting..\n",
    "```"
   ]
  },
  {
   "cell_type": "code",
   "execution_count": 29,
   "metadata": {
    "slideshow": {
     "slide_type": "fragment"
    }
   },
   "outputs": [],
   "source": [
    "String goal = \"the treasure\"; \n",
    "String[] dungeon = {\"a rock\",\"a trap\",\"some swords\",\"the treasure\",\"a spiderweb\", \"a bolete of the tombs\"};\n",
    "\n",
    "// goal = \"the talisman of power\";\n",
    "// String[] dungeon = {\"a trap\",'a bolete of the tombs',\"a spiderweb\"};\n",
    "\n",
    "// write here\n"
   ]
  },
  {
   "cell_type": "markdown",
   "metadata": {
    "slideshow": {
     "slide_type": "slide"
    }
   },
   "source": [
    "## [7.1. Intro to ArrayLists](https://csawesome.runestone.academy/runestone/books/published/csawesome/Unit7-ArrayList/topic-7-1-arraylist-basics.html)\n",
    "\n",
    "1) Import Package\n",
    "\n",
    "2) Declaring and Creating ArrayLists\n",
    "\n",
    "3) Programming Challenge : FRQ Digits"
   ]
  },
  {
   "cell_type": "markdown",
   "metadata": {
    "slideshow": {
     "slide_type": "slide"
    }
   },
   "source": [
    "## [7.2. ArrayList Methods](https://csawesome.runestone.academy/runestone/books/published/csawesome/Unit7-ArrayList/topic-7-2-arraylist-methods.html)\n",
    "\n",
    "1) Size()\n",
    "\n",
    "2) Add(obj) to an ArrayList\n",
    "\n",
    "3) Add(index,obj) in an ArrayList\n",
    "\n",
    "4) Remove(index) from ArrayList\n",
    "\n",
    "5) ArrayList get/set Methods\n",
    "\n",
    "6) Comparing arrays and ArrayLists\n",
    "\n",
    "7) Programming Challenge : Array to ArrayList"
   ]
  },
  {
   "cell_type": "markdown",
   "metadata": {
    "slideshow": {
     "slide_type": "slide"
    }
   },
   "source": [
    "\n",
    "## [7.3. Traversing ArrayLists with Loops](https://csawesome.runestone.academy/runestone/books/published/csawesome/Unit7-ArrayList/topic-7-3-arraylist-loops.html)\n",
    "\n",
    "1) Enhanced For Each Loop\n",
    "\n",
    "2) For Loop\n",
    "\n",
    "3) While Loop\n",
    "\n",
    "4) ArrayList of Student Objects\n",
    "\n",
    "5) Programming Challenge : FRQ Word Pairs\n"
   ]
  },
  {
   "cell_type": "markdown",
   "metadata": {
    "slideshow": {
     "slide_type": "slide"
    }
   },
   "source": [
    "## [7.4. ArrayList Algorithms](https://csawesome.runestone.academy/runestone/books/published/csawesome/Unit7-ArrayList/topic-7-4-arraylist-algorithms.html)\n",
    "\n",
    "1) Free Response - String Scramble B\n",
    "\n",
    "2) Free Response - Climbing Club A\n",
    "\n",
    "3) Free Response - Climbing Club B\n",
    "\n",
    "\n",
    "4) Free Response - Climbing Club C\n",
    "\n",
    "5) Free Response - CookieOrder A\n",
    "\n",
    "6) Free Response - CookieOrder B\n",
    "\n",
    "7) Free Response - StringFormatter A\n",
    "\n",
    "8) Free Response - StringFormatter B\n",
    "\n",
    "9) Free Response - Delimiters A\n",
    "\n",
    "10) Free Response - Delimiters B\n",
    "\n",
    "11) Free Response - Grid World A (Not Complete)\n"
   ]
  },
  {
   "cell_type": "markdown",
   "metadata": {
    "slideshow": {
     "slide_type": "slide"
    }
   },
   "source": [
    "## [7.5. Searching Algorithms]()\n",
    "\n",
    "1) Sequential Search\n",
    "\n",
    "2) Binary Search\n",
    "\n",
    "3) Runtimes\n",
    "\n",
    "4) Programming Challenge : Search Runtimes\n",
    "\n",
    "5) Summary\n"
   ]
  },
  {
   "cell_type": "markdown",
   "metadata": {
    "slideshow": {
     "slide_type": "slide"
    }
   },
   "source": [
    "## [7.6. Sorting Algorithms](https://csawesome.runestone.academy/runestone/books/published/csawesome/Unit7-ArrayList/topic-7-6-sorting.html) - SKIP IT !\n",
    "\n",
    "1) Selection Sort  no\n",
    "2) Insertion Sort  no\n",
    "3) Programming Challenge : Sort Runtimes no\n"
   ]
  },
  {
   "cell_type": "markdown",
   "metadata": {
    "slideshow": {
     "slide_type": "slide"
    }
   },
   "source": [
    "## [7.7. Ethics of Data Collection and Data Privacy](https://csawesome.runestone.academy/runestone/books/published/csawesome/Unit7-ArrayList/topic-7-7-data-ethics.html) - SKIP IT !\n",
    "\n",
    "\n",
    "1) POGIL Groupwork: Data Privacy\n",
    "\n",
    "2) Summary\n"
   ]
  }
 ],
 "metadata": {
  "celltoolbar": "Slideshow",
  "kernelspec": {
   "display_name": "Java",
   "language": "java",
   "name": "java"
  },
  "language_info": {
   "codemirror_mode": "java",
   "file_extension": ".jshell",
   "mimetype": "text/x-java-source",
   "name": "Java",
   "pygments_lexer": "java",
   "version": "15.0.2+7"
  },
  "toc": {
   "base_numbering": 1,
   "nav_menu": {},
   "number_sections": false,
   "sideBar": true,
   "skip_h1_title": false,
   "title_cell": "Table of Contents",
   "title_sidebar": "Contents",
   "toc_cell": false,
   "toc_position": {},
   "toc_section_display": true,
   "toc_window_display": true
  }
 },
 "nbformat": 4,
 "nbformat_minor": 4
}
