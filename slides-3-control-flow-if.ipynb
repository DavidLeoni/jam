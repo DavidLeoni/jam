{
 "cells": [
  {
   "cell_type": "raw",
   "metadata": {
    "raw_mimetype": "text/html",
    "slideshow": {
     "slide_type": "notes"
    }
   },
   "source": [
    "<link rel=\"stylesheet\" href=\"custom.css\" id=\"theme\">"
   ]
  },
  {
   "cell_type": "markdown",
   "metadata": {
    "slideshow": {
     "slide_type": "slide"
    }
   },
   "source": [
    "\n",
    "# UF 06: JAVA\n",
    "\n",
    "## Boolean Expressions and If Statements\n",
    "\n",
    "**Alta Formazione Professionale - ITT Marconi**\n",
    "\n",
    "**January 2021**\n"
   ]
  },
  {
   "cell_type": "markdown",
   "metadata": {
    "slideshow": {
     "slide_type": "slide"
    }
   },
   "source": [
    "## [3.1. Boolean Expressions](https://csawesome.runestone.academy/runestone/books/published/csawesome/Unit3-If-Statements/topic-3-1-booleans.html)\n",
    "\n",
    "1) Testing Equality (`==`)\n",
    "\n",
    "between primitive types"
   ]
  },
  {
   "cell_type": "markdown",
   "metadata": {
    "slideshow": {
     "slide_type": "fragment"
    }
   },
   "source": [
    "between _references_\n"
   ]
  },
  {
   "cell_type": "markdown",
   "metadata": {
    "slideshow": {
     "slide_type": "slide"
    }
   },
   "source": [
    "2) Relational Operators (`<`, `>`)\n",
    "\n",
    "- `<`\n",
    "- `>`\n",
    "- `<=`\n",
    "- `>=`\n",
    "- `==`\n",
    "- `!=`"
   ]
  },
  {
   "cell_type": "markdown",
   "metadata": {
    "slideshow": {
     "slide_type": "slide"
    }
   },
   "source": [
    "3) Testing with mod (`%`)"
   ]
  },
  {
   "cell_type": "code",
   "execution_count": 1,
   "metadata": {
    "slideshow": {
     "slide_type": "-"
    }
   },
   "outputs": [
    {
     "data": {
      "text/plain": [
       "3"
      ]
     },
     "execution_count": 1,
     "metadata": {},
     "output_type": "execute_result"
    }
   ],
   "source": [
    "18 % 5  // the remainder is ...."
   ]
  },
  {
   "cell_type": "markdown",
   "metadata": {
    "slideshow": {
     "slide_type": "fragment"
    }
   },
   "source": [
    "Test if a number is even ?"
   ]
  },
  {
   "cell_type": "markdown",
   "metadata": {
    "slideshow": {
     "slide_type": "fragment"
    }
   },
   "source": [
    "Test if a number is odd ?"
   ]
  },
  {
   "cell_type": "markdown",
   "metadata": {
    "slideshow": {
     "slide_type": "slide"
    }
   },
   "source": [
    "\n",
    "## [3.2. if Statements and Control Flow](https://csawesome.runestone.academy/runestone/books/published/csawesome/Unit3-If-Statements/topic-3-2-ifs.html)\n",
    "\n",
    "1) Relational Operators in `if` Statements\n",
    "\n",
    "![condition](control-flow/img/condition.png)\n"
   ]
  },
  {
   "cell_type": "markdown",
   "metadata": {
    "slideshow": {
     "slide_type": "slide"
    }
   },
   "source": [
    "### if"
   ]
  },
  {
   "cell_type": "code",
   "execution_count": 2,
   "metadata": {
    "slideshow": {
     "slide_type": "-"
    }
   },
   "outputs": [
    {
     "name": "stdout",
     "output_type": "stream",
     "text": [
      "BEFORE\n",
      "  THEN BRANCH\n",
      "AFTER\n"
     ]
    }
   ],
   "source": [
    "boolean isRaining = true;\n",
    "\n",
    "System.out.println(\"BEFORE\");\n",
    "\n",
    "if (isRaining) {\n",
    "   System.out.println(\"  THEN BRANCH\");\n",
    "}\n",
    "\n",
    "System.out.println(\"AFTER\");"
   ]
  },
  {
   "cell_type": "code",
   "execution_count": 3,
   "metadata": {
    "slideshow": {
     "slide_type": "fragment"
    }
   },
   "outputs": [
    {
     "name": "stdout",
     "output_type": "stream",
     "text": [
      "BEFORE\n",
      "AFTER\n"
     ]
    }
   ],
   "source": [
    "boolean isRaining = false;\n",
    "\n",
    "System.out.println(\"BEFORE\");\n",
    "\n",
    "if (isRaining) {\n",
    "   System.out.println(\"THEN BRANCH\");\n",
    "}\n",
    "\n",
    "System.out.println(\"AFTER\");"
   ]
  },
  {
   "cell_type": "markdown",
   "metadata": {
    "slideshow": {
     "slide_type": "slide"
    }
   },
   "source": [
    "### Testing for equality\n",
    "\n",
    "- `if (x == y)   // JAVA`\n",
    "- `if (x === y)  // JAVASCRIPT`\n",
    "- `if (x = y)    // BAD`"
   ]
  },
  {
   "cell_type": "markdown",
   "metadata": {
    "slideshow": {
     "slide_type": "slide"
    }
   },
   "source": [
    "\n",
    "## [3.3. Two-way Selection: if-else Statements](https://csawesome.runestone.academy/runestone/books/published/csawesome/Unit3-If-Statements/topic-3-3-if-else.html)\n",
    "\n",
    "![condition-else](control-flow/img/condition-else.png)"
   ]
  },
  {
   "cell_type": "markdown",
   "metadata": {
    "slideshow": {
     "slide_type": "slide"
    }
   },
   "source": [
    "### if else"
   ]
  },
  {
   "cell_type": "code",
   "execution_count": 4,
   "metadata": {
    "slideshow": {
     "slide_type": "-"
    }
   },
   "outputs": [
    {
     "name": "stdout",
     "output_type": "stream",
     "text": [
      "BEFORE\n",
      "  THEN BRANCH\n",
      "AFTER\n"
     ]
    }
   ],
   "source": [
    "boolean isRaining = true;\n",
    "\n",
    "System.out.println(\"BEFORE\");\n",
    "if (isRaining) {\n",
    "    System.out.println(\"  THEN BRANCH\");\n",
    "} else {\n",
    "    System.out.println(\"  ELSE BRANCH\");\n",
    "}\n",
    "\n",
    "System.out.println(\"AFTER\");"
   ]
  },
  {
   "cell_type": "code",
   "execution_count": 5,
   "metadata": {
    "slideshow": {
     "slide_type": "fragment"
    }
   },
   "outputs": [
    {
     "name": "stdout",
     "output_type": "stream",
     "text": [
      "BEFORE\n",
      "  ELSE BRANCH\n",
      "AFTER\n"
     ]
    }
   ],
   "source": [
    "boolean isRaining = false;\n",
    "\n",
    "System.out.println(\"BEFORE\");\n",
    "if (isRaining) {\n",
    "    System.out.println(\"  THEN BRANCH\");\n",
    "} else {\n",
    "    System.out.println(\"  ELSE BRANCH\");\n",
    "}\n",
    "\n",
    "System.out.println(\"AFTER\");"
   ]
  },
  {
   "cell_type": "markdown",
   "metadata": {
    "slideshow": {
     "slide_type": "slide"
    }
   },
   "source": [
    "###  Nested Ifs and Dangling Else"
   ]
  },
  {
   "cell_type": "code",
   "execution_count": 6,
   "metadata": {
    "slideshow": {
     "slide_type": "-"
    }
   },
   "outputs": [
    {
     "name": "stdout",
     "output_type": "stream",
     "text": [
      "only condA\n"
     ]
    }
   ],
   "source": [
    "boolean condA = true;\n",
    "boolean condB = false;\n",
    "\n",
    "if (condA) {\n",
    "   if (condB) {\n",
    "       System.out.println(\"condA and condB\");\n",
    "   } else {\n",
    "       System.out.println(\"only condA\");\n",
    "   }\n",
    "} else {\n",
    "   \n",
    "}"
   ]
  },
  {
   "cell_type": "code",
   "execution_count": 7,
   "metadata": {
    "slideshow": {
     "slide_type": "fragment"
    }
   },
   "outputs": [
    {
     "name": "stdout",
     "output_type": "stream",
     "text": [
      "condA and condB\n"
     ]
    }
   ],
   "source": [
    "boolean condA = true;\n",
    "boolean condB = true;\n",
    "\n",
    "if (condA) {\n",
    "   if (condB) {\n",
    "       System.out.println(\"condA and condB\");\n",
    "   } else {\n",
    "       System.out.println(\"only condA\");\n",
    "   }\n",
    "} else {\n",
    "   \n",
    "}"
   ]
  },
  {
   "cell_type": "markdown",
   "metadata": {
    "slideshow": {
     "slide_type": "slide"
    }
   },
   "source": [
    "## [3.4. Multi-Selection: else-if Statements](https://csawesome.runestone.academy/runestone/books/published/csawesome/Unit3-If-Statements/topic-3-4-else-ifs.html)\n",
    "\n",
    "![if-cascade](control-flow/img/if-cascade.png)"
   ]
  },
  {
   "cell_type": "markdown",
   "metadata": {
    "slideshow": {
     "slide_type": "slide"
    }
   },
   "source": [
    "## if cascade"
   ]
  },
  {
   "cell_type": "code",
   "execution_count": 8,
   "metadata": {
    "slideshow": {
     "slide_type": "-"
    }
   },
   "outputs": [
    {
     "name": "stdout",
     "output_type": "stream",
     "text": [
      "x is negative\n"
     ]
    }
   ],
   "source": [
    "int x = -5;\n",
    "\n",
    "if (x < 0) {\n",
    "   System.out.println(\"x is negative\");\n",
    "}\n",
    "else if (x == 0) {\n",
    "   System.out.println(\"x is zero\");\n",
    "}\n",
    "else {\n",
    "   System.out.println(\"x is positive\");\n",
    "}"
   ]
  },
  {
   "cell_type": "markdown",
   "metadata": {
    "slideshow": {
     "slide_type": "slide"
    }
   },
   "source": [
    "## [3.5. Compound Boolean Expressions](https://csawesome.runestone.academy/runestone/books/published/csawesome/Unit3-If-Statements/topic-3-5-compound-ifs.html)\n",
    "\n",
    "### 1) And (`&&`), Or (`||`), and Not (`!`)"
   ]
  },
  {
   "cell_type": "markdown",
   "metadata": {
    "slideshow": {
     "slide_type": "slide"
    }
   },
   "source": [
    "\n",
    "### 2) Truth Tables\n",
    "\n",
    "#### AND: `&&`\n",
    "\n",
    "| `a` | `b` |`a && b`|\n",
    "|-----|-----|--------|\n",
    "|false|false| false  |\n",
    "|false|true | false  |\n",
    "|true |false| false  |\n",
    "|true |true | true   |\n"
   ]
  },
  {
   "cell_type": "markdown",
   "metadata": {
    "slideshow": {
     "slide_type": "slide"
    }
   },
   "source": [
    "#### OR: `||`\n",
    "\n",
    "| `a` | `b` |a &#124;&#124; b|\n",
    "|-----|-----|--------|\n",
    "|false|false| false  |\n",
    "|false|true | true   |\n",
    "|true |false| true   |\n",
    "|true |true | true   |\n"
   ]
  },
  {
   "cell_type": "markdown",
   "metadata": {
    "slideshow": {
     "slide_type": "slide"
    }
   },
   "source": [
    "#### NOT: `!`\n",
    "\n",
    "| `a` |`!a` |\n",
    "|-----|-----|\n",
    "|false|true |\n",
    "|true |false|"
   ]
  },
  {
   "cell_type": "markdown",
   "metadata": {
    "slideshow": {
     "slide_type": "slide"
    }
   },
   "source": [
    "### Guess booleans \n",
    "\n",
    "1.  ```java\n",
    "    !(true && false)\n",
    "    ```\n",
    "1.  ```java    \n",
    "    (!true) || (!(true || false))\n",
    "    ```\n",
    "1.  ```java\n",
    "    !(!true)\n",
    "    ```\n",
    "1.  ```java    \n",
    "    !(true && (false || true))\n",
    "    ```\n",
    "1.  ```java    \n",
    "    !(!(!false))\n",
    "    ```\n",
    "1.  ```java    \n",
    "    true && (!(!((!false) && true)))\n",
    "    ```\n",
    "1.  ```java    \n",
    "    false || (false || ((true && true) && (true && false)))\n",
    "    ```\n"
   ]
  },
  {
   "cell_type": "markdown",
   "metadata": {
    "slideshow": {
     "slide_type": "slide"
    }
   },
   "source": [
    "### Booelans: which `x`,`y` give `true` ?\n",
    "\n",
    "**NOTE**: there can be many combinations that produce `true`, find them all\n",
    "\n",
    "1.  ```java\n",
    "    x || (!x)\n",
    "    ```\n",
    "1.  ```java\n",
    "    (!x) && (!y)\n",
    "    ```\n",
    "1.  ```java\n",
    "    x && (y || y)\n",
    "    ```\n",
    "1.  ```java\n",
    "    x && (!y)\n",
    "    ```\n",
    "1.  ```java\n",
    "    (!x) ||  y\n",
    "    ```\n",
    "1.  ```java\n",
    "    y || !(y && x)\n",
    "    ```\n",
    "1.  ```java\n",
    "    x && ((!x) || !(y))\n",
    "    ```\n",
    "1.  ```java\n",
    "    (!(!x)) && !(x && y)\n",
    "    ```    \n",
    "1.  ```java\n",
    "    x && (x || (!(x) || !(!(x || !(x)))))\n",
    "    ```\n"
   ]
  },
  {
   "cell_type": "markdown",
   "metadata": {
    "slideshow": {
     "slide_type": "slide"
    }
   },
   "source": [
    "### Booelans: which `x`,`y` give `false` ?\n",
    "\n",
    "**QUESTION**:  For each of these expressions, for which values of `x` && `y` they give `false`?\n",
    "\n",
    "**NOTE**: there can be many combinations that produce `false`, find them all\n",
    "\n",
    "1.  ```java\n",
    "    x || ((!y) || z)\n",
    "    ```\n",
    "1.  ```java\n",
    "    x || (!y) || (!z)\n",
    "    ```\n",
    "1.  ```java\n",
    "    !(x && y && (!z))\n",
    "    ```\n",
    "1.  ```java\n",
    "    !(x && (!y) && (x || z))\n",
    "    ```\n",
    "1.  ```java\n",
    "    y || ((x || y) && (!z))\n",
    "    ```\n"
   ]
  },
  {
   "cell_type": "markdown",
   "metadata": {
    "slideshow": {
     "slide_type": "slide"
    }
   },
   "source": [
    "### 3) Short Circuit Evaluation ?\n",
    "\n",
    "`false && superComplicatedBooleanExpression`\n",
    "\n",
    "` true  && superComplicatedBooleanExpression`\n",
    "\n",
    "\n",
    "| `a` | `b` |`a && b`|\n",
    "|-----|-----|--------|\n",
    "|false|false| false  |\n",
    "|false|true | false  |\n",
    "|true |false| false  |\n",
    "|true |true | true   |"
   ]
  },
  {
   "cell_type": "markdown",
   "metadata": {
    "slideshow": {
     "slide_type": "slide"
    }
   },
   "source": [
    "### 3) Short Circuit Evaluation ?\n",
    "\n",
    "`false || superComplicatedBooleanExpression`\n",
    "\n",
    "` true || superComplicatedBooleanExpression`\n",
    "\n",
    "| `a` | `b` |a &#124;&#124; b|\n",
    "|-----|-----|--------|\n",
    "|false|false| false  |\n",
    "|false|true | true   |\n",
    "|true |false| true   |\n",
    "|true |true | true   |"
   ]
  },
  {
   "cell_type": "markdown",
   "metadata": {
    "slideshow": {
     "slide_type": "slide"
    }
   },
   "source": [
    "### Short circuits to avoid errors ...\n",
    "\n",
    "Let's pick an error:"
   ]
  },
  {
   "cell_type": "markdown",
   "metadata": {
    "slideshow": {
     "slide_type": "-"
    }
   },
   "source": [
    "```java\n",
    "1/0\n",
    "```"
   ]
  },
  {
   "cell_type": "markdown",
   "metadata": {
    "slideshow": {
     "slide_type": "fragment"
    }
   },
   "source": [
    "```java\n",
    "---------------------------------------------------------------------------\n",
    "java.lang.ArithmeticException: / by zero\n",
    "\tat .(#119:1)\n",
    "```"
   ]
  },
  {
   "cell_type": "markdown",
   "metadata": {
    "slideshow": {
     "slide_type": "fragment"
    }
   },
   "source": [
    "Let's create a faulty boolean expression:"
   ]
  },
  {
   "cell_type": "markdown",
   "metadata": {
    "slideshow": {
     "slide_type": "-"
    }
   },
   "source": [
    "```java\n",
    "1/0 == 5\n",
    "```"
   ]
  },
  {
   "cell_type": "markdown",
   "metadata": {
    "slideshow": {
     "slide_type": "fragment"
    }
   },
   "source": [
    "```java\n",
    "---------------------------------------------------------------------------\n",
    "java.lang.ArithmeticException: / by zero\n",
    "\tat .(#119:1)\n",
    "```    "
   ]
  },
  {
   "cell_type": "markdown",
   "metadata": {
    "slideshow": {
     "slide_type": "slide"
    }
   },
   "source": [
    "### Short circuits to avoid errors ?"
   ]
  },
  {
   "cell_type": "markdown",
   "metadata": {
    "slideshow": {
     "slide_type": "-"
    }
   },
   "source": [
    "- `true && (1/0 == 5)`"
   ]
  },
  {
   "cell_type": "markdown",
   "metadata": {
    "slideshow": {
     "slide_type": "fragment"
    }
   },
   "source": [
    "- `false && (1/0 == 5)`"
   ]
  },
  {
   "cell_type": "markdown",
   "metadata": {
    "slideshow": {
     "slide_type": "fragment"
    }
   },
   "source": [
    "\n",
    "- `true || (1/0 == 5)`"
   ]
  },
  {
   "cell_type": "markdown",
   "metadata": {
    "slideshow": {
     "slide_type": "fragment"
    }
   },
   "source": [
    "- `false || (1/0 == 5)`"
   ]
  },
  {
   "cell_type": "code",
   "execution_count": null,
   "metadata": {},
   "outputs": [],
   "source": []
  },
  {
   "cell_type": "markdown",
   "metadata": {
    "slideshow": {
     "slide_type": "fragment"
    }
   },
   "source": [
    "**EXERCISE**: Write some code which puts `true` in boolean var `isSecB` if the second character of the string `s` is the character `'B'`. Otherwise, stores `false`."
   ]
  },
  {
   "cell_type": "markdown",
   "metadata": {
    "slideshow": {
     "slide_type": "-"
    }
   },
   "source": [
    "```java\n",
    "           //  01234\n",
    "   String s = \"ABACO\";  // true         \n",
    "// String s = \"BIRBA\";  // false\n",
    "\n",
    "// write here\n",
    "boolean isSecB = \n",
    "\n",
    "System.out.println(isSecB);\n",
    "```"
   ]
  },
  {
   "cell_type": "markdown",
   "metadata": {
    "slideshow": {
     "slide_type": "slide"
    }
   },
   "source": [
    "### More short circuits \n",
    "\n",
    "1.  ```java\n",
    "    true || (1/0==5 && true)\n",
    "    ```\n",
    "1.  ```java\n",
    "    (!false) || !(1/0==5)\n",
    "    ```\n",
    "1.  ```java\n",
    "    true && 1/0==5 && true\n",
    "    ```\n",
    "1.  ```java\n",
    "    (!true) || 1/0!=5 || true\n",
    "    ```\n",
    "1.  ```java\n",
    "    true && (!true) && 1/0==5\n",
    "    ```"
   ]
  },
  {
   "cell_type": "markdown",
   "metadata": {
    "slideshow": {
     "slide_type": "slide"
    }
   },
   "source": [
    "## [3.6. Equivalent Boolean Expressions (De Morgan’s Laws)](https://csawesome.runestone.academy/runestone/books/published/csawesome/Unit3-If-Statements/topic-3-6-DeMorgan.html)\n",
    "\n",
    "1) De Morgan’s Laws\n",
    "\n",
    "- `!(a && b)` is equivalent to `!a || !b`\n",
    "\n",
    "- `!(a || b)` is equivalent to `!a && !b`\n",
    "\n",
    "\n",
    "2) Truth Tables\n",
    "\n",
    "3) Simplifying Boolean Expressions\n"
   ]
  },
  {
   "cell_type": "markdown",
   "metadata": {
    "slideshow": {
     "slide_type": "slide"
    }
   },
   "source": [
    "### De Morgan - questions\n",
    "\n",
    "Look at following expressions, and try to rewrite them in equivalent ones by using De Morgan laws, simplifying the result wherever possible. Then verify the translation produces the same result as the original for all possible values of `x` && `y`.\n",
    "\n",
    "1.  ```java\n",
    "    (!x) || y\n",
    "    ```\n",
    "1.  ```java\n",
    "    (!x) && (!y)\n",
    "    ```    \n",
    "1.  ```java\n",
    "    (!x) && (!(x || y))\n",
    "    ```        \n",
    "\n",
    "Example:\n",
    "\n",
    "```java\n",
    "boolean x = false, y = false;\n",
    "//boolean x = false, y = true;\n",
    "//boolean x = true, y = false;\n",
    "//boolean x = true, y = true;\n",
    "\n",
    "boolean orig = x || y;\n",
    "boolean trans = !((!x) && (!y));\n",
    "System.out.println(\"orig=\" + orig);\n",
    "System.out.println(\"trans=\" + trans);\n",
    "```"
   ]
  },
  {
   "cell_type": "markdown",
   "metadata": {
    "slideshow": {
     "slide_type": "slide"
    }
   },
   "source": [
    "## [3.7. Comparing Objects](https://csawesome.runestone.academy/runestone/books/published/csawesome/Unit3-If-Statements/topic-3-7-comparing-objects.html)\n",
    "\n",
    "- `==` vs `equals`"
   ]
  },
  {
   "cell_type": "markdown",
   "metadata": {
    "slideshow": {
     "slide_type": "-"
    }
   },
   "source": [
    "\n",
    "```java\n",
    "import java.util.Date;  // (note this class is actually deprecated)\n",
    "\n",
    "Date d1 = new Date(28,1,2021);\n",
    "Date d2 = new Date(28,1,2021);\n",
    "\n",
    "System.out.println(d1 == d2);       // ?\n",
    "System.out.println(d1.equals(d2));  // ?\n",
    "```"
   ]
  },
  {
   "cell_type": "markdown",
   "metadata": {
    "slideshow": {
     "slide_type": "fragment"
    }
   },
   "source": [
    "```java\n",
    "import java.util.Date;\n",
    "\n",
    "Date d1 = new Date(28,1,2021);\n",
    "Date d2 = d1;\n",
    "\n",
    "System.out.println(d1 == d2);       // ?\n",
    "System.out.println(d1.equals(d2));  // ?\n",
    "```"
   ]
  },
  {
   "cell_type": "markdown",
   "metadata": {
    "slideshow": {
     "slide_type": "slide"
    }
   },
   "source": [
    "```java\n",
    "import java.util.Date;\n",
    "\n",
    "Date d1 = new Date(28,1,2021);\n",
    "Date d2 = new Date(14,7,2582);\n",
    "\n",
    "System.out.println(d1 == d2);       // ?\n",
    "System.out.println(d1.equals(d2));  // ?\n",
    "```"
   ]
  },
  {
   "cell_type": "markdown",
   "metadata": {
    "slideshow": {
     "slide_type": "fragment"
    }
   },
   "source": [
    "```java\n",
    "import java.util.Date;\n",
    "\n",
    "Date d1 = new Date(28,1,2021);\n",
    "Date d2 = new Date(28,1,2021);\n",
    "d2.setYear(3000);\n",
    "\n",
    "System.out.println(d1 == d2);       // ?\n",
    "System.out.println(d1.equals(d2));  // ?\n",
    "```"
   ]
  },
  {
   "cell_type": "markdown",
   "metadata": {
    "slideshow": {
     "slide_type": "slide"
    }
   },
   "source": [
    "### A better date..\n",
    "\n",
    "- See [Java 8 java.time.LocalDate](https://www.baeldung.com/java-8-date-time-intro)\n",
    "- _immutable_\n",
    "- _threadsafe_"
   ]
  },
  {
   "cell_type": "markdown",
   "metadata": {
    "slideshow": {
     "slide_type": "slide"
    }
   },
   "source": [
    "### 1) String Equality\n",
    "\n",
    "**WARNING**: **DON'T** use `==` with strings\n",
    "\n",
    "Strings are _immutable_ and _cached_ !"
   ]
  },
  {
   "cell_type": "markdown",
   "metadata": {
    "slideshow": {
     "slide_type": "fragment"
    }
   },
   "source": [
    "2) Equality with New Strings"
   ]
  },
  {
   "cell_type": "code",
   "execution_count": 9,
   "metadata": {
    "slideshow": {
     "slide_type": "-"
    }
   },
   "outputs": [
    {
     "name": "stdout",
     "output_type": "stream",
     "text": [
      "false\n",
      "true\n"
     ]
    }
   ],
   "source": [
    "String s1 = new String(\"Hello\");\n",
    "String s2 = new String(\"Hello\");\n",
    "System.out.println(s1 == s2);\n",
    "System.out.println(s1.equals(s2));"
   ]
  },
  {
   "cell_type": "code",
   "execution_count": 10,
   "metadata": {
    "slideshow": {
     "slide_type": "fragment"
    }
   },
   "outputs": [
    {
     "name": "stdout",
     "output_type": "stream",
     "text": [
      "true\n",
      "true\n"
     ]
    }
   ],
   "source": [
    "// WARNING: Java caches strings !\n",
    "// This very particular behaviour happens *ONLY* because we have strings !!\n",
    "\n",
    "String s1 = \"Hello\";\n",
    "String s2 = \"Hello\";\n",
    "System.out.println(s1 == s2);\n",
    "System.out.println(s1.equals(s2));"
   ]
  },
  {
   "cell_type": "markdown",
   "metadata": {
    "slideshow": {
     "slide_type": "slide"
    }
   },
   "source": [
    "### Boxed primitives\n",
    "\n",
    "... are _immutable_ \n",
    "\n",
    "... are they _cached_?"
   ]
  },
  {
   "cell_type": "markdown",
   "metadata": {
    "slideshow": {
     "slide_type": "fragment"
    }
   },
   "source": [
    "```java\n",
    "Integer i1 = new Integer(3);\n",
    "Integer i2 = new Integer(3);\n",
    "\n",
    "System.out.println(i1 == i2);       // ?\n",
    "System.out.println(i1.equals(i2));  // ?\n",
    "```"
   ]
  },
  {
   "cell_type": "markdown",
   "metadata": {
    "slideshow": {
     "slide_type": "fragment"
    }
   },
   "source": [
    "```java\n",
    "Integer i1 = 3;  // autoboxed \n",
    "Integer i2 = 3;\n",
    "\n",
    "System.out.println(i1 == i2);        // ?\n",
    "System.out.println(i1.equals(i2));   // ?\n",
    "```"
   ]
  },
  {
   "cell_type": "markdown",
   "metadata": {
    "slideshow": {
     "slide_type": "slide"
    }
   },
   "source": [
    "\n",
    "### 3) Comparing with `null`\n",
    "\n",
    "\n",
    "`a == b`\n",
    "\n",
    "- left ?\n",
    "- right ?"
   ]
  },
  {
   "cell_type": "markdown",
   "metadata": {
    "slideshow": {
     "slide_type": "fragment"
    }
   },
   "source": [
    "`a.equals(b)`\n",
    "\n",
    "- left ?\n",
    "- right ?"
   ]
  },
  {
   "cell_type": "markdown",
   "metadata": {
    "slideshow": {
     "slide_type": "slide"
    }
   },
   "source": [
    "[3.12. Magpie Chatbot Lab](https://csawesome.runestone.academy/runestone/books/published/csawesome/Unit3-If-Statements/magpieindex.html)"
   ]
  }
 ],
 "metadata": {
  "celltoolbar": "Slideshow",
  "kernelspec": {
   "display_name": "Java",
   "language": "java",
   "name": "java"
  },
  "language_info": {
   "codemirror_mode": "java",
   "file_extension": ".jshell",
   "mimetype": "text/x-java-source",
   "name": "Java",
   "pygments_lexer": "java",
   "version": "15.0.1+9"
  },
  "toc": {
   "base_numbering": 1,
   "nav_menu": {},
   "number_sections": false,
   "sideBar": true,
   "skip_h1_title": false,
   "title_cell": "Table of Contents",
   "title_sidebar": "Contents",
   "toc_cell": false,
   "toc_position": {},
   "toc_section_display": true,
   "toc_window_display": true
  }
 },
 "nbformat": 4,
 "nbformat_minor": 4
}
