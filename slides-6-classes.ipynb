{
 "cells": [
  {
   "cell_type": "raw",
   "metadata": {
    "raw_mimetype": "text/html",
    "slideshow": {
     "slide_type": "notes"
    }
   },
   "source": [
    "<link rel=\"stylesheet\" href=\"custom.css\" id=\"theme\">"
   ]
  },
  {
   "cell_type": "markdown",
   "metadata": {
    "slideshow": {
     "slide_type": "slide"
    }
   },
   "source": [
    "\n",
    "# UF 06: JAVA\n",
    "\n",
    "## Classes in Pseudo Java™\n",
    "\n",
    "**Alta Formazione Professionale - ITT Marconi**\n",
    "\n",
    "**February 2021**\n",
    "\n",
    "\n",
    "**NOTE: Code in slides sometimes is too long, see all** [on Github](https://github.com/DavidLeoni/jam/blob/master/slides-6-classes.ipynb)"
   ]
  },
  {
   "cell_type": "markdown",
   "metadata": {
    "slideshow": {
     "slide_type": "slide"
    }
   },
   "source": [
    "> My mommy always said there were no monsters. No real ones. \n",
    "> \n",
    "> But there are.\n",
    ">\n",
    "> Ellen Ripley, Alien Resurrection\n"
   ]
  },
  {
   "cell_type": "markdown",
   "metadata": {
    "slideshow": {
     "slide_type": "fragment"
    }
   },
   "source": [
    "**WARNING**: what follows is **not** proper Java style"
   ]
  },
  {
   "cell_type": "markdown",
   "metadata": {
    "slideshow": {
     "slide_type": "fragment"
    }
   },
   "source": [
    "- complex classes are ugly in the short term"
   ]
  },
  {
   "cell_type": "markdown",
   "metadata": {
    "slideshow": {
     "slide_type": "fragment"
    }
   },
   "source": [
    "- simple classes are ugly in the long term"
   ]
  },
  {
   "cell_type": "markdown",
   "metadata": {
    "slideshow": {
     "slide_type": "slide"
    }
   },
   "source": [
    "## Your package"
   ]
  },
  {
   "cell_type": "markdown",
   "metadata": {
    "slideshow": {
     "slide_type": "-"
    }
   },
   "source": [
    "```java\n",
    "package it.yourcompany.adventure;\n",
    "```"
   ]
  },
  {
   "cell_type": "markdown",
   "metadata": {
    "slideshow": {
     "slide_type": "fragment"
    }
   },
   "source": [
    "At the beginning of source files you have to declare the package. \n",
    "\n",
    "- Choose your company domain (i.e. `yourcompany.it`)"
   ]
  },
  {
   "cell_type": "markdown",
   "metadata": {
    "slideshow": {
     "slide_type": "fragment"
    }
   },
   "source": [
    "- reverse the parts (`it.youtcompany`)"
   ]
  },
  {
   "cell_type": "markdown",
   "metadata": {
    "slideshow": {
     "slide_type": "fragment"
    }
   },
   "source": [
    "- if you want add further subdomains for your specific project (`adventure`):"
   ]
  },
  {
   "cell_type": "markdown",
   "metadata": {
    "slideshow": {
     "slide_type": "fragment"
    }
   },
   "source": [
    "Your files then MUST reside in folders like these:\n",
    "\n",
    "```\n",
    "- it\n",
    "   - yourcompany\n",
    "      - adventure\n",
    "         Monster.java\n",
    "         Game.java\n",
    "```"
   ]
  },
  {
   "cell_type": "markdown",
   "metadata": {
    "slideshow": {
     "slide_type": "fragment"
    }
   },
   "source": [
    "Most IDE offer some automation to automatically place the files in the folders"
   ]
  },
  {
   "cell_type": "markdown",
   "metadata": {
    "slideshow": {
     "slide_type": "slide"
    }
   },
   "source": [
    "## Join The Game\n",
    "\n",
    "Create a file called `Game.java` with a public class `Game` inside:\n",
    "\n",
    "* to be able to run a class, you need `main` method"
   ]
  },
  {
   "cell_type": "markdown",
   "metadata": {
    "slideshow": {
     "slide_type": "-"
    }
   },
   "source": [
    "```java\n",
    "package it.yourcompany.adventure;\n",
    "```"
   ]
  },
  {
   "cell_type": "code",
   "execution_count": 2,
   "metadata": {
    "slideshow": {
     "slide_type": "-"
    }
   },
   "outputs": [],
   "source": [
    "\n",
    "public class Game {\n",
    "    \n",
    "    public static void main(String[] args){\n",
    "        \n",
    "        System.out.println(\"Welcome to my dungeon, stranger....\");        \n",
    "        \n",
    "       }\n",
    "} "
   ]
  },
  {
   "cell_type": "markdown",
   "metadata": {
    "slideshow": {
     "slide_type": "slide"
    }
   },
   "source": [
    "## Running The Game\n",
    "\n",
    "Run `Game` class in Netbeans:\n",
    "\n",
    "![oop/img/run.png](oop/img/run.png)"
   ]
  },
  {
   "cell_type": "markdown",
   "metadata": {
    "slideshow": {
     "slide_type": "slide"
    }
   },
   "source": [
    "## Monsters: the first encounter\n",
    "\n",
    "Create a file called `Monster.java` with a public class `Monster` inside\n",
    "\n",
    "- filename **must** be the same as public class name"
   ]
  },
  {
   "cell_type": "markdown",
   "metadata": {
    "slideshow": {
     "slide_type": "-"
    }
   },
   "source": [
    "```java\n",
    "package it.yourcompany.adventure;\n",
    "```"
   ]
  },
  {
   "cell_type": "code",
   "execution_count": 3,
   "metadata": {
    "slideshow": {
     "slide_type": "-"
    }
   },
   "outputs": [],
   "source": [
    "public class Monster {\n",
    "    public String name = \"\";    \n",
    "    public int lifepoints = 0;                   \n",
    "}"
   ]
  },
  {
   "cell_type": "markdown",
   "metadata": {
    "slideshow": {
     "slide_type": "fragment"
    }
   },
   "source": [
    "Java dogma says...\n",
    "\n",
    "- **NOTE 1**: fields should be private, but we're using public ones"
   ]
  },
  {
   "cell_type": "markdown",
   "metadata": {
    "slideshow": {
     "slide_type": "fragment"
    }
   },
   "source": [
    "- **NOTE 2**: we should define a getter/setter for each field, we don't do that"
   ]
  },
  {
   "cell_type": "markdown",
   "metadata": {
    "slideshow": {
     "slide_type": "fragment"
    }
   },
   "source": [
    "- **NOTE 3**: we should also define a constructor, but we're using the implicit default empty constructor which is public"
   ]
  },
  {
   "cell_type": "markdown",
   "metadata": {
    "slideshow": {
     "slide_type": "slide"
    }
   },
   "source": [
    "## Invoke the Monster"
   ]
  },
  {
   "cell_type": "code",
   "execution_count": 4,
   "metadata": {
    "slideshow": {
     "slide_type": "-"
    }
   },
   "outputs": [],
   "source": [
    "public class Game {\n",
    "    \n",
    "    public static void main(String[] args){\n",
    "        \n",
    "        System.out.println(\"Welcome to my dungeon, stranger....\");        \n",
    "        \n",
    "        Monster monster1 = new Monster();\n",
    "        \n",
    "        monster1.name = \"Cerberus\";\n",
    "        monster1.lifepoints = 7;\n",
    "                        \n",
    "        System.out.println();\n",
    "        System.out.println(\"monster1.name is       : \" + monster1.name);\n",
    "        System.out.println(\"monster1.lifepoints are: \" + monster1.lifepoints);\n",
    "                \n",
    "       }\n",
    "} "
   ]
  },
  {
   "cell_type": "markdown",
   "metadata": {
    "slideshow": {
     "slide_type": "-"
    }
   },
   "source": [
    "Run the `Game.java`, you should see some output."
   ]
  },
  {
   "cell_type": "markdown",
   "metadata": {
    "slideshow": {
     "slide_type": "slide"
    }
   },
   "source": [
    "## Join the Java Cult\n",
    "\n",
    "![join-the-cult.png](oop/img/join-the-cult.png)"
   ]
  },
  {
   "cell_type": "code",
   "execution_count": 5,
   "metadata": {
    "slideshow": {
     "slide_type": "skip"
    }
   },
   "outputs": [
    {
     "name": "stdout",
     "output_type": "stream",
     "text": [
      "\n",
      "monster1.toString() is: REPL.$JShell$14$Monster@3840617d\n"
     ]
    },
    {
     "data": {
      "text/plain": [
       "7"
      ]
     },
     "execution_count": 5,
     "metadata": {},
     "output_type": "execute_result"
    }
   ],
   "source": [
    "Monster monster1 = new Monster();\n",
    "\n",
    "monster1.name = \"Cerberus\";\n",
    "monster1.lifepoints = 7;\n",
    "\n",
    "System.out.println();\n",
    "System.out.println(\"monster1.toString() is: \" + monster1);\n",
    "\n",
    "\n",
    "Monster monster2 = new Monster();\n",
    "\n",
    "monster2.name = \"Cerberus\";\n",
    "monster2.lifepoints = 7;\n"
   ]
  },
  {
   "cell_type": "markdown",
   "metadata": {
    "slideshow": {
     "slide_type": "slide"
    }
   },
   "source": [
    "## toString Ritual\n",
    "\n",
    "This output printing is verbose:"
   ]
  },
  {
   "cell_type": "code",
   "execution_count": 6,
   "metadata": {
    "slideshow": {
     "slide_type": "-"
    }
   },
   "outputs": [
    {
     "name": "stdout",
     "output_type": "stream",
     "text": [
      "monster1 name is       : Cerberus\n",
      "monster1 lifepoints are: 7\n"
     ]
    }
   ],
   "source": [
    "System.out.println(\"monster1 name is       : \" + monster1.name);\n",
    "System.out.println(\"monster1 lifepoints are: \" + monster1.lifepoints);"
   ]
  },
  {
   "cell_type": "markdown",
   "metadata": {
    "slideshow": {
     "slide_type": "fragment"
    }
   },
   "source": [
    "This would be shorter, but....: "
   ]
  },
  {
   "cell_type": "markdown",
   "metadata": {
    "slideshow": {
     "slide_type": "-"
    }
   },
   "source": [
    "```java\n",
    "System.out.println(\"monster1.toString() is : \" + monster1);\n",
    "```\n",
    "\n",
    "```\n",
    "monster1 toString() is : it.yourcompany.adventure.Monster@b44d430f\n",
    "```"
   ]
  },
  {
   "cell_type": "markdown",
   "metadata": {
    "slideshow": {
     "slide_type": "-"
    }
   },
   "source": [
    "It shows the physical address, not nice. "
   ]
  },
  {
   "cell_type": "markdown",
   "metadata": {
    "slideshow": {
     "slide_type": "slide"
    }
   },
   "source": [
    "**After** you defined your fields:\n",
    "\n",
    "- generate a `toString` method implementation \n",
    "- (if you wonder why, it's because **the cult told you to do so**)\n",
    "\n",
    "![insert-code.png](oop/img/insert-code.png)"
   ]
  },
  {
   "cell_type": "markdown",
   "metadata": {
    "slideshow": {
     "slide_type": "slide"
    }
   },
   "source": [
    "![to-string-1.png](oop/img/to-string-1.png)"
   ]
  },
  {
   "cell_type": "markdown",
   "metadata": {
    "slideshow": {
     "slide_type": "slide"
    }
   },
   "source": [
    "Select all fields:\n",
    "\n",
    "![to-string-2.png](oop/img/to-string-2.png)"
   ]
  },
  {
   "cell_type": "markdown",
   "metadata": {
    "slideshow": {
     "slide_type": "slide"
    }
   },
   "source": [
    "```java\n",
    "package it.yourcompany.game;\n",
    "```"
   ]
  },
  {
   "cell_type": "code",
   "execution_count": 7,
   "metadata": {
    "slideshow": {
     "slide_type": "-"
    }
   },
   "outputs": [],
   "source": [
    "\n",
    "public class Monster {\n",
    "    \n",
    "    public String name = \"\";\n",
    "    public int lifepoints = 0;    \n",
    "\n",
    "\n",
    "    // Java rituals  ......................\n",
    "    \n",
    "    @Override\n",
    "    public String toString() {\n",
    "        return \"Monster{\" + \"name=\" + name + \", lifepoints=\" + lifepoints + '}';\n",
    "    }    \n",
    "    \n",
    "}"
   ]
  },
  {
   "cell_type": "markdown",
   "metadata": {
    "slideshow": {
     "slide_type": "slide"
    }
   },
   "source": [
    "You should now have a printable monster:"
   ]
  },
  {
   "cell_type": "code",
   "execution_count": 8,
   "metadata": {
    "slideshow": {
     "slide_type": "-"
    }
   },
   "outputs": [],
   "source": [
    "public class Game {\n",
    "    \n",
    "    public static void main(String[] args){\n",
    "        \n",
    "        System.out.println(\"Welcome to my dungeon, stranger....\");        \n",
    "        \n",
    "        Monster monster1 = new Monster();\n",
    "        \n",
    "        monster1.name = \"Cerberus\";\n",
    "        monster1.lifepoints = 7;\n",
    "        \n",
    "        System.out.println();\n",
    "        System.out.println(\"monster1.toString() is: \" + monster1);\n",
    "                \n",
    "    }\n",
    "} "
   ]
  },
  {
   "cell_type": "markdown",
   "metadata": {
    "slideshow": {
     "slide_type": "-"
    }
   },
   "source": [
    "```\n",
    "Welcome to my dungeon, stranger....\n",
    "\n",
    "monster1.toString() is: Monster{name=Cerberus, lifepoints=7}\n",
    "```"
   ]
  },
  {
   "cell_type": "markdown",
   "metadata": {
    "slideshow": {
     "slide_type": "slide"
    }
   },
   "source": [
    "## All equal monsters should be equal."
   ]
  },
  {
   "cell_type": "markdown",
   "metadata": {
    "slideshow": {
     "slide_type": "fragment"
    }
   },
   "source": [
    "Are they?"
   ]
  },
  {
   "cell_type": "code",
   "execution_count": 9,
   "metadata": {
    "slideshow": {
     "slide_type": "slide"
    }
   },
   "outputs": [],
   "source": [
    "import java.util.List;\n",
    "\n",
    "public class Game {    \n",
    "    public static void main(String[] args){\n",
    "        \n",
    "        System.out.println(\"Welcome to my dungeon, stranger....\");        \n",
    "        \n",
    "        Monster monster1 = new Monster();\n",
    "        \n",
    "        monster1.name = \"Cerberus\";\n",
    "        monster1.lifepoints = 7;\n",
    "        \n",
    "        System.out.println();\n",
    "        System.out.println(\"monster1.toString() is: \" + monster1);\n",
    "\n",
    "        Monster monster2 = new Monster();\n",
    "        \n",
    "        monster2.name = \"Cerberus\";\n",
    "        monster2.lifepoints = 7;\n",
    "                \n",
    "        System.out.println();\n",
    "        System.out.println(\"monster2.toString() is: \" + monster2);\n",
    "\n",
    "        System.out.println();\n",
    "        System.out.println(\"monster1.equals(monster2) : \" + monster1.equals(monster2));\n",
    "        \n",
    "        System.out.println();\n",
    "        System.out.println(\"List.of(monster1).contains(monster2): \" + List.of(monster1).contains(monster2));                \n",
    "    }\n",
    "}"
   ]
  },
  {
   "cell_type": "markdown",
   "metadata": {
    "slideshow": {
     "slide_type": "slide"
    }
   },
   "source": [
    "```\n",
    "Welcome to my dungeon, stranger....\n",
    "\n",
    "monster1.toString() is : Monster{name=Cerberus, lifepoints=7}\n",
    "\n",
    "monster2.toString() is : Monster{name=Cerberus, lifepoints=7}\n",
    "\n",
    "monster1.equals(monster2) : false\n",
    "\n",
    "List.of(monster1).contains(monster2): false\n",
    "```"
   ]
  },
  {
   "cell_type": "markdown",
   "metadata": {
    "slideshow": {
     "slide_type": "-"
    }
   },
   "source": [
    "That's not ok. "
   ]
  },
  {
   "cell_type": "markdown",
   "metadata": {
    "slideshow": {
     "slide_type": "fragment"
    }
   },
   "source": [
    "Both `.equals()` and in general collections search methods do not work by default with new classes. "
   ]
  },
  {
   "cell_type": "markdown",
   "metadata": {
    "slideshow": {
     "slide_type": "slide"
    }
   },
   "source": [
    "## Equals and Hashcode Ritual\n",
    "\n",
    "Let's fix the problem.\n",
    "\n",
    "![equals-hash-1.png](oop/img/equals-hash-1.png)"
   ]
  },
  {
   "cell_type": "markdown",
   "metadata": {
    "slideshow": {
     "slide_type": "slide"
    }
   },
   "source": [
    "![equals-hash-2.png](oop/img/equals-hash-2.png)"
   ]
  },
  {
   "cell_type": "markdown",
   "metadata": {
    "slideshow": {
     "slide_type": "slide"
    }
   },
   "source": [
    "You should now have a ton of more Java bla bla, **see all** [on Github](https://github.com/DavidLeoni/jam/blob/master/slides-7-classes.ipynb)"
   ]
  },
  {
   "cell_type": "markdown",
   "metadata": {
    "slideshow": {
     "slide_type": "-"
    }
   },
   "source": [
    "```java\n",
    "package it.yourcompany.adventure;\n",
    "```"
   ]
  },
  {
   "cell_type": "code",
   "execution_count": 10,
   "metadata": {
    "slideshow": {
     "slide_type": "-"
    }
   },
   "outputs": [],
   "source": [
    "\n",
    "import java.util.Objects;\n",
    "\n",
    "public class Monster {\n",
    "    \n",
    "    // stuff that matters    \n",
    "    public String name = \"\";\n",
    "    public int lifepoints = 0;    \n",
    "    \n",
    "    \n",
    "    // Java rituals  ......................\n",
    "    \n",
    "    @Override\n",
    "    public String toString() {\n",
    "        return \"Monster{\" + \"name=\" + name + \", lifepoints=\" + lifepoints + '}';\n",
    "    }    \n",
    "    @Override\n",
    "    public int hashCode() {\n",
    "        int hash = 3;\n",
    "        hash = 89 * hash + Objects.hashCode(this.name);\n",
    "        hash = 89 * hash + this.lifepoints;\n",
    "        return hash;\n",
    "    }\n",
    "    @Override\n",
    "    public boolean equals(Object obj) {\n",
    "        if (this == obj) {\n",
    "            return true;\n",
    "        }\n",
    "        if (obj == null) {\n",
    "            return false;\n",
    "        }\n",
    "        if (getClass() != obj.getClass()) {\n",
    "            return false;\n",
    "        }\n",
    "        final Monster other = (Monster) obj;\n",
    "        if (this.lifepoints != other.lifepoints) {\n",
    "            return false;\n",
    "        }\n",
    "        if (!Objects.equals(this.name, other.name)) {\n",
    "            return false;\n",
    "        }\n",
    "        return true;\n",
    "    }        \n",
    "}\n"
   ]
  },
  {
   "cell_type": "markdown",
   "metadata": {
    "slideshow": {
     "slide_type": "slide"
    }
   },
   "source": [
    "## Show me the equality - same monster\n",
    "\n",
    "Rerun the Game:"
   ]
  },
  {
   "cell_type": "markdown",
   "metadata": {
    "slideshow": {
     "slide_type": "-"
    }
   },
   "source": [
    "```\n",
    "Welcome to my dungeon, stranger....\n",
    "\n",
    "monster1.toString() is : Hero{name=Cerberus, lifepoints=7}\n",
    "\n",
    "monster2.toString() is : Hero{name=Cerberus, lifepoints=7}\n",
    "\n",
    "monster1.equals(monster2) : true\n",
    "\n",
    "List.of(monster1).contains(monster2): true\n",
    "```"
   ]
  },
  {
   "cell_type": "markdown",
   "metadata": {
    "slideshow": {
     "slide_type": "slide"
    }
   },
   "source": [
    "## Show me the equality - many monsters"
   ]
  },
  {
   "cell_type": "code",
   "execution_count": 11,
   "metadata": {
    "slideshow": {
     "slide_type": "skip"
    }
   },
   "outputs": [
    {
     "name": "stdout",
     "output_type": "stream",
     "text": [
      "\n",
      "monster1.toString() is: Monster{name=Cerberus, lifepoints=7}\n"
     ]
    },
    {
     "data": {
      "text/plain": [
       "7"
      ]
     },
     "execution_count": 11,
     "metadata": {},
     "output_type": "execute_result"
    }
   ],
   "source": [
    "Monster monster1 = new Monster();\n",
    "\n",
    "monster1.name = \"Cerberus\";\n",
    "monster1.lifepoints = 7;\n",
    "\n",
    "System.out.println();\n",
    "System.out.println(\"monster1.toString() is: \" + monster1);\n",
    "\n",
    "\n",
    "Monster monster2 = new Monster();\n",
    "\n",
    "monster2.name = \"Cerberus\";\n",
    "monster2.lifepoints = 7;\n"
   ]
  },
  {
   "cell_type": "code",
   "execution_count": 12,
   "metadata": {
    "slideshow": {
     "slide_type": "-"
    }
   },
   "outputs": [
    {
     "name": "stdout",
     "output_type": "stream",
     "text": [
      "\n",
      "monster1.equals(monster3) : false\n",
      "\n",
      "List.of(monster1).contains(monster3): false\n",
      "\n",
      "List.of(monster1, monster3).contains(monster3): true\n"
     ]
    }
   ],
   "source": [
    "Monster monster3 = new Monster();\n",
    "\n",
    "monster3.name = \"Zombo\";\n",
    "monster3.lifepoints = 4;\n",
    "\n",
    "\n",
    "System.out.println();\n",
    "System.out.println(\"monster1.equals(monster3) : \" + monster1.equals(monster3));\n",
    "\n",
    "System.out.println();\n",
    "System.out.println(\"List.of(monster1).contains(monster3): \" + List.of(monster1).contains(monster3));\n",
    "\n",
    "System.out.println();\n",
    "System.out.println(\"List.of(monster1, monster3).contains(monster3): \"\n",
    "                    + List.of(monster1, monster3).contains(monster3));"
   ]
  }
 ],
 "metadata": {
  "celltoolbar": "Slideshow",
  "kernelspec": {
   "display_name": "Java",
   "language": "java",
   "name": "java"
  },
  "language_info": {
   "codemirror_mode": "java",
   "file_extension": ".jshell",
   "mimetype": "text/x-java-source",
   "name": "Java",
   "pygments_lexer": "java",
   "version": "15.0.2+7"
  },
  "toc": {
   "base_numbering": 1,
   "nav_menu": {},
   "number_sections": false,
   "sideBar": true,
   "skip_h1_title": false,
   "title_cell": "Table of Contents",
   "title_sidebar": "Contents",
   "toc_cell": false,
   "toc_position": {},
   "toc_section_display": true,
   "toc_window_display": true
  }
 },
 "nbformat": 4,
 "nbformat_minor": 4
}
