{
 "cells": [
  {
   "cell_type": "raw",
   "metadata": {
    "raw_mimetype": "text/html",
    "slideshow": {
     "slide_type": "notes"
    }
   },
   "source": [
    "<link rel=\"stylesheet\" href=\"custom.css\" id=\"theme\">"
   ]
  },
  {
   "cell_type": "markdown",
   "metadata": {
    "slideshow": {
     "slide_type": "slide"
    }
   },
   "source": [
    "\n",
    "# UF 06: JAVA\n",
    "\n",
    "## Matrices\n",
    "\n",
    "**Alta Formazione Professionale - ITT Marconi**\n",
    "\n",
    "**March 2021**\n"
   ]
  },
  {
   "cell_type": "markdown",
   "metadata": {
    "slideshow": {
     "slide_type": "slide"
    }
   },
   "source": [
    "## [8.1 Two-dimensional (2D) Arrays](https://csawesome.runestone.academy/runestone/books/published/csawesome/Unit8-2DArray/topic-8-1-2D-arrays.html)\n",
    "\n",
    "1.1) [2D Arrays](https://csawesome.runestone.academy/runestone/books/published/csawesome/Unit8-2DArray/topic-8-1-2D-arrays-Day1.html)\n",
    "\n",
    "![row-major.png](oop/img/row-major.png)"
   ]
  },
  {
   "cell_type": "markdown",
   "metadata": {
    "slideshow": {
     "slide_type": "slide"
    }
   },
   "source": [
    "## [1.2) Array Storage](https://csawesome.runestone.academy/runestone/books/published/csawesome/Unit8-2DArray/topic-8-1-2D-arrays-Day1.html#array-storage)\n",
    "\n",
    "1.3) How Java Stores 2D Arrays\n",
    "\n",
    "![arrarr.png](oop/img/arrarr.png)"
   ]
  },
  {
   "cell_type": "markdown",
   "metadata": {
    "slideshow": {
     "slide_type": "slide"
    }
   },
   "source": [
    "## [1.4) Declaring 2D Arrays](https://csawesome.runestone.academy/runestone/books/published/csawesome/Unit8-2DArray/topic-8-1-2D-arrays-Day1.html#declaring-2d-arrays)"
   ]
  },
  {
   "cell_type": "code",
   "execution_count": 1,
   "metadata": {
    "slideshow": {
     "slide_type": "-"
    }
   },
   "outputs": [],
   "source": [
    "String[][] adungeon;"
   ]
  },
  {
   "cell_type": "code",
   "execution_count": 2,
   "metadata": {
    "slideshow": {
     "slide_type": "fragment"
    }
   },
   "outputs": [],
   "source": [
    "String[][] adungeon = new String[3][4];"
   ]
  },
  {
   "cell_type": "code",
   "execution_count": 3,
   "metadata": {
    "slideshow": {
     "slide_type": "fragment"
    }
   },
   "outputs": [],
   "source": [
    "String[][] adungeon = {\n",
    "                            {\"trap\", \"spider\", \"treasure\"},\n",
    "                            {\"rat\",  \"gems\",   \"spiderweb\"},\n",
    "                            {\"treasure\",   \"treasure\",  \"gargoyle\"},\n",
    "                            {\"goblin\", \"pit\",  \"oil lamp\"}\n",
    "                        }"
   ]
  },
  {
   "cell_type": "markdown",
   "metadata": {
    "slideshow": {
     "slide_type": "slide"
    }
   },
   "source": [
    "## Arrays get / set value"
   ]
  },
  {
   "cell_type": "code",
   "execution_count": 4,
   "metadata": {
    "slideshow": {
     "slide_type": "-"
    }
   },
   "outputs": [
    {
     "name": "stdout",
     "output_type": "stream",
     "text": [
      "treasure\n",
      "peppo\n"
     ]
    }
   ],
   "source": [
    "System.out.println(  adungeon[2][1] );\n",
    "\n",
    "adungeon[2][1] = \"peppo\";   // row 2, column 1\n",
    "\n",
    "System.out.println(  adungeon[2][1] );"
   ]
  },
  {
   "cell_type": "markdown",
   "metadata": {
    "slideshow": {
     "slide_type": "slide"
    }
   },
   "source": [
    "\n",
    "\n",
    "## [2 Traversing 2D Arrays (nested loops)](https://csawesome.runestone.academy/runestone/books/published/csawesome/Unit8-2DArray/topic-8-2-2D-array-loops.html)"
   ]
  },
  {
   "cell_type": "code",
   "execution_count": 5,
   "metadata": {
    "slideshow": {
     "slide_type": "-"
    }
   },
   "outputs": [
    {
     "name": "stdout",
     "output_type": "stream",
     "text": [
      "trap spider treasure \n",
      "rat gems spiderweb \n",
      "treasure peppo gargoyle \n",
      "goblin pit oil lamp \n"
     ]
    }
   ],
   "source": [
    "for (int i=0; i < adungeon.length; i++){\n",
    "            \n",
    "    for (int j=0; j < adungeon[i].length; j++){\n",
    "        System.out.print(adungeon[i][j] + \" \");  \n",
    "    }\n",
    "    System.out.println();\n",
    "}"
   ]
  },
  {
   "cell_type": "markdown",
   "metadata": {
    "slideshow": {
     "slide_type": "fragment"
    }
   },
   "source": [
    "2.1) [Nested Loops for 2D Arrays](https://csawesome.runestone.academy/runestone/books/published/csawesome/Unit8-2DArray/topic-8-2-2D-array-loops-Day1.html)\n",
    "\n",
    "2.2) Getting the Number of Rows and Columns\n",
    "\n",
    "2.3) Looping Through a 2D Array"
   ]
  },
  {
   "cell_type": "markdown",
   "metadata": {
    "slideshow": {
     "slide_type": "slide"
    }
   },
   "source": [
    "## Some formatting example...\n",
    "\n",
    "[System.out.printf(format, parameters, ...)](https://www.baeldung.com/java-printstream-printf)\n",
    "\n",
    "* `%s` is a placeholder for strings \n",
    "* `%-10s` justifies string left with 10 characters width\n",
    "* `%d` is a placeholder for integers\n",
    "* `%f` is a placeholder for floating point numbers\n",
    "* `%-10.2f` justifies left with 10 characters width and 2 decimals"
   ]
  },
  {
   "cell_type": "code",
   "execution_count": 6,
   "metadata": {
    "slideshow": {
     "slide_type": "-"
    }
   },
   "outputs": [
    {
     "name": "stdout",
     "output_type": "stream",
     "text": [
      "Item      Quantity  Price\n",
      "Cigars    5         13.40     \n",
      "\n"
     ]
    }
   ],
   "source": [
    "System.out.println(\"Item      Quantity  Price\");  \n",
    "System.out.printf(\"%-10s%-10d%-10.2f\\n\", \"Cigars\", 5, 13.40);  \n",
    "System.out.println();"
   ]
  },
  {
   "cell_type": "markdown",
   "metadata": {
    "slideshow": {
     "slide_type": "slide"
    }
   },
   "source": [
    "## Better 2D array printing"
   ]
  },
  {
   "cell_type": "code",
   "execution_count": 7,
   "metadata": {
    "slideshow": {
     "slide_type": "-"
    }
   },
   "outputs": [
    {
     "name": "stdout",
     "output_type": "stream",
     "text": [
      "trap      spider    treasure  \n",
      "rat       gems      spiderweb \n",
      "treasure  peppo     gargoyle  \n",
      "goblin    pit       oil lamp  \n"
     ]
    }
   ],
   "source": [
    "for (int i=0; i < adungeon.length; i++){\n",
    "    \n",
    "    String[] row = adungeon[i];\n",
    "    \n",
    "    for (int j=0; j < row.length; j++){\n",
    "        System.out.printf(\"%-10s\", row[j]);  \n",
    "    }\n",
    "    System.out.println();\n",
    "}"
   ]
  },
  {
   "cell_type": "markdown",
   "metadata": {
    "slideshow": {
     "slide_type": "slide"
    }
   },
   "source": [
    "## [2.4) Enhanced For-Each Loop for 2D Arrays](https://csawesome.runestone.academy/runestone/books/published/csawesome/Unit8-2DArray/topic-8-2-2D-array-loops-Day2.html)"
   ]
  },
  {
   "cell_type": "code",
   "execution_count": 8,
   "metadata": {
    "slideshow": {
     "slide_type": "-"
    }
   },
   "outputs": [
    {
     "name": "stdout",
     "output_type": "stream",
     "text": [
      "trap      spider    treasure  \n",
      "rat       gems      spiderweb \n",
      "treasure  peppo     gargoyle  \n",
      "goblin    pit       oil lamp  \n"
     ]
    }
   ],
   "source": [
    "for (String[] row : adungeon){        \n",
    "    \n",
    "    for (String cell : row){\n",
    "        System.out.printf(\"%-10s\", cell);  \n",
    "    }\n",
    "    System.out.println();\n",
    "}"
   ]
  },
  {
   "cell_type": "markdown",
   "metadata": {
    "slideshow": {
     "slide_type": "slide"
    }
   },
   "source": [
    "## [2.5) 2D Array Algorithms](https://csawesome.runestone.academy/runestone/books/published/csawesome/Unit8-2DArray/topic-8-2-2D-array-loops-Day2.html#d-array-algorithms)"
   ]
  },
  {
   "cell_type": "code",
   "execution_count": 9,
   "metadata": {
    "slideshow": {
     "slide_type": "-"
    }
   },
   "outputs": [],
   "source": [
    "String[][] adungeon = {\n",
    "                           {\"trap\", \"spider\", \"treasure\"},\n",
    "                           {\"rat\",  \"gems\",   \"spiderweb\"},\n",
    "                           {\"treasure\",   \"treasure\",  \"gargoyle\"},\n",
    "                           {\"goblin\", \"pit\",  \"oil lamp\"}\n",
    "                      }"
   ]
  },
  {
   "cell_type": "markdown",
   "metadata": {
    "slideshow": {
     "slide_type": "-"
    }
   },
   "source": [
    "- Does `adungeon`contain **some** treasure?"
   ]
  },
  {
   "cell_type": "markdown",
   "metadata": {
    "slideshow": {
     "slide_type": "fragment"
    }
   },
   "source": [
    "- **How many** treasures does `adungeon` contains?"
   ]
  },
  {
   "cell_type": "markdown",
   "metadata": {
    "slideshow": {
     "slide_type": "fragment"
    }
   },
   "source": [
    "- At **which coordinates** (row, column) is the **first**  treasure in each row?"
   ]
  },
  {
   "cell_type": "markdown",
   "metadata": {
    "slideshow": {
     "slide_type": "slide"
    }
   },
   "source": [
    "## List collections"
   ]
  },
  {
   "cell_type": "code",
   "execution_count": 10,
   "metadata": {
    "slideshow": {
     "slide_type": "-"
    }
   },
   "outputs": [],
   "source": [
    "List<List<String>>  lsdungeon = List.of(List.of(\"trap\",    \"spider\",    \"treasure\"),\n",
    "                                        List.of(\"rat\",     \"gems\",      \"spiderweb\"),\n",
    "                                        List.of(\"treasure\",\"treasure\",  \"gargoyle\"),\n",
    "                                        List.of(\"goblin\",  \"pit\",       \"oil lamp\"));  "
   ]
  },
  {
   "cell_type": "code",
   "execution_count": 11,
   "metadata": {
    "slideshow": {
     "slide_type": "fragment"
    }
   },
   "outputs": [],
   "source": [
    "// var :  type inference (since Java 10)\n",
    "\n",
    "var lsdungeon = List.of(List.of(\"trap\",    \"spider\",    \"treasure\"),\n",
    "                        List.of(\"rat\",     \"gems\",      \"spiderweb\"),\n",
    "                        List.of(\"treasure\",\"treasure\",  \"gargoyle\"),\n",
    "                        List.of(\"goblin\",  \"pit\",       \"oil lamp\"));  "
   ]
  },
  {
   "cell_type": "code",
   "execution_count": 12,
   "metadata": {
    "slideshow": {
     "slide_type": "fragment"
    }
   },
   "outputs": [
    {
     "name": "stdout",
     "output_type": "stream",
     "text": [
      "[trap, spider, treasure]\n"
     ]
    }
   ],
   "source": [
    "System.out.println(lsdungeon.get(0));"
   ]
  },
  {
   "cell_type": "code",
   "execution_count": 13,
   "metadata": {
    "slideshow": {
     "slide_type": "fragment"
    }
   },
   "outputs": [
    {
     "name": "stdout",
     "output_type": "stream",
     "text": [
      "[rat, gems, spiderweb]\n"
     ]
    }
   ],
   "source": [
    "System.out.println(lsdungeon.get(1));"
   ]
  },
  {
   "cell_type": "code",
   "execution_count": 14,
   "metadata": {
    "slideshow": {
     "slide_type": "fragment"
    }
   },
   "outputs": [
    {
     "name": "stdout",
     "output_type": "stream",
     "text": [
      "spiderweb\n"
     ]
    }
   ],
   "source": [
    "System.out.println(lsdungeon.get(1).get(2));"
   ]
  },
  {
   "cell_type": "markdown",
   "metadata": {
    "slideshow": {
     "slide_type": "slide"
    }
   },
   "source": [
    "## Printing list dungeon"
   ]
  },
  {
   "cell_type": "code",
   "execution_count": 15,
   "metadata": {
    "slideshow": {
     "slide_type": "-"
    }
   },
   "outputs": [
    {
     "name": "stdout",
     "output_type": "stream",
     "text": [
      "[[trap, spider, treasure], [rat, gems, spiderweb], [treasure, treasure, gargoyle], [goblin, pit, oil lamp]]\n"
     ]
    }
   ],
   "source": [
    "System.out.println(lsdungeon);"
   ]
  },
  {
   "cell_type": "code",
   "execution_count": 16,
   "metadata": {
    "slideshow": {
     "slide_type": "fragment"
    }
   },
   "outputs": [
    {
     "name": "stdout",
     "output_type": "stream",
     "text": [
      "[treasure, treasure, gargoyle]\n"
     ]
    }
   ],
   "source": [
    "System.out.println(lsdungeon.get(2));"
   ]
  },
  {
   "cell_type": "code",
   "execution_count": 17,
   "metadata": {
    "slideshow": {
     "slide_type": "fragment"
    }
   },
   "outputs": [
    {
     "name": "stdout",
     "output_type": "stream",
     "text": [
      "trap      spider    treasure  \n",
      "rat       gems      spiderweb \n",
      "treasure  treasure  gargoyle  \n",
      "goblin    pit       oil lamp  \n"
     ]
    }
   ],
   "source": [
    "for (List<String> row : lsdungeon){\n",
    "    for (String cell : row){\n",
    "        System.out.printf(\"%-10s\", cell);\n",
    "    }\n",
    "    System.out.println();\n",
    "}"
   ]
  },
  {
   "cell_type": "markdown",
   "metadata": {
    "slideshow": {
     "slide_type": "slide"
    }
   },
   "source": [
    "## List array algorithms"
   ]
  },
  {
   "cell_type": "markdown",
   "metadata": {
    "slideshow": {
     "slide_type": "-"
    }
   },
   "source": [
    "Does `lsdungeon`contains **some** treasure?"
   ]
  },
  {
   "cell_type": "code",
   "execution_count": 18,
   "metadata": {
    "slideshow": {
     "slide_type": "-"
    }
   },
   "outputs": [],
   "source": [
    "var lsdungeon = List.of(List.of(\"trap\",    \"spider\",    \"treasure\"),\n",
    "                        List.of(\"rat\",     \"gems\",      \"spiderweb\"),\n",
    "                        List.of(\"treasure\",\"treasure\",  \"gargoyle\"),\n",
    "                        List.of(\"goblin\",  \"pit\",       \"oil lamp\"));             "
   ]
  },
  {
   "cell_type": "code",
   "execution_count": 19,
   "metadata": {
    "slideshow": {
     "slide_type": "fragment"
    }
   },
   "outputs": [
    {
     "name": "stdout",
     "output_type": "stream",
     "text": [
      "found:true\n"
     ]
    }
   ],
   "source": [
    "             \n",
    "int i = 0;\n",
    "boolean found = false;\n",
    "while (i < lsdungeon.size() && !found){    \n",
    "    found = lsdungeon.get(i).contains(\"treasure\");\n",
    "    i++;\n",
    "}\n",
    "\n",
    "System.out.println(\"found:\" + found);"
   ]
  },
  {
   "cell_type": "markdown",
   "metadata": {
    "slideshow": {
     "slide_type": "slide"
    }
   },
   "source": [
    "**How many** treasures does `lsdungon` contains?"
   ]
  },
  {
   "cell_type": "code",
   "execution_count": 20,
   "metadata": {
    "slideshow": {
     "slide_type": "-"
    }
   },
   "outputs": [],
   "source": [
    "var lsdungeon = List.of(List.of(\"trap\",    \"spider\",    \"treasure\"),\n",
    "                        List.of(\"rat\",     \"gems\",      \"spiderweb\"),\n",
    "                        List.of(\"treasure\",\"treasure\",  \"gargoyle\"),\n",
    "                        List.of(\"goblin\",  \"pit\",       \"oil lamp\"));  "
   ]
  },
  {
   "cell_type": "code",
   "execution_count": 21,
   "metadata": {
    "slideshow": {
     "slide_type": "fragment"
    }
   },
   "outputs": [
    {
     "name": "stdout",
     "output_type": "stream",
     "text": [
      "3\n"
     ]
    }
   ],
   "source": [
    "int count = 0;\n",
    "for (List<String> row : lsdungeon){\n",
    "    count += Collections.frequency(row, \"treasure\");\n",
    "}\n",
    "\n",
    "System.out.println(count);"
   ]
  },
  {
   "cell_type": "markdown",
   "metadata": {
    "slideshow": {
     "slide_type": "slide"
    }
   },
   "source": [
    "At **which coordinates** (row, column) is the **first**  treasure in each row?"
   ]
  },
  {
   "cell_type": "code",
   "execution_count": 22,
   "metadata": {
    "slideshow": {
     "slide_type": "-"
    }
   },
   "outputs": [],
   "source": [
    "var lsdungeon = List.of(List.of(\"trap\",    \"spider\",    \"treasure\"),\n",
    "                        List.of(\"rat\",     \"gems\",      \"spiderweb\"),\n",
    "                        List.of(\"treasure\",\"treasure\",  \"gargoyle\"),\n",
    "                        List.of(\"goblin\",  \"pit\",       \"oil lamp\"));  "
   ]
  },
  {
   "cell_type": "code",
   "execution_count": 23,
   "metadata": {
    "slideshow": {
     "slide_type": "fragment"
    }
   },
   "outputs": [
    {
     "name": "stdout",
     "output_type": "stream",
     "text": [
      "Found a treasure at row 0 and column 2\n",
      "Found a treasure at row 2 and column 0\n"
     ]
    }
   ],
   "source": [
    "int count = 0;\n",
    "for (int i = 0; i < lsdungeon.size(); i++){\n",
    "    \n",
    "    int j = lsdungeon.get(i).indexOf(\"treasure\");\n",
    "    if (j != -1){        \n",
    "        System.out.println(\"Found a treasure at row \" + i + \" and column \" + j);\n",
    "    }\n",
    "}\n"
   ]
  },
  {
   "cell_type": "markdown",
   "metadata": {
    "slideshow": {
     "slide_type": "slide"
    }
   },
   "source": [
    "## Monsters dungeon"
   ]
  },
  {
   "cell_type": "markdown",
   "metadata": {
    "slideshow": {
     "slide_type": "-"
    }
   },
   "source": [
    "Using `Monster` defined as in [classes slides](https://davidleoni.github.io/jam/slides-6-classes.slides.html#/)\n",
    "\n",
    "Note for us here a _healty cerberus_ is a monster with the `name` \"Cerberus\" and _exactly_ 7 lifepoints."
   ]
  },
  {
   "cell_type": "code",
   "execution_count": 24,
   "metadata": {
    "slideshow": {
     "slide_type": "skip"
    }
   },
   "outputs": [],
   "source": [
    "\n",
    "import java.util.Objects;\n",
    "\n",
    "public class Monster {\n",
    "    \n",
    "    // stuff that matters    \n",
    "    public String name = \"\";\n",
    "    public int lifepoints = 0;    \n",
    "    \n",
    "    \n",
    "    // Java rituals  ......................\n",
    "    \n",
    "    @Override\n",
    "    public String toString() {\n",
    "        return \"Monster{\" + \"name=\" + name + \", lifepoints=\" + lifepoints + '}';\n",
    "    }    \n",
    "    @Override\n",
    "    public int hashCode() {\n",
    "        int hash = 3;\n",
    "        hash = 89 * hash + Objects.hashCode(this.name);\n",
    "        hash = 89 * hash + this.lifepoints;\n",
    "        return hash;\n",
    "    }\n",
    "    @Override\n",
    "    public boolean equals(Object obj) {\n",
    "        if (this == obj) {\n",
    "            return true;\n",
    "        }\n",
    "        if (obj == null) {\n",
    "            return false;\n",
    "        }\n",
    "        if (getClass() != obj.getClass()) {\n",
    "            return false;\n",
    "        }\n",
    "        final Monster other = (Monster) obj;\n",
    "        if (this.lifepoints != other.lifepoints) {\n",
    "            return false;\n",
    "        }\n",
    "        if (!Objects.equals(this.name, other.name)) {\n",
    "            return false;\n",
    "        }\n",
    "        return true;\n",
    "    }        \n",
    "}\n"
   ]
  },
  {
   "cell_type": "code",
   "execution_count": 25,
   "metadata": {
    "slideshow": {
     "slide_type": "-"
    }
   },
   "outputs": [],
   "source": [
    "Monster cerberus1 = new Monster();\n",
    "cerberus1.name = \"Cerberus\";\n",
    "cerberus1.lifepoints = 7;\n",
    "\n",
    "Monster cerberus2 = new Monster();\n",
    "cerberus2.name = \"Cerberus\";\n",
    "cerberus2.lifepoints = 7;\n",
    "\n",
    "Monster zombo = new Monster();\n",
    "zombo.name = \"Zombo\";\n",
    "zombo.lifepoints = 4;\n",
    "\n",
    "List<List<Monster>> mdungeon = List.of(List.of(cerberus1,  cerberus1,  zombo),\n",
    "                                       List.of(zombo,      cerberus2,  cerberus1),\n",
    "                                       List.of(zombo,      cerberus1,  zombo),\n",
    "                                       List.of(cerberus1,  zombo,      cerberus2));   "
   ]
  },
  {
   "cell_type": "markdown",
   "metadata": {
    "slideshow": {
     "slide_type": "slide"
    }
   },
   "source": [
    "Does `mdungeon`contain **some** healthy cerberus?"
   ]
  },
  {
   "cell_type": "code",
   "execution_count": 26,
   "metadata": {
    "slideshow": {
     "slide_type": "-"
    }
   },
   "outputs": [],
   "source": [
    "var mdungeon = List.of(List.of(cerberus1,  cerberus1,  zombo),\n",
    "                       List.of(zombo,      cerberus2,  cerberus1),\n",
    "                       List.of(zombo,      cerberus1,  zombo),\n",
    "                       List.of(cerberus1,  zombo,      cerberus2));                         "
   ]
  },
  {
   "cell_type": "code",
   "execution_count": 27,
   "metadata": {
    "slideshow": {
     "slide_type": "fragment"
    }
   },
   "outputs": [
    {
     "name": "stdout",
     "output_type": "stream",
     "text": [
      "found:true\n"
     ]
    }
   ],
   "source": [
    "int i = 0;\n",
    "boolean found = false;\n",
    "while (i < mdungeon.size() && !found){    \n",
    "    found = mdungeon.get(i).contains(cerberus1);\n",
    "    i++;\n",
    "}\n",
    "\n",
    "System.out.println(\"found:\" + found);"
   ]
  },
  {
   "cell_type": "markdown",
   "metadata": {
    "slideshow": {
     "slide_type": "slide"
    }
   },
   "source": [
    "**How many** healthy cerberus does `mdungeon` contain?"
   ]
  },
  {
   "cell_type": "code",
   "execution_count": 28,
   "metadata": {
    "slideshow": {
     "slide_type": "-"
    }
   },
   "outputs": [],
   "source": [
    "var mdungeon = List.of(List.of(cerberus1,  cerberus1,  zombo),\n",
    "                       List.of(zombo,      cerberus2,  cerberus1),\n",
    "                       List.of(zombo,      cerberus1,  zombo),\n",
    "                       List.of(cerberus1,  zombo,      cerberus2));   "
   ]
  },
  {
   "cell_type": "code",
   "execution_count": 29,
   "metadata": {
    "slideshow": {
     "slide_type": "fragment"
    }
   },
   "outputs": [
    {
     "name": "stdout",
     "output_type": "stream",
     "text": [
      "7\n"
     ]
    }
   ],
   "source": [
    "int count = 0;\n",
    "for (var row : mdungeon){\n",
    "    count += Collections.frequency(row, cerberus1);\n",
    "}\n",
    "\n",
    "System.out.println(count);"
   ]
  },
  {
   "cell_type": "markdown",
   "metadata": {
    "slideshow": {
     "slide_type": "slide"
    }
   },
   "source": [
    "At **which coordinates** (row, column) is the **first**  healthy cerberus in each row?"
   ]
  },
  {
   "cell_type": "code",
   "execution_count": 30,
   "metadata": {
    "slideshow": {
     "slide_type": "-"
    }
   },
   "outputs": [],
   "source": [
    "var mdungeon = List.of(List.of(cerberus1,  cerberus1,  zombo),\n",
    "                       List.of(zombo,      cerberus2,  cerberus1),\n",
    "                       List.of(zombo,      cerberus1,  zombo),\n",
    "                       List.of(cerberus1,  zombo,      cerberus2));   "
   ]
  },
  {
   "cell_type": "code",
   "execution_count": 31,
   "metadata": {
    "slideshow": {
     "slide_type": "fragment"
    }
   },
   "outputs": [
    {
     "name": "stdout",
     "output_type": "stream",
     "text": [
      "Found a healthy cerberus at row 0 and column 0\n",
      "Found a healthy cerberus at row 1 and column 1\n",
      "Found a healthy cerberus at row 2 and column 1\n",
      "Found a healthy cerberus at row 3 and column 0\n"
     ]
    }
   ],
   "source": [
    "int count = 0;\n",
    "for (int i = 0; i < mdungeon.size(); i++){\n",
    "    \n",
    "    int j = mdungeon.get(i).indexOf(cerberus1);\n",
    "    if (j != -1){        \n",
    "        System.out.println(\"Found a healthy cerberus at row \" + i + \" and column \" + j);\n",
    "    }\n",
    "    \n",
    "}\n"
   ]
  },
  {
   "cell_type": "markdown",
   "metadata": {
    "slideshow": {
     "slide_type": "slide"
    }
   },
   "source": [
    "## Mixed dungeon\n",
    "\n",
    "All classes inherits from class `Object`, so we can have a mixed list of generic objects:"
   ]
  },
  {
   "cell_type": "code",
   "execution_count": 32,
   "metadata": {
    "slideshow": {
     "slide_type": "-"
    }
   },
   "outputs": [],
   "source": [
    "List<List<Object>> mixdungeon = List.of(List.of(cerberus1,  \"oil lamp\",  zombo),\n",
    "                                        List.of(zombo,      cerberus2,  cerberus1),\n",
    "                                        List.of(\"spiderweb\",cerberus1,  zombo),\n",
    "                                        List.of(cerberus1,  zombo,      cerberus2));   \n"
   ]
  },
  {
   "cell_type": "markdown",
   "metadata": {
    "slideshow": {
     "slide_type": "fragment"
    }
   },
   "source": [
    "We can also omit `Object` in the type:"
   ]
  },
  {
   "cell_type": "code",
   "execution_count": 33,
   "metadata": {
    "slideshow": {
     "slide_type": "fragment"
    }
   },
   "outputs": [],
   "source": [
    "List<List> mixdungeon = List.of(List.of(cerberus1,  \"treasure\", zombo),\n",
    "                                List.of(zombo,      cerberus2,  cerberus1),\n",
    "                                List.of(\"treasure\", cerberus1,   zombo),\n",
    "                                List.of(cerberus1,  \"treasure\", \"treasure\"));   "
   ]
  },
  {
   "cell_type": "markdown",
   "metadata": {
    "slideshow": {
     "slide_type": "slide"
    }
   },
   "source": [
    "## Mixed dungeon algorithms"
   ]
  },
  {
   "cell_type": "code",
   "execution_count": 34,
   "metadata": {
    "slideshow": {
     "slide_type": "-"
    }
   },
   "outputs": [],
   "source": [
    "var mixdungeon = List.of(List.of(cerberus1,  \"treasure\", zombo),\n",
    "                         List.of(zombo,      cerberus2,  cerberus1),\n",
    "                         List.of(\"treasure\", cerberus1,   \"oil lamp\"),\n",
    "                         List.of(cerberus1,  \"treasure\", \"treasure\")); "
   ]
  },
  {
   "cell_type": "code",
   "execution_count": 35,
   "metadata": {},
   "outputs": [],
   "source": [
    "Object obj = cerberus1;\n",
    "//Object obj = cerberus2;\n",
    "//Object obj = \"treasure\";"
   ]
  },
  {
   "cell_type": "markdown",
   "metadata": {
    "slideshow": {
     "slide_type": "-"
    }
   },
   "source": [
    "- Does `mixdungeon`contain **some** `obj`?\n",
    "- **How many** `obj` does `mixdungeon` contain?\n",
    "- At **which coordinates** (row, column) is the **first**  `obj` in each row?"
   ]
  }
 ],
 "metadata": {
  "celltoolbar": "Slideshow",
  "kernelspec": {
   "display_name": "Java",
   "language": "java",
   "name": "java"
  },
  "language_info": {
   "codemirror_mode": "java",
   "file_extension": ".jshell",
   "mimetype": "text/x-java-source",
   "name": "Java",
   "pygments_lexer": "java",
   "version": "15.0.2+7"
  },
  "toc": {
   "base_numbering": 1,
   "nav_menu": {},
   "number_sections": false,
   "sideBar": true,
   "skip_h1_title": false,
   "title_cell": "Table of Contents",
   "title_sidebar": "Contents",
   "toc_cell": false,
   "toc_position": {},
   "toc_section_display": true,
   "toc_window_display": true
  }
 },
 "nbformat": 4,
 "nbformat_minor": 4
}
