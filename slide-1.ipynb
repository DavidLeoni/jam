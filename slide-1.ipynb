{
 "cells": [
  {
   "cell_type": "markdown",
   "metadata": {
    "slideshow": {
     "slide_type": "notes"
    }
   },
   "source": [
    "# Java WIP\n",
    "\n",
    "CSAwesome Syllabus:\n",
    "https://docs.google.com/document/d/1z4TZCTxFp6784QbLVQNetAKkrCZzfF6fzpwoJ8jvV_8/edit#\n",
    "\n",
    "CSAwesome: [course.csawesome.org](https://course.csawesome.org)\n",
    "\n",
    "Problemi: no hashmap? "
   ]
  },
  {
   "cell_type": "markdown",
   "metadata": {},
   "source": [
    "## About me\n",
    "\n",
    "David Leoni (david.leoni.work@gmail.com)\n",
    "\n",
    "Born programmer, worked at \n",
    "\n",
    "- Università di Trento, DISI - Povo, Trento\n",
    "- University of Edinburgh and Heriot-Watt University (Scotland)\n",
    "\n",
    "interested in teaching computer science\n",
    "\n",
    "Elementary, middle school level:\n",
    "\n",
    "- Manager CoderDojo Trento:  [coderdojotrento.it](https://www.coderdojotrento.it)\n",
    "- Presidente Associazione CoderDolomiti: [coderdolomiti.it](https://www.coderdolomiti.it)\n",
    "\n",
    "University level:\n",
    "\n",
    "- Dip. Informatica Povo (master Data Science, master QCB) \n",
    "- Sociologia (triennale) Trento\n",
    "- Educazione professionale, Scienze cognitive, Rovereto"
   ]
  },
  {
   "cell_type": "markdown",
   "metadata": {
    "slideshow": {
     "slide_type": "slide"
    }
   },
   "source": [
    "## Course\n",
    "\n",
    "- 6 credits TODO\n",
    "- Java part: 30h theory + 15h lab \n",
    "\n",
    "\n",
    "- material in English\n",
    "- will talk in Italian (mostly)"
   ]
  },
  {
   "cell_type": "markdown",
   "metadata": {},
   "source": [
    "## Expectations\n",
    "\n",
    "* you want to be a well paid programmer\n",
    "* ... so you will do _a lot_ of exercises!\n",
    "* ... and think like a _pro_"
   ]
  },
  {
   "cell_type": "markdown",
   "metadata": {},
   "source": [
    "## Evaluation\n",
    "\n",
    "* midterm (mostly to check progress)\n",
    "* oral exam (~1h), coding interview style \n",
    "* groupwork"
   ]
  },
  {
   "cell_type": "markdown",
   "metadata": {
    "slideshow": {
     "slide_type": "slide"
    }
   },
   "source": [
    "\n",
    "## Plan\n",
    "\n",
    "**goals**\n",
    "\n",
    "- basics, simple algorithms\n",
    "- data modelling\n",
    "- some concurrent programming\n",
    "- some groupwork (versioning with git, documentation, unit testing)\n",
    "\n",
    "**non-goals**\n",
    "\n",
    "- learning specific librieries (i.e. GUI, XML parsing, web)\n",
    "- frameworks (i.e. Spring)"
   ]
  },
  {
   "cell_type": "markdown",
   "metadata": {},
   "source": [
    "## Syllabus\n",
    "\n",
    "TODO"
   ]
  },
  {
   "cell_type": "code",
   "execution_count": 16,
   "metadata": {},
   "outputs": [
    {
     "data": {
      "text/plain": [
       "1.25"
      ]
     },
     "execution_count": 16,
     "metadata": {},
     "output_type": "execute_result"
    }
   ],
   "source": [
    "5.0 / 4"
   ]
  },
  {
   "cell_type": "markdown",
   "metadata": {},
   "source": [
    "## Course Material\n",
    "\n",
    "Main book: [CSAwesome](https://csawesome.runestone.academy/runestone/books/published/csawesome/index.html) by Dr. Barbara Ericson\n",
    "\n",
    "- online\n",
    "- step-by-step\n",
    "- lots of activities to do\n",
    "\n",
    "Extra exercises: [Edabit website](https://edabit.com/challenges/java) (select Java language)\n",
    "\n",
    "- difficulty from 'Easy' to 'Very hard' included (don't worry, they aren't actually _so_ hard)\n",
    "\n",
    "[Core Java eleventh edition](https://horstmann.com/corejava/), by Cay S. Horstmann and Gary Cornell:\n",
    "\n",
    "- Volume 1: you can read all except graphical user interfaces\n",
    "- Volume 2: chapters Streams; Input and output\n",
    "- straight to the point, for professionals, no exercises\n",
    "- if you are serious about Java (you should be), I recommend buying it"
   ]
  },
  {
   "cell_type": "markdown",
   "metadata": {
    "slideshow": {
     "slide_type": "subslide"
    }
   },
   "source": [
    "## Why Java\n",
    "\n",
    "- widely used\n",
    "- platform independent\n",
    "- web server, analytics, mobile (Android)"
   ]
  },
  {
   "attachments": {},
   "cell_type": "markdown",
   "metadata": {
    "slideshow": {
     "slide_type": "slide"
    }
   },
   "source": [
    "## Java: many versions, many features\n",
    "\n",
    "\n",
    "![java-versions.png](tools/img/java-versions.png)"
   ]
  },
  {
   "attachments": {},
   "cell_type": "markdown",
   "metadata": {
    "slideshow": {
     "slide_type": "slide"
    }
   },
   "source": [
    "## Usage by version\n",
    "\n",
    "Source: [New Relic - State of Java](https://blog.newrelic.com/technology/state-of-java/)\n",
    "\n",
    "![java-usage-by-version.png](tools/img/java-usage-by-version.png)"
   ]
  },
  {
   "attachments": {},
   "cell_type": "markdown",
   "metadata": {
    "slideshow": {
     "slide_type": "slide"
    }
   },
   "source": [
    "\n",
    "## Vendors\n",
    "\n",
    "Source: [New Relic - State of Java](https://blog.newrelic.com/technology/state-of-java/)\n",
    "\n",
    "![java-vendors.png](tools/img/java-vendors.png)"
   ]
  },
  {
   "cell_type": "markdown",
   "metadata": {
    "slideshow": {
     "slide_type": "slide"
    }
   },
   "source": [
    "## Which one?\n",
    "\n",
    "\n",
    "**at work**\n",
    "\n",
    "- _tried-and-tested_ _LTS_ versions (8, 11) \n",
    "- vendor: the one you want to call when having problems\n",
    "    \n",
    "**in these classes**\n",
    "\n",
    "- _latest-and-greatest_ (v15 as of 2020)\n",
    "- vendor: AdoptOpenJDK\n",
    "\n",
    "\n",
    "**Selecting the right Java version / vendor is very important**\n",
    "\n",
    "Please read [Java Versions and Features by Marco Behler](https://www.marcobehler.com/guides/a-guide-to-java-versions-and-features)     \n",
    "\n"
   ]
  },
  {
   "cell_type": "markdown",
   "metadata": {
    "slideshow": {
     "slide_type": "slide"
    }
   },
   "source": [
    "## Java language\n",
    "\n",
    "object oriented\n",
    "\n",
    "strongly typed\n",
    "\n",
    "statically compiled\n",
    "\n",
    "- lately also supports scripting ($\\geq$ Java 9)\n",
    "\n",
    "imperative paradigm\n",
    "\n",
    "- lately also functional ($\\geq$ Java 8)\n",
    "\n",
    "verbose\n",
    "\n",
    "- lately more concise, i.e. streams ($\\geq$ Java 8), records ($\\geq$ Java 14), ..."
   ]
  },
  {
   "cell_type": "markdown",
   "metadata": {},
   "source": [
    "## Architecture\n",
    "\n",
    "multiplatform\n",
    "\n",
    "virtual machine (JVM) \n",
    "\n",
    "bytecode translation\n",
    "\n",
    "CPU code "
   ]
  },
  {
   "cell_type": "markdown",
   "metadata": {},
   "source": [
    "## Tooling\n",
    "\n",
    "[Netbeans](https://netbeans.org/) \n",
    "\n",
    "- Desktop IDE\n",
    "- I installed the 12.2 version, supports latest Java 15 features\n",
    "\n",
    "[repl.it](https://repl.it/)\n",
    "\n",
    "- online IDE\n",
    "- collaborative\n",
    "- supports Java 11 (as of Jan 2021)\n",
    "\n",
    "[pythontutor.com](http://pythontutor.com/java.html#mode=edit) \n",
    "\n",
    "- online\n",
    "- visual debugger\n",
    "- also supports Java 8 (as of Jan 2021)\n",
    "\n",
    "[other desktop IDEs](https://csawesome.runestone.academy/runestone/books/published/csawesome/Unit1-Getting-Started/javaIDEs.html):\n",
    "\n",
    "- Eclipse: Desktop IDE\n",
    "- IntelliJ: Desktop IDE\n",
    "- AndroidStudio (based on IntelliJ)"
   ]
  },
  {
   "cell_type": "code",
   "execution_count": null,
   "metadata": {},
   "outputs": [],
   "source": [
    "# Unit 1 - "
   ]
  }
 ],
 "metadata": {
  "celltoolbar": "Slideshow",
  "kernelspec": {
   "display_name": "Java",
   "language": "java",
   "name": "java"
  },
  "language_info": {
   "codemirror_mode": "java",
   "file_extension": ".jshell",
   "mimetype": "text/x-java-source",
   "name": "Java",
   "pygments_lexer": "java",
   "version": "15.0.1+9"
  },
  "toc": {
   "base_numbering": 1,
   "nav_menu": {},
   "number_sections": false,
   "sideBar": true,
   "skip_h1_title": false,
   "title_cell": "Table of Contents",
   "title_sidebar": "Contents",
   "toc_cell": false,
   "toc_position": {},
   "toc_section_display": true,
   "toc_window_display": false
  }
 },
 "nbformat": 4,
 "nbformat_minor": 4
}
