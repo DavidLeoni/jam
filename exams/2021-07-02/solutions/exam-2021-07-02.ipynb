{
 "cells": [
  {
   "cell_type": "markdown",
   "metadata": {},
   "source": [
    "# Exam Fri 02, Jul 2021\n",
    "\n",
    "**Alta Formazione ITT Marconi, Rovereto- UF06 Java**\n",
    "\n",
    "<!--\n",
    "## [Download exercises](../../../_static/generated/jupman-2021-07-02-exam.zip)\n",
    "-->"
   ]
  },
  {
   "cell_type": "markdown",
   "metadata": {},
   "source": [
    "## 1. contest\n",
    "\n",
    "✪ An `ArrayList` of  `partecipants` has won a contest, and now we want to show their position on a billboard. Write some code which MODIFIES the list by writing the participant number to the side of the name.\n"
   ]
  },
  {
   "cell_type": "code",
   "execution_count": 1,
   "metadata": {},
   "outputs": [
    {
     "name": "stdout",
     "output_type": "stream",
     "text": [
      "[Marta-1, Peppo-2, Elisa-3, Gioele-4, Rosa-5]\n"
     ]
    }
   ],
   "source": [
    "static void contest(ArrayList<String> participants){    \n",
    "\n",
    "    // write here\n",
    "}\n",
    "\n",
    "ArrayList<String> participants =   new ArrayList();\n",
    "\n",
    "participants.add(\"Marta\");\n",
    "participants.add(\"Peppo\");\n",
    "participants.add(\"Elisa\");\n",
    "participants.add(\"Gioele\");\n",
    "participants.add(\"Rosa\");\n",
    "\n",
    "contest(participants);\n",
    "\n",
    "System.out.println(participants);"
   ]
  },
  {
   "cell_type": "markdown",
   "metadata": {},
   "source": [
    "## 2. manymany\n",
    "\n",
    "✪✪ Given a string `word` and a string `repetitions` containing only digits, write a method which RETURN a string containing all the characters of `word` repeated by the number of times reported in the corresponding digit of `repetitions`."
   ]
  },
  {
   "cell_type": "code",
   "execution_count": 2,
   "metadata": {},
   "outputs": [
    {
     "name": "stdout",
     "output_type": "stream",
     "text": [
      "roooosssppooo\n",
      "arrrrttttiifffiicccioo\n"
     ]
    }
   ],
   "source": [
    "\n",
    "static String manymany(String word, String repetitions){    \n",
    "    // write here\n",
    "}\n",
    "\n",
    "System.out.println(manymany(\"rospo\", \"14323\"));          // \"roooosssppooo\"\n",
    "\n",
    "System.out.println(manymany(\"artificio\", \"144232312\"));  // \"arrrrttttiifffiicccioo\")"
   ]
  },
  {
   "cell_type": "markdown",
   "metadata": {},
   "source": [
    "## 3. Store\n",
    "\n",
    "A company produces lamps and has a main store with several franchises on the territory, which may apply different prices. In particular, we focus on the main store and the Trento store.\n",
    "\n",
    "- Each store has a certain amount of lamps in stock.\n",
    "- The price of each lamp is 10€\n",
    "- Main store applies no discount\n",
    "- Trento store applies a 20% discount on orders of at least 500 lamps. If less than 500 lamps are ordered, no discount is applied.\n",
    "\n",
    "Write a couple of classes with these two methods:\n",
    "\n",
    "1. `double price(int quantity)`: given a quantity of lamps, return the price they would cost. If the quantity exceeds stock, return -1.\n",
    "    - **NOTE 1**: this method **does not** change the stock.\n",
    "    - **NOTE 2**: I didn't put examples about -1 case.\n",
    "2. `void sell(int quantity)` : given a quantity of lamps, sell them and change the stock accordingly. If the quantity exceeds stock, we assume all available stock is sold.\n",
    "\n",
    "**Try avoiding repeated code by using proper inheritance.**"
   ]
  },
  {
   "cell_type": "code",
   "execution_count": 3,
   "metadata": {},
   "outputs": [
    {
     "name": "stdout",
     "output_type": "stream",
     "text": [
      "*** mainStore:\n",
      "  DEBUG: Store created: 5000 units in stock, unit price is 10.0 €\n",
      "  price(400): 4000.0 €\n",
      "  price(1000): 10000.0 €\n",
      "\n",
      "  sell(400)\n",
      "  DEBUG: Stock is 5000\n",
      "  DEBUG: sold 400 items\n",
      "  DEBUG: stock is now 4600\n",
      "\n",
      "  sell(1000)\n",
      "  DEBUG: Stock is 4600\n",
      "  DEBUG: sold 1000 items\n",
      "  DEBUG: stock is now 3600\n",
      "\n",
      "  sell(8000)\n",
      "  DEBUG: Stock is 3600\n",
      "  DEBUG: WARNING: I CAN ONLY SELL 3600 items.\n",
      "  DEBUG: stock is now 0\n",
      "\n",
      "\n",
      "*** trentoStore:\n",
      "  DEBUG: Store created: 1000 units in stock, unit price is 10.0 €\n",
      "  price(400): 4000.0 €\n",
      "  price(1000): 8000.0 €\n",
      "\n",
      "  sell(400)\n",
      "  DEBUG: Stock is 1000\n",
      "  DEBUG: sold 400 items\n",
      "  DEBUG: stock is now 600\n",
      "\n",
      "  sell(1000)\n",
      "  DEBUG: Stock is 600\n",
      "  DEBUG: WARNING: I CAN ONLY SELL 600 items.\n",
      "  DEBUG: stock is now 0\n",
      "\n"
     ]
    }
   ],
   "source": [
    "\n",
    "// write classes here\n",
    "\n",
    "\n",
    "// TEST\n",
    "\n",
    "System.out.println(\"*** mainStore:\");\n",
    "Store mainStore = new Store(5000);\n",
    "System.out.println(\"  price(400): \" + mainStore.price(400) + \" €\");\n",
    "System.out.println(\"  price(1000): \" + mainStore.price(1000) + \" €\");\n",
    "System.out.println();\n",
    "System.out.println(\"  sell(400)\");\n",
    "mainStore.sell(400);\n",
    "System.out.println(\"  sell(1000)\");\n",
    "mainStore.sell(1000);\n",
    "System.out.println(\"  sell(8000)\");\n",
    "mainStore.sell(8000);\n",
    "\n",
    "\n",
    "System.out.println();\n",
    "\n",
    "System.out.println(\"*** trentoStore:\");\n",
    "TrentoStore trentoStore = new TrentoStore(1000);\n",
    "System.out.println(\"  price(400): \" + trentoStore.price(400) + \" €\");\n",
    "System.out.println(\"  price(1000): \" + trentoStore.price(1000) + \" €\");  // discounted\n",
    "System.out.println();\n",
    "System.out.println(\"  sell(400)\");\n",
    "trentoStore.sell(400);\n",
    "System.out.println(\"  sell(1000)\");\n",
    "trentoStore.sell(1000);\n"
   ]
  },
  {
   "cell_type": "markdown",
   "metadata": {},
   "source": [
    "## 4. isMatinc\n",
    "\n",
    "Write a method `isMatinc` which given an integer matrix RETURN `true` if all rows are strictly increasing from left to right, otherwise return `false` "
   ]
  },
  {
   "cell_type": "code",
   "execution_count": 4,
   "metadata": {},
   "outputs": [
    {
     "name": "stdout",
     "output_type": "stream",
     "text": [
      "true\n",
      "true\n",
      "false\n",
      "false\n"
     ]
    }
   ],
   "source": [
    "public static boolean isMatinc(int[][] matrice){\n",
    "    // write here    \n",
    "}\n",
    "\n",
    "// TEST\n",
    "int[][] mat1 = {{1,4,6,7,9},\n",
    "                {0,1,2,4,8},\n",
    "                {2,6,8,9,10},\n",
    "                {0,1,2,4,8},\n",
    "                {0,1,5,7,9},\n",
    "                {1,2,3,8,9}};\n",
    "\n",
    "System.out.println(isMatinc(mat1));  // true\n",
    "\n",
    "int[][] mat2 = {{0,1,3,4},                \n",
    "                {0,1,3,4},\n",
    "                {0,1,2,4},\n",
    "                {1,4,6,7},\n",
    "                {1,4,6,7},\n",
    "                {2,6,8,9},\n",
    "                {0,1,5,7},\n",
    "                {1,2,3,8}};\n",
    "\n",
    "System.out.println(isMatinc(mat2));  // true\n",
    "\n",
    "int[][] mat3 = {{1,4,5,7,9},\n",
    "                {0,1,2,4,8},\n",
    "                {2,6,3,9,10},\n",
    "                {1,5,3,8,7}};\n",
    "\n",
    "System.out.println(isMatinc(mat3));  // false\n",
    "\n",
    "int[][] mat4 = {{1,4,7,7,9},\n",
    "                {0,1,2,4,8},\n",
    "                {3,2,6,8,9}};\n",
    "\n",
    "System.out.println(isMatinc(mat4));  // false"
   ]
  }
 ],
 "metadata": {
  "celltoolbar": "Edit Metadata",
  "kernelspec": {
   "display_name": "Java",
   "language": "java",
   "name": "java"
  },
  "language_info": {
   "codemirror_mode": "java",
   "file_extension": ".jshell",
   "mimetype": "text/x-java-source",
   "name": "Java",
   "pygments_lexer": "java",
   "version": "15.0.2+7"
  },
  "toc": {
   "base_numbering": 1,
   "nav_menu": {},
   "number_sections": false,
   "sideBar": true,
   "skip_h1_title": false,
   "title_cell": "Table of Contents",
   "title_sidebar": "Contents",
   "toc_cell": false,
   "toc_position": {},
   "toc_section_display": true,
   "toc_window_display": true
  }
 },
 "nbformat": 4,
 "nbformat_minor": 1
}
