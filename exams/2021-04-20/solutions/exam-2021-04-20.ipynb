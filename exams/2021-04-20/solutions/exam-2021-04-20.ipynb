{
 "cells": [
  {
   "cell_type": "markdown",
   "metadata": {},
   "source": [
    "# Exam Tue 20, Apr 2021\n",
    "\n",
    "**Alta Formazione ITT Marconi, Rovereto- UF06 Java**"
   ]
  },
  {
   "cell_type": "markdown",
   "metadata": {},
   "source": [
    "## sepnum\n",
    "\n",
    "Write a function `sepnum` that takes a list of strings in the format `\"word number\"` and RETURN a hashmap which maps each word to the extracted number.\n",
    "\n",
    "- to parse the number, use `Integer.parseInt`"
   ]
  },
  {
   "cell_type": "code",
   "execution_count": 1,
   "metadata": {},
   "outputs": [
    {
     "name": "stdout",
     "output_type": "stream",
     "text": [
      "{tell=6, say=72, shout=583}\n"
     ]
    }
   ],
   "source": [
    "\n",
    "public static HashMap<String, Integer> sepnum(List<String> parole){\n",
    "    // write here\n",
    "}\n",
    "\n",
    "// TEST\n",
    "System.out.println(sepnum(List.of(\"say 72\", \"tell 6\", \"shout 583\")));\n",
    "// {tell=6, say=72, shout=583}"
   ]
  },
  {
   "cell_type": "markdown",
   "metadata": {},
   "source": [
    "## matriverba\n",
    "\n",
    "Write a function which given a matrix of characters, RETURN a string with the words extracted from columns, putting in uppercase the first character of each word.\n",
    "\n",
    "- **USE** a `StringBuilder`\n",
    "- for uppercasing, use `.toUpperCase()`\n"
   ]
  },
  {
   "cell_type": "code",
   "execution_count": null,
   "metadata": {},
   "outputs": [],
   "source": [
    "public static String matriverba(String[][] matrice){\n",
    "    // write here\n",
    "}\n",
    "\n",
    "// TEST\n",
    "String[][] mat = {{\"p\",\"c\",\"z\",\"g\",\"b\", \"d\"},\n",
    "                  {\"o\",\"a\",\"a\",\"i\",\"o\", \"e\"},\n",
    "                  {\"r\",\"l\",\"n\",\"a\",\"r\", \"n\"},\n",
    "                  {\"t\",\"m\",\"n\",\"r\",\"s\", \"t\"},\n",
    "                  {\"o\",\"a\",\"a\",\"a\",\"e\", \"e\"},};\n",
    "\n",
    "System.out.println(matriverba(mat));  // PortoCalmaZannaGiaraBorseDente"
   ]
  },
  {
   "cell_type": "markdown",
   "metadata": {},
   "source": [
    "## Energy drinks\n",
    "\n",
    "Nuka-Cola is the flagship product of the Nuka-Cola Corporation and one of the symbols of United States culture of 2044. \n",
    "\n",
    "You are hired by Nuka-Cola Corporation to develop a software to manage the mixtures. In a confidential report, they tell you there is a simple formula called `BasicCola` from which they derive all the others for their experiments, in particular the secret ingredient for `NukaCola`  is _cesium 137_, a radioactive isotope. Not so healthy, but people _love it_. \n",
    "\n",
    "Unfortunately, cesium decays over time with mass getting converted into energy (and other isotopes we don't consider), so you are given this formula:\n",
    "\n",
    "amount of cesium after $n$ years = $cesium * 0.97716^n$\n",
    "\n",
    "Implement a class `BasicCola` and a class `NukaCola` which derives from it so that the following code can run:\n",
    "\n",
    "- try minimizing the amount of code you write by properly reusing already implemented methods\n",
    "- for raising powers you can use `Math.pow(x,n)`"
   ]
  },
  {
   "cell_type": "code",
   "execution_count": 6,
   "metadata": {},
   "outputs": [
    {
     "name": "stdout",
     "output_type": "stream",
     "text": [
      "BasicCola:\n",
      "  water weight: 300.0 g\n",
      "  sugar weight: 8.0 g\n",
      "  caffeine weight: 22.0 g\n",
      "  weight today: 330.0 g\n",
      "  weight after 10 years: 330.0 g\n",
      "\n",
      "NukaCola:\n",
      "  water weight: 300.0 g\n",
      "  sugar weight: 10.0 g\n",
      "  caffeine weight: 12.0 g\n",
      "  cesium weight today: 7.0 g\n",
      "  cesium weight after 10 years: 5.555905476644116 g\n",
      "  weight today: 329.0 g\n",
      "  weight after 10 years: 327.5559054766441 g\n"
     ]
    }
   ],
   "source": [
    "\n",
    "\n",
    "// TEST\n",
    "// NOTE: we only pass sugar and caffeine, water is supposed constant = 300 \n",
    "BasicCola cola = new BasicCola(8.0, 22.0);  \n",
    "\n",
    "System.out.println(\"BasicCola:\");\n",
    "System.out.println(\"  water weight: \" + cola.getWater() + \" g\"); \n",
    "System.out.println(\"  sugar weight: \" + cola.getSugar() + \" g\"); \n",
    "System.out.println(\"  caffeine weight: \" + cola.getCaffeine() + \" g\"); \n",
    "\n",
    "System.out.println(\"  weight today: \" + cola.weight() + \" g\"); \n",
    "System.out.println(\"  weight after 10 years: \" + cola.weight(10) + \" g\");\n",
    "\n",
    "System.out.println();\n",
    "\n",
    "NukaCola nuka = new NukaCola(7.0);  // we only pass cesium, sugar=10.0 and caffeine=12.0 are constants\n",
    "\n",
    "System.out.println(\"NukaCola:\");\n",
    "System.out.println(\"  water weight: \" + nuka.getWater() + \" g\"); \n",
    "System.out.println(\"  sugar weight: \" + nuka.getSugar() + \" g\"); \n",
    "System.out.println(\"  caffeine weight: \" + nuka.getCaffeine() + \" g\"); \n",
    "\n",
    "System.out.println(\"  cesium weight today: \" + nuka.getCesium() + \" g\"); \n",
    "System.out.println(\"  cesium weight after 10 years: \" + nuka.cesiumLeft(10) + \" g\"); \n",
    "System.out.println(\"  weight today: \" + nuka.weight() + \" g\"); \n",
    "System.out.println(\"  weight after 10 years: \" + nuka.weight(10) + \" g\");"
   ]
  },
  {
   "cell_type": "markdown",
   "metadata": {},
   "source": [
    "## findJoin\n",
    "\n",
    "\n",
    "Given a `List` of words, write a function `findJoin` which RETURNS the first word which ends with the first **3** characters of the next word. If such a  word is not found, RETURN `null`.\n",
    "\n",
    "- try making it efficient, by terminating the cycle as soon as you find the item\n",
    "- **DO NOT** use `break` nor `continue`\n",
    "\n",
    "\n",
    "- Useful methods: `.endsWith`, `.startsWith`\n",
    "- Bonus: write a `check` function to automate tests which raises an exception when result doesn't match expected one"
   ]
  },
  {
   "cell_type": "code",
   "execution_count": null,
   "metadata": {},
   "outputs": [],
   "source": [
    "public static String findJoin(List<String> words){\n",
    "    // write here\n",
    "}\n",
    "\n",
    "\n",
    "// TEST\n",
    "findJoin(List.of(\"ciao\",\"zapapp\",\"appzabb\",\"banza\",\"nzagame\")); // zapapp\n",
    "//findJoin(List.of(\"ciao\",\"zapapp\",\"zapapp\", \"zabb\"));  // null\n",
    "//findJoin(List.of());  // null\n",
    "//findJoin(List.of(\"ciao\"));  // null\n",
    "//findJoin(List.of(\"ciao\",\"iaoc\"));  // ciao\n",
    "//findJoin(List.of(\"ciao\",\"aoc\", \"\"));  // null\n",
    "//findJoin(List.of(\"bao\",\"ga\", \"zu\", \"zum\"));  // null\n",
    "//findJoin(List.of(\"bao\",\"ga\", \"zum\", \"um\"));  // null\n",
    "//findJoin(List.of(\"bao\",\"ga\", \"zum\", \"zum\"));  // zum\n",
    "//findJoin(List.of(\"bao\",\"ga\", \"wzam\", \"zam\"));  // wzam"
   ]
  }
 ],
 "metadata": {
  "celltoolbar": "Edit Metadata",
  "kernelspec": {
   "display_name": "Java",
   "language": "java",
   "name": "java"
  },
  "language_info": {
   "codemirror_mode": "java",
   "file_extension": ".jshell",
   "mimetype": "text/x-java-source",
   "name": "Java",
   "pygments_lexer": "java",
   "version": "15.0.2+7"
  },
  "toc": {
   "base_numbering": 1,
   "nav_menu": {},
   "number_sections": false,
   "sideBar": true,
   "skip_h1_title": false,
   "title_cell": "Table of Contents",
   "title_sidebar": "Contents",
   "toc_cell": false,
   "toc_position": {},
   "toc_section_display": true,
   "toc_window_display": true
  }
 },
 "nbformat": 4,
 "nbformat_minor": 1
}
