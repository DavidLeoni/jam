{
 "cells": [
  {
   "cell_type": "raw",
   "metadata": {
    "raw_mimetype": "text/html",
    "slideshow": {
     "slide_type": "skip"
    }
   },
   "source": [
    "<link rel=\"stylesheet\" href=\"custom.css\" id=\"theme\">"
   ]
  },
  {
   "cell_type": "markdown",
   "metadata": {
    "slideshow": {
     "slide_type": "slide"
    }
   },
   "source": [
    "# UF 06: JAVA\n",
    "\n",
    "## Course intro\n",
    "\n",
    "**Alta Formazione Professionale - ITT Marconi**\n",
    "\n",
    "**January 2021**"
   ]
  },
  {
   "cell_type": "markdown",
   "metadata": {
    "slideshow": {
     "slide_type": "slide"
    }
   },
   "source": [
    "## About me\n",
    "\n",
    "### David Leoni\n",
    "\n",
    "### david.leoni.work@gmail.com"
   ]
  },
  {
   "cell_type": "markdown",
   "metadata": {
    "slideshow": {
     "slide_type": "fragment"
    }
   },
   "source": [
    "### semantic web\n",
    "\n",
    "- Università di Trento, DISI - Povo, Trento\n",
    "- University of Edinburgh and Heriot-Watt University (Scotland)"
   ]
  },
  {
   "cell_type": "markdown",
   "metadata": {
    "slideshow": {
     "slide_type": "fragment"
    }
   },
   "source": [
    "### promoting computer science education\n",
    "\n",
    "elementary, middle school level:\n",
    "\n",
    "- Manager [CoderDojo Trento](https://www.coderdojotrento.it)\n",
    "- Presidente [Associazione CoderDolomiti](https://www.coderdolomiti.it)"
   ]
  },
  {
   "cell_type": "markdown",
   "metadata": {
    "slideshow": {
     "slide_type": "fragment"
    }
   },
   "source": [
    "university level:\n",
    "\n",
    "- DISI, Trento (master Data Science)\n",
    "- Sociologia, Trento\n",
    "- Educazione professionale, Scienze cognitive, Rovereto"
   ]
  },
  {
   "cell_type": "markdown",
   "metadata": {
    "slideshow": {
     "slide_type": "slide"
    }
   },
   "source": [
    "## Entry survey\n",
    "\n",
    "## [link](https://forms.gle/oW6S3CxdNbUGwM1KA)"
   ]
  },
  {
   "cell_type": "markdown",
   "metadata": {
    "slideshow": {
     "slide_type": "slide"
    }
   },
   "source": [
    "## Course\n",
    "\n",
    "Java part: 30h theory + 15h lab "
   ]
  },
  {
   "cell_type": "markdown",
   "metadata": {
    "slideshow": {
     "slide_type": "fragment"
    }
   },
   "source": [
    "probably we will follow 2h theory + 1h lab format"
   ]
  },
  {
   "cell_type": "markdown",
   "metadata": {
    "slideshow": {
     "slide_type": "fragment"
    }
   },
   "source": [
    "material in English"
   ]
  },
  {
   "cell_type": "markdown",
   "metadata": {
    "slideshow": {
     "slide_type": "fragment"
    }
   },
   "source": [
    "will talk in Italian (mostly)"
   ]
  },
  {
   "cell_type": "markdown",
   "metadata": {
    "slideshow": {
     "slide_type": "slide"
    }
   },
   "source": [
    "## Expectations\n",
    "\n",
    "you want to be a well paid programmer"
   ]
  },
  {
   "cell_type": "markdown",
   "metadata": {
    "slideshow": {
     "slide_type": "fragment"
    }
   },
   "source": [
    "... so you will do _a lot_ of exercises"
   ]
  },
  {
   "cell_type": "markdown",
   "metadata": {
    "slideshow": {
     "slide_type": "fragment"
    }
   },
   "source": [
    "... and think like a _pro_"
   ]
  },
  {
   "cell_type": "markdown",
   "metadata": {
    "slideshow": {
     "slide_type": "slide"
    }
   },
   "source": [
    "## Evaluation\n",
    "\n",
    "midterm (mostly to check progress)"
   ]
  },
  {
   "cell_type": "markdown",
   "metadata": {
    "slideshow": {
     "slide_type": "fragment"
    }
   },
   "source": [
    "oral exam (~1h), coding interview style"
   ]
  },
  {
   "cell_type": "markdown",
   "metadata": {
    "slideshow": {
     "slide_type": "fragment"
    }
   },
   "source": [
    "groupwork"
   ]
  },
  {
   "cell_type": "markdown",
   "metadata": {
    "slideshow": {
     "slide_type": "slide"
    }
   },
   "source": [
    "\n",
    "## Plan\n",
    "\n",
    "### goals\n",
    "\n",
    "- basics, simple algorithms\n",
    "- data modelling\n",
    "- some concurrent programming\n",
    "- some groupwork (versioning with git, documentation, unit testing)"
   ]
  },
  {
   "cell_type": "markdown",
   "metadata": {
    "slideshow": {
     "slide_type": "fragment"
    }
   },
   "source": [
    "### non-goals\n",
    "\n",
    "- learning specific librieries (i.e. GUI, XML parsing, web)\n",
    "- frameworks (i.e. Spring)"
   ]
  },
  {
   "cell_type": "markdown",
   "metadata": {
    "slideshow": {
     "slide_type": "slide"
    }
   },
   "source": [
    "## Syllabus\n",
    "\n",
    "1. Intro, Tools, Primitive Types\n",
    "2. Using Objects, Math class, strings\n",
    "3. Boolean Expressions, If Statements\n",
    "4. Iteration: while, for\n",
    "5. Writing Classes, documentation\n",
    "6. Arrays, ArrayList\n",
    "7. Sets, Maps\n",
    "\n",
    "Midterm exam (TBD)"
   ]
  },
  {
   "cell_type": "markdown",
   "metadata": {
    "slideshow": {
     "slide_type": "fragment"
    }
   },
   "source": [
    "8. Error handling and testing, JUnit\n",
    "9. 2D Arrays                                                     \n",
    "10. I/O: file formats, lines, CSV\n",
    "11. Inheritance\n",
    "12. Project: dependencies, versioning (git), documentation\n",
    "13. I/O: serialization, JSON, XML\n",
    "14. Project Lab\n",
    "15. Concurrency: threads, immutability\n",
    "\n",
    "Final exam (TBD)"
   ]
  },
  {
   "cell_type": "markdown",
   "metadata": {
    "slideshow": {
     "slide_type": "slide"
    }
   },
   "source": [
    "## Course Material\n",
    "\n",
    "**Main book:** [CSAwesome](https://csawesome.runestone.academy/runestone/books/published/csawesome/index.html) by Dr. Barbara Ericson\n",
    "\n",
    "- online\n",
    "- step-by-step\n",
    "- lots of activities to do"
   ]
  },
  {
   "cell_type": "markdown",
   "metadata": {
    "slideshow": {
     "slide_type": "fragment"
    }
   },
   "source": [
    "**Extra exercises:**\n",
    "\n",
    "* [Edabit website](https://edabit.com/challenges/java) (select Java language),  difficulty from 'Easy' to 'Very hard' included (don't worry, it's not actually _so_ hard)\n",
    "\n",
    "* Thinking in Java book, by Bruce Eckel"
   ]
  },
  {
   "cell_type": "markdown",
   "metadata": {
    "slideshow": {
     "slide_type": "fragment"
    }
   },
   "source": [
    "**Extra reading**: [Core Java eleventh edition](https://horstmann.com/corejava/), by Cay S. Horstmann and Gary Cornell\n",
    "\n",
    "- Volume 1: you can read all except graphical user interfaces\n",
    "- Volume 2: chapters Streams; Input and output\n",
    "- straight to the point, for professionals, no exercises\n",
    "- if you are serious about Java (you should be), I recommend buying it"
   ]
  }
 ],
 "metadata": {
  "celltoolbar": "Slideshow",
  "kernelspec": {
   "display_name": "Java",
   "language": "java",
   "name": "java"
  },
  "language_info": {
   "codemirror_mode": "java",
   "file_extension": ".jshell",
   "mimetype": "text/x-java-source",
   "name": "Java",
   "pygments_lexer": "java",
   "version": "15.0.1+9"
  },
  "toc": {
   "base_numbering": 1,
   "nav_menu": {},
   "number_sections": false,
   "sideBar": true,
   "skip_h1_title": false,
   "title_cell": "Table of Contents",
   "title_sidebar": "Contents",
   "toc_cell": false,
   "toc_position": {},
   "toc_section_display": true,
   "toc_window_display": false
  }
 },
 "nbformat": 4,
 "nbformat_minor": 4
}
