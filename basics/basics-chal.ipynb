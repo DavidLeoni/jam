{
 "cells": [
  {
   "cell_type": "markdown",
   "metadata": {},
   "source": [
    "# Basics challenge\n"
   ]
  },
  {
   "cell_type": "markdown",
   "metadata": {},
   "source": [
    "## Challenges\n",
    "\n",
    "We now propose some (very easy) exercises without solutions.\n",
    "\n",
    "Try to execute them in Netbeans, repl.it and JavaTutor to get familiar with all environments."
   ]
  },
  {
   "cell_type": "markdown",
   "metadata": {},
   "source": [
    "### Challenge - which booleans 1?\n",
    "\n",
    "Find the row with values such that the final print prints `true`. Is there only one combination or many?"
   ]
  },
  {
   "cell_type": "code",
   "execution_count": 1,
   "metadata": {},
   "outputs": [
    {
     "name": "stdout",
     "output_type": "stream",
     "text": [
      "false\n"
     ]
    }
   ],
   "source": [
    "\n",
    "boolean x = false, y = false;\n",
    "//boolean x = false, y = true;\n",
    "//boolean x = true, y = false;\n",
    "//boolean x = true, y = true;\n",
    "\n",
    "System.out.println(x && y)"
   ]
  },
  {
   "cell_type": "markdown",
   "metadata": {},
   "source": [
    "### Challenge - which booleans 2?\n",
    "\n",
    "Find the row in which by assigning values to `x` and `y` it prints `true`. Is there only one combination or many?"
   ]
  },
  {
   "cell_type": "code",
   "execution_count": 2,
   "metadata": {},
   "outputs": [
    {
     "name": "stdout",
     "output_type": "stream",
     "text": [
      "false\n"
     ]
    }
   ],
   "source": [
    "boolean x = false, y = false, z = false;\n",
    "//boolean x = false, y = true, z = false;\n",
    "//boolean x = true, y = false, z = false;\n",
    "//boolean x = true, y = true, z = false;\n",
    "//boolean x = false, y = false, z = true;\n",
    "//boolean x = false, y = true, z = true;\n",
    "//boolean x = true, y = false, z = true;\n",
    "//boolean x = true, y =true, z = true;\n",
    "\n",
    "\n",
    "System.out.println((x || y) && (! x && z))"
   ]
  },
  {
   "cell_type": "markdown",
   "metadata": {},
   "source": [
    "### Challenge - Triangle area\n",
    "\n",
    "Compute the area of a triangle having base 120 units (`b`) and height 33 (`h`). Assign the result to a variable named `area` and print it. Your code should show `Triangle area is: 120.0`"
   ]
  },
  {
   "cell_type": "code",
   "execution_count": 3,
   "metadata": {},
   "outputs": [
    {
     "name": "stdout",
     "output_type": "stream",
     "text": [
      "Triangle area is: 120.0\n"
     ]
    }
   ],
   "source": []
  },
  {
   "cell_type": "markdown",
   "metadata": {},
   "source": [
    "### Challenge - square area\n",
    "\n",
    "Compute the area of a square having side (`s`) equal to 145 units. Assign the result to a variable named `area` and print it, it should show `Square area is: 21025`"
   ]
  },
  {
   "cell_type": "code",
   "execution_count": 4,
   "metadata": {},
   "outputs": [
    {
     "ename": "CompilationException",
     "evalue": "",
     "output_type": "error",
     "traceback": [
      "\u001b[1m\u001b[30m|   \u001b[1m\u001b[30mint area = s*\u001b[0m\u001b[1m\u001b[30m\u001b[41m\u001b[0m\u001b[1m\u001b[30m*2;\u001b[0m",
      "\u001b[1m\u001b[31millegal start of expression\u001b[0m",
      ""
     ]
    }
   ],
   "source": []
  },
  {
   "cell_type": "markdown",
   "metadata": {},
   "source": [
    "### Challenge - area from input\n",
    "\n",
    "Modify the program at previous point. to acquire the side `s` from the user at runtime.\n",
    "\n",
    "**HINT**: use the [Scanner](https://www.w3schools.com/java/java_user_input.asp) object and remember to convert the acquired value into an `int` with [Integer.parseInt](https://docs.oracle.com/javase/7/docs/api/java/lang/Integer.html#parseInt(java.lang.String))).\n",
    "\n",
    "Try also to put the two previous scripts in two separate files (e.g. `TriangleArea.java` and `SquareArea.java` and execute them from the terminal)"
   ]
  },
  {
   "cell_type": "markdown",
   "metadata": {},
   "source": [
    "**ANSWER**:\n"
   ]
  },
  {
   "cell_type": "code",
   "execution_count": 5,
   "metadata": {},
   "outputs": [
    {
     "name": "stdout",
     "output_type": "stream",
     "text": [
      "Insert size: \n",
      "4\n",
      "Square area is: 16\n"
     ]
    }
   ],
   "source": []
  },
  {
   "cell_type": "markdown",
   "metadata": {},
   "source": [
    "### Challenge - trapezoid\n",
    "\n",
    "Write a small script (`trapezoid.java`) that computes the area of a trapezoid having major base (`mj`) equal to 30 units, minor base (mn) equal to 12 and height (`h`) equal to 17. Print the resulting area. Try executing the script from a text editor like Netbeans and from the terminal.\n",
    "\n",
    "It should print `Trapezoid area is:  357.0`"
   ]
  },
  {
   "cell_type": "code",
   "execution_count": 6,
   "metadata": {},
   "outputs": [
    {
     "name": "stdout",
     "output_type": "stream",
     "text": [
      "Trapezoid area is: 357.0\n"
     ]
    }
   ],
   "source": []
  },
  {
   "cell_type": "markdown",
   "metadata": {},
   "source": [
    "\n",
    "### Challenge - first n numbers\n",
    "\n",
    "* Rewrite the example of the sum of the first 1200 integers by using the following equation: $$\\sum\\limits_{i=1}^n i = \\frac{n (n+1)}{2}$$ \n",
    "\n",
    "* Then modify the program to make it acquire the number of integers to sum n from the user at runtime\n",
    "\n",
    "It should show `Sum of first 1200 integers:  720600`"
   ]
  },
  {
   "cell_type": "code",
   "execution_count": 7,
   "metadata": {},
   "outputs": [
    {
     "name": "stdout",
     "output_type": "stream",
     "text": [
      "Sum of first 1200 integers: 720600\n"
     ]
    }
   ],
   "source": []
  },
  {
   "cell_type": "code",
   "execution_count": 8,
   "metadata": {},
   "outputs": [
    {
     "name": "stdout",
     "output_type": "stream",
     "text": [
      "Input number n:\n",
      "6\n",
      "Sum of first 6 integers: 21\n"
     ]
    }
   ],
   "source": []
  },
  {
   "cell_type": "markdown",
   "metadata": {},
   "source": [
    "### Challenge - hypotenuse\n",
    "\n",
    "Write a small script to compute the length of the hypotenuse (`c`) of a right triangle having sides `a`=133 and `b`=72 units (see picture below). It should print `Hypotenuse:  151.23822268196622`\n",
    "\n",
    "![triangle 9u349y43](img/triangle.png)"
   ]
  },
  {
   "cell_type": "code",
   "execution_count": 9,
   "metadata": {},
   "outputs": [
    {
     "name": "stdout",
     "output_type": "stream",
     "text": [
      "Hypotenuse: 151.23822268196622\n"
     ]
    }
   ],
   "source": []
  },
  {
   "cell_type": "markdown",
   "metadata": {},
   "source": [
    "### Challenge - which integers 1?\n",
    "\n",
    "Assign numerical values to `x` `y` e `z` to have the expression print `true`"
   ]
  },
  {
   "cell_type": "code",
   "execution_count": 10,
   "metadata": {},
   "outputs": [
    {
     "name": "stdout",
     "output_type": "stream",
     "text": [
      "false\n"
     ]
    }
   ],
   "source": [
    "int x = 0; // ?\n",
    "int y = 0; // ?\n",
    "System.out.println(Math.max(Math.min(x,y), x + 20) > 20);"
   ]
  },
  {
   "cell_type": "markdown",
   "metadata": {},
   "source": [
    "### Challenge - which integers 2?\n",
    "\n",
    "Assign to `x` and `y` values such that `True` is printed"
   ]
  },
  {
   "cell_type": "code",
   "execution_count": 11,
   "metadata": {},
   "outputs": [
    {
     "name": "stdout",
     "output_type": "stream",
     "text": [
      "false\n"
     ]
    }
   ],
   "source": [
    "int x = 0;  // ?\n",
    "int y = 0;  // ?\n",
    "\n",
    "System.out.println(x > 10 && x < 23 && ((x+y) == 16 || (x + y > 20)));"
   ]
  },
  {
   "cell_type": "markdown",
   "metadata": {},
   "source": [
    "### Challenge - which integers 3?\n",
    "Assign to `z` and `w` values such that `true` is printed."
   ]
  },
  {
   "cell_type": "code",
   "execution_count": 12,
   "metadata": {},
   "outputs": [
    {
     "name": "stdout",
     "output_type": "stream",
     "text": [
      "false\n"
     ]
    }
   ],
   "source": [
    "int z = 0; // ?\n",
    "int w = 1; // ?\n",
    "System.out.println((z < 40 || w < 90) && (z % w > 2));"
   ]
  },
  {
   "cell_type": "markdown",
   "metadata": {},
   "source": [
    "### Challenge - airport\n",
    "\n",
    "You finally decide to take a vacation and you go to the airport, but you already know you will need to go through various queues. Luckily, you only have carry-on bag, so you directly go to security checks, where you can choose among three rows of people `sec1`, `sec2`, `sec3`. Each person an average takes 4 minutes to be examinated, you included, and obviously you choose the shortest queue. Afterwards you go to the gate, where you find two queues of `ga1` and `ga2` people, and you know that each person you included an average takes 20 seconds to pass: again you choose the shortes queue. Luckily the aircraft is next to the gate so you can directly choose whether to board at the queue at the head of the aircraft  with `bo1` people or at the queue at the tail of the plane with `bo2` people. Each passenger you included takes an average 30 seconds, and you choose the shortest queue.\n",
    "\n",
    "Write some code to calculate how much time you take in total to enter the plane, showing it in minutes and seconds.\n",
    "\n",
    "Example - given:\n",
    "\n",
    "```java\n",
    "int sec1=4,sec2=5,sec3=8,ga1=5,ga2=2,bo1=7,bo2=6;\n",
    "```\n",
    "\n",
    "your code must print:\n",
    "\n",
    "```\n",
    "24 minutes e 30 seconds\n",
    "```"
   ]
  },
  {
   "cell_type": "code",
   "execution_count": 13,
   "metadata": {},
   "outputs": [],
   "source": [
    "int sec1=4,sec2=5,sec3=8,ga1=5,ga2=2,bo1=7,bo2=6;     // 24 minutes and 30 seconds\n",
    "//int sec1=9,sec2=7,sec3=1,ga1=3,ga2=5,bo1=2,bo2=9;   // 10 minutes and 50 seconds\n",
    "\n",
    "// write here\n"
   ]
  },
  {
   "cell_type": "code",
   "execution_count": null,
   "metadata": {},
   "outputs": [],
   "source": []
  }
 ],
 "metadata": {
  "celltoolbar": "Edit Metadata",
  "kernelspec": {
   "display_name": "Java",
   "language": "java",
   "name": "java"
  },
  "language_info": {
   "codemirror_mode": "java",
   "file_extension": ".jshell",
   "mimetype": "text/x-java-source",
   "name": "Java",
   "pygments_lexer": "java",
   "version": "15.0.1+9"
  },
  "toc": {
   "base_numbering": 1,
   "nav_menu": {},
   "number_sections": false,
   "sideBar": true,
   "skip_h1_title": false,
   "title_cell": "Table of Contents",
   "title_sidebar": "Contents",
   "toc_cell": false,
   "toc_position": {},
   "toc_section_display": true,
   "toc_window_display": false
  }
 },
 "nbformat": 4,
 "nbformat_minor": 4
}
