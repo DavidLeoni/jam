{
 "cells": [
  {
   "cell_type": "raw",
   "metadata": {
    "raw_mimetype": "text/html",
    "slideshow": {
     "slide_type": "notes"
    }
   },
   "source": [
    "<link rel=\"stylesheet\" href=\"custom.css\" id=\"theme\">"
   ]
  },
  {
   "cell_type": "markdown",
   "metadata": {
    "slideshow": {
     "slide_type": "slide"
    }
   },
   "source": [
    "\n",
    "# UF 06: JAVA\n",
    "\n",
    "## Iteration (Loops)\n",
    "\n",
    "**Alta Formazione Professionale - ITT Marconi**\n",
    "\n",
    "**February 2021**\n"
   ]
  },
  {
   "cell_type": "markdown",
   "metadata": {
    "slideshow": {
     "slide_type": "slide"
    }
   },
   "source": [
    " \n",
    "## [4.1 While Loops](https://csawesome.runestone.academy/runestone/books/published/csawesome/Unit4-Iteration/topic-4-1-while-loops.html)\n",
    "\n",
    "![](control-flow/img/while.png)"
   ]
  },
  {
   "cell_type": "markdown",
   "metadata": {
    "slideshow": {
     "slide_type": "fragment"
    }
   },
   "source": [
    "**only need it if**:\n",
    "\n",
    "* number of iterations not known a priori\n",
    "* ... or must add / remove elements from sequence you are iterating"
   ]
  },
  {
   "cell_type": "markdown",
   "metadata": {
    "slideshow": {
     "slide_type": "slide"
    }
   },
   "source": [
    "## While loop - example"
   ]
  },
  {
   "cell_type": "code",
   "execution_count": 11,
   "metadata": {
    "slideshow": {
     "slide_type": "-"
    }
   },
   "outputs": [
    {
     "name": "stdout",
     "output_type": "stream",
     "text": [
      "BEFORE\n",
      "Checking a\n",
      "Checking b\n",
      "Checking r\n",
      "Checking a\n",
      "Checking c\n",
      "Found it!\n",
      "AFTER\n"
     ]
    }
   ],
   "source": [
    "String s = \"abracadabra\";\n",
    "\n",
    "int i = 0;                                         // PROGRESS VAR(s)\n",
    "boolean found = false;\n",
    "\n",
    "System.out.println(\"BEFORE\");\n",
    "\n",
    "while (i < s.length() && !found) {                 // BOOLEAN CONDITION ON PROGRESS VAR(s)\n",
    "  \n",
    "  System.out.println(\"Checking \" + s.charAt(i));   // STATEMENTS\n",
    "    \n",
    "  if (s.charAt(i) == 'c'){            \n",
    "      System.out.println(\"Found it!\");      \n",
    "      found = true;\n",
    "  }\n",
    "  \n",
    "  i++;                                             // MUTATE PROGRESS VAR !\n",
    "}\n",
    "\n",
    "System.out.println(\"AFTER\");"
   ]
  },
  {
   "cell_type": "markdown",
   "metadata": {
    "slideshow": {
     "slide_type": "slide"
    }
   },
   "source": [
    "1) Three Steps to Writing a Loop "
   ]
  },
  {
   "cell_type": "markdown",
   "metadata": {
    "slideshow": {
     "slide_type": "fragment"
    }
   },
   "source": [
    "\n",
    "\n",
    "2) Tracing Loops"
   ]
  },
  {
   "cell_type": "markdown",
   "metadata": {
    "slideshow": {
     "slide_type": "fragment"
    }
   },
   "source": [
    "3) Common Errors with Loops"
   ]
  },
  {
   "cell_type": "markdown",
   "metadata": {
    "slideshow": {
     "slide_type": "slide"
    }
   },
   "source": [
    "4) Input-Controlled Loops\n",
    "\n",
    "```java\n",
    "    \n",
    "```"
   ]
  },
  {
   "cell_type": "markdown",
   "metadata": {
    "slideshow": {
     "slide_type": "-"
    }
   },
   "source": [
    "```java\n",
    "import java.util.Scanner;\n",
    "\n",
    "Scanner in = new Scanner (System.in);\n",
    "String statement = \"\";\n",
    "\n",
    "while (!statement.equals(\"bye\"))\n",
    "{            \n",
    "        System.out.println (\"Tell me something..\");\n",
    "        System.out.print (\"> \");\n",
    "        statement = in.nextLine();\n",
    "        System.out.println (\"You told me: \" + statement);\n",
    "}\n",
    "System.out.println(\"Goodbye!\");\n",
    "```\n",
    "\n"
   ]
  },
  {
   "cell_type": "markdown",
   "metadata": {
    "slideshow": {
     "slide_type": "fragment"
    }
   },
   "source": [
    "```\n",
    "Tell me something..\n",
    "> Ciao\n",
    "You told me: Ciao\n",
    "Tell me something..\n",
    "> You are a parrot\n",
    "You told me: You are a parrot\n",
    "Tell me something..\n",
    "> \n",
    "```"
   ]
  },
  {
   "cell_type": "markdown",
   "metadata": {
    "slideshow": {
     "slide_type": "slide"
    }
   },
   "source": [
    "## Exercise: prepare sandwiches\n",
    "\n",
    "We need to prepare sandwiches with cheese: we have a certain number of pieces of bread and cheese slices, not necessarily in the same quantity. We will couple bread and cheese until we run out of one type of ingredient. At the end we will say if there is any ingredient left (or no ingredient at all). Write a function `prepare` which takes two parameters and PRINTS the procedure.\n",
    "\n",
    "```java\n",
    "public static void prepare(int bread, int cheese){\n",
    "    throw new UnsupportedOperationException(\"TODO IMPLEMENT ME!\");\n",
    "}\n",
    "\n",
    "```\n",
    "\n",
    "**Example**\n",
    "\n",
    "```java\n",
    "prepare(3,5);\n",
    "```\n",
    "\n",
    "```\n",
    "Prepared a sandwich: 2 remaining pieces of bread, 4 remaining slices of cheese\n",
    "Prepared a sandwich: 1 remaining pieces of bread, 3 remaining slices of cheese\n",
    "Prepared a sandwich: 0 remaining pieces of bread, 2 remaining slices of cheese\n",
    "2 slices of cheese are left.\n",
    "```"
   ]
  },
  {
   "cell_type": "markdown",
   "metadata": {
    "slideshow": {
     "slide_type": "fragment"
    }
   },
   "source": [
    "**Try also:**\n",
    "```\n",
    "//prepare(5,3);\n",
    "//prepare(4,4);\n",
    "```"
   ]
  },
  {
   "cell_type": "markdown",
   "metadata": {
    "slideshow": {
     "slide_type": "fragment"
    }
   },
   "source": [
    "**Follow up**: In the `main`, add another `while` with a `Scanner` that keeps asking how much bread/cheese we have and then calls `prepare`."
   ]
  },
  {
   "cell_type": "markdown",
   "metadata": {
    "slideshow": {
     "slide_type": "slide"
    }
   },
   "source": [
    "## Exercise - paperboard\n",
    "\n",
    "✪ Print integer numbers from `0` to `k` INCLUDED using a `while`, and for each number prints to its side one among the strings `\"PA\"`, `\"PER\"` and `\"BOARD\"` alternating them\n",
    "\n",
    "Ex - for `k=8` prints\n",
    "\n",
    "```\n",
    "0 PA\n",
    "1 PER\n",
    "2 BOARD\n",
    "3 PA\n",
    "4 PER\n",
    "5 BOARD\n",
    "6 PA\n",
    "7 PER\n",
    "8 BOARD\n",
    "```"
   ]
  },
  {
   "cell_type": "markdown",
   "metadata": {
    "slideshow": {
     "slide_type": "slide"
    }
   },
   "source": [
    "## Exercise - converge\n",
    "\n",
    "Given two numbers `x` and `k`, using a `while` modify and print `x` until it reaches `k` included. **NOTE**: `k` can either be greater or lesser than `x`, you must handle both cases"
   ]
  },
  {
   "cell_type": "code",
   "execution_count": 2,
   "metadata": {
    "slideshow": {
     "slide_type": "-"
    }
   },
   "outputs": [],
   "source": [
    "int x = 3, k = 5;"
   ]
  },
  {
   "cell_type": "markdown",
   "metadata": {
    "slideshow": {
     "slide_type": "-"
    }
   },
   "source": [
    "prints:"
   ]
  },
  {
   "cell_type": "markdown",
   "metadata": {
    "slideshow": {
     "slide_type": "-"
    }
   },
   "source": [
    "```\n",
    "3\n",
    "4\n",
    "5\n",
    "```"
   ]
  },
  {
   "cell_type": "markdown",
   "metadata": {
    "slideshow": {
     "slide_type": "fragment"
    }
   },
   "source": [
    "Other example:"
   ]
  },
  {
   "cell_type": "code",
   "execution_count": 3,
   "metadata": {
    "slideshow": {
     "slide_type": "fragment"
    }
   },
   "outputs": [],
   "source": [
    "int x = 6, k = 2;"
   ]
  },
  {
   "cell_type": "markdown",
   "metadata": {
    "slideshow": {
     "slide_type": "fragment"
    }
   },
   "source": [
    "prints:\n",
    "\n",
    "```\n",
    "6\n",
    "5\n",
    "4\n",
    "3\n",
    "2\n",
    "```"
   ]
  },
  {
   "cell_type": "code",
   "execution_count": 4,
   "metadata": {
    "slideshow": {
     "slide_type": "fragment"
    }
   },
   "outputs": [],
   "source": [
    "int x = 3, k = 5;    // 3 4 5\n",
    "int x = 6, k = 2;    // 6 5 4 3 2\n",
    "int x = 4, k = 4     // 4"
   ]
  },
  {
   "cell_type": "markdown",
   "metadata": {
    "slideshow": {
     "slide_type": "slide"
    }
   },
   "source": [
    "## [4.2 For Loops](https://csawesome.runestone.academy/runestone/books/published/csawesome/Unit4-Iteration/topic-4-2-for-loops.html)\n",
    "\n",
    "\n",
    "<img src=\"control-flow/img/for.png\" style=\"height:17em\">\n",
    "\n",
    "**Need it:**\n",
    "\n",
    "* if number of iterations is known in advance\n",
    "* you *don't* want to add/remove elements from the sequence you are iterating!"
   ]
  },
  {
   "cell_type": "markdown",
   "metadata": {
    "slideshow": {
     "slide_type": "fragment"
    }
   },
   "source": [
    "**If possible, prefer it to** `while`"
   ]
  },
  {
   "cell_type": "markdown",
   "metadata": {
    "slideshow": {
     "slide_type": "slide"
    }
   },
   "source": [
    "1) Three Parts of a For Loop"
   ]
  },
  {
   "cell_type": "markdown",
   "metadata": {
    "slideshow": {
     "slide_type": "fragment"
    }
   },
   "source": [
    "2) Decrementing Loops"
   ]
  },
  {
   "cell_type": "markdown",
   "metadata": {
    "slideshow": {
     "slide_type": "fragment"
    }
   },
   "source": [
    "3) Turtle Loops"
   ]
  },
  {
   "cell_type": "markdown",
   "metadata": {
    "slideshow": {
     "slide_type": "fragment"
    }
   },
   "source": [
    "4) Programming Challenge : Turtles Drawing Shapes"
   ]
  },
  {
   "cell_type": "markdown",
   "metadata": {
    "slideshow": {
     "slide_type": "slide"
    }
   },
   "source": [
    "\n",
    "## Exercise - sghiribizzo\n",
    "\n",
    "Write some code which given the string `s` PRINTS all the possible combinations of row couples such that a row begins with the first characters of `s` and the successive continues with the following characters.\n",
    "\n",
    "```java\n",
    "String s = \"sghiribizzo\";\n",
    "```\n",
    "\n",
    "```\n",
    "s\n",
    " ghiribizzo\n",
    "sg\n",
    "  hiribizzo\n",
    "sgh\n",
    "   iribizzo\n",
    "sghi\n",
    "    ribizzo\n",
    "sghir\n",
    "     ibizzo\n",
    "sghiri\n",
    "      bizzo\n",
    "sghirib\n",
    "       izzo\n",
    "sghiribi\n",
    "        zzo\n",
    "sghiribiz\n",
    "         zo\n",
    "sghiribizz\n",
    "          o\n",
    "sghiribizzo\n",
    "```"
   ]
  },
  {
   "cell_type": "markdown",
   "metadata": {
    "slideshow": {
     "slide_type": "slide"
    }
   },
   "source": [
    "## Exercise - DNA\n",
    "\n",
    "Given two DNA strings `s1` and `s2` of equal length, write some code which PRINTS among the first and second string another string made by spaces ` ` and pipe `|` where equal characters are found.\n",
    "\n",
    "HINT: instead of keeping building a string with `+` which is an expensive operation, consider using `System.out.print()` without the final `ln`\n",
    "\n",
    "Example - given:"
   ]
  },
  {
   "cell_type": "code",
   "execution_count": 5,
   "metadata": {
    "slideshow": {
     "slide_type": "fragment"
    }
   },
   "outputs": [],
   "source": [
    "String s1 = \"ATACATATAGGGCCAATTATTATAAGTCAC\";\n",
    "String s2 = \"CGCCACTTAAGCGCCCTGTATTAAAGTCGC\";"
   ]
  },
  {
   "cell_type": "markdown",
   "metadata": {
    "slideshow": {
     "slide_type": "fragment"
    }
   },
   "source": [
    "Prints:\n",
    "\n",
    "```\n",
    "ATACATATAGGGCCAATTATTATAAGTCAC\n",
    "   ||  || |  |  |   |  ||||| |\n",
    "CGCCACTTAAGCGCCCTGTATTAAAGTCGC\n",
    "```"
   ]
  },
  {
   "cell_type": "markdown",
   "metadata": {
    "slideshow": {
     "slide_type": "slide"
    }
   },
   "source": [
    "## 4.3. [Loops and Strings](https://csawesome.runestone.academy/runestone/books/published/csawesome/Unit4-Iteration/topic-4-3-strings-loops.html)\n",
    "\n",
    "Remember `StringBuilder`: "
   ]
  },
  {
   "cell_type": "code",
   "execution_count": 6,
   "metadata": {},
   "outputs": [
    {
     "name": "stdout",
     "output_type": "stream",
     "text": [
      "Building a string incrementally...\n"
     ]
    }
   ],
   "source": [
    "StringBuilder sb = new StringBuilder();\n",
    "sb.append(\"Building \");\n",
    "sb.append(\"a string \");\n",
    "sb.append(\"incrementally...\");\n",
    "String result = sb.toString(); // final conversion \n",
    "System.out.println(result);"
   ]
  },
  {
   "cell_type": "markdown",
   "metadata": {
    "slideshow": {
     "slide_type": "fragment"
    }
   },
   "source": [
    "\n",
    "1) [While Find and Replace Loop](https://csawesome.runestone.academy/runestone/books/published/csawesome/Unit4-Iteration/topic-4-3-strings-loops.html#while-find-and-replace-loop)\n",
    "\n",
    "**I don't like the book example. Try rewriting it with a** `StringBuilder`"
   ]
  },
  {
   "cell_type": "markdown",
   "metadata": {
    "slideshow": {
     "slide_type": "fragment"
    }
   },
   "source": [
    "2) [For Loops: Reverse String](https://csawesome.runestone.academy/runestone/books/published/csawesome/Unit4-Iteration/topic-4-3-strings-loops.html#for-loops-reverse-string)\n",
    "\n",
    "**I don't like the book example. Try rewriting it with a** `StringBuilder`"
   ]
  },
  {
   "cell_type": "markdown",
   "metadata": {
    "slideshow": {
     "slide_type": "fragment"
    }
   },
   "source": [
    "3) [Programming Challenge : String Replacement Cats and Dogs](https://csawesome.runestone.academy/runestone/books/published/csawesome/Unit4-Iteration/topic-4-3-strings-loops.html#groupwork-programming-challenge-string-replacement-cats-and-dogs)\n",
    "\n",
    "**I don't like the book example. Try rewriting it with a** `StringBuilder`"
   ]
  },
  {
   "cell_type": "markdown",
   "metadata": {
    "slideshow": {
     "slide_type": "slide"
    }
   },
   "source": [
    "## [4.4. Nested For Loops](https://csawesome.runestone.academy/runestone/books/published/csawesome/Unit4-Iteration/topic-4-4-nested-loops.html)\n",
    "\n",
    "![nested-for](control-flow/img/nested-for.png)\n"
   ]
  },
  {
   "cell_type": "markdown",
   "metadata": {
    "slideshow": {
     "slide_type": "fragment"
    }
   },
   "source": [
    "1) Nested Loops with Turtles\n",
    "\n",
    "2) Programming Challenge : Turtle Snowflakes\n"
   ]
  },
  {
   "cell_type": "markdown",
   "metadata": {
    "slideshow": {
     "slide_type": "slide"
    }
   },
   "source": [
    "## Exercise - cover the plane\n",
    "\n",
    "✪ Given the integers `a` and `b`, write some code which prints all the possible couples of numbers `x` and `y` such that $1 \\leq x \\leq a$ and $1 \\leq y \\leq b$\n",
    "\n",
    "For example, given:"
   ]
  },
  {
   "cell_type": "code",
   "execution_count": 7,
   "metadata": {
    "slideshow": {
     "slide_type": "-"
    }
   },
   "outputs": [],
   "source": [
    "int a = 5, b = 3;"
   ]
  },
  {
   "cell_type": "markdown",
   "metadata": {
    "slideshow": {
     "slide_type": "-"
    }
   },
   "source": [
    "it must print:\n",
    "\n",
    "```\n",
    "1 1\n",
    "1 2\n",
    "1 3\n",
    "2 1\n",
    "2 2\n",
    "2 3\n",
    "3 1\n",
    "3 2\n",
    "3 3\n",
    "4 1\n",
    "4 2\n",
    "4 3\n",
    "5 1\n",
    "5 2\n",
    "5 3\n",
    "```"
   ]
  },
  {
   "cell_type": "markdown",
   "metadata": {
    "slideshow": {
     "slide_type": "slide"
    }
   },
   "source": [
    "## Exercise - triangular\n",
    "\n",
    "✪ Given the integer `a`, write some code which prints all the possible couples of numbers `x` and `y` such that $0 \\leq x \\leq y < a$\n",
    "\n",
    "For example, for"
   ]
  },
  {
   "cell_type": "code",
   "execution_count": 8,
   "metadata": {
    "slideshow": {
     "slide_type": "-"
    }
   },
   "outputs": [],
   "source": [
    "int a = 5;"
   ]
  },
  {
   "cell_type": "markdown",
   "metadata": {
    "slideshow": {
     "slide_type": "-"
    }
   },
   "source": [
    "it must print:\n",
    "\n",
    "```\n",
    "0 0\n",
    "0 1\n",
    "0 2\n",
    "0 3\n",
    "0 4\n",
    "1 1\n",
    "1 2\n",
    "1 3\n",
    "1 4\n",
    "2 2\n",
    "2 3\n",
    "2 4\n",
    "3 3\n",
    "3 4\n",
    "4 4\n",
    "```"
   ]
  },
  {
   "cell_type": "markdown",
   "metadata": {
    "slideshow": {
     "slide_type": "slide"
    }
   },
   "source": [
    "## Exercise - FBI Crime unit\n",
    "\n",
    "The FBI Crime unit is trying to infiltrate a powerful mob organization - so far, they managed to obtain the services of an informant who now and then gives precious tips. All the investigations are then recorded in\n",
    "classified documents, which need to be anonimized according the reader clearence level. In order to mark possibly sensitive information, the detective place symbols such as `>` and `<` to delimit pieces of text to anonimize.\n",
    "\n",
    "Write some code which anonimizes the text, substituting words in sensitive sequences with the proper number of asterisks.\n",
    "\n",
    "**Example** - given:"
   ]
  },
  {
   "cell_type": "code",
   "execution_count": 9,
   "metadata": {
    "slideshow": {
     "slide_type": "-"
    }
   },
   "outputs": [],
   "source": [
    "\n",
    "String text =   \"Our > informant Mr Big Ears <, who's operating within > the Organization, < told us \"\n",
    "              + \"about a possible encounter among suspects we're following. The > suspect Mr Wrong Do \" \n",
    "              + \"(also known as Mr Cut Throat) < was in fact seen last night near > Vice Palace < while \"\n",
    "              + \"talking with > Mr So Bad <. They nervously glanced around, and > after a while, \" \n",
    "              + \"they quickly exchanged two suitcases. < The details of the deal are yet to be discovered.\";\n",
    "\n",
    "String punctuation = \"().;,\";"
   ]
  },
  {
   "cell_type": "markdown",
   "metadata": {
    "slideshow": {
     "slide_type": "-"
    }
   },
   "source": [
    "your code should print:\n",
    "\n",
    "```\n",
    "\"Our  ********* ** *** **** , who's operating within  *** ************,  told \n",
    "us about a possible encounter among suspects we're following. The  ******* ** \n",
    "***** ** (**** ***** ** ** *** ******)  was in fact seen last night near  **** \n",
    "******  while talking with  ** ** *** . They nervously glanced around, and  \n",
    "***** * *****, **** ******* ********* *** *********.  The details of the deal \n",
    "are yet to be discovered.\"\n",
    "```"
   ]
  },
  {
   "cell_type": "markdown",
   "metadata": {
    "slideshow": {
     "slide_type": "slide"
    }
   },
   "source": [
    "\n",
    "**NOTE 1**: Sometimes detectives place `> <` with punctuation around, your program should handle those cases as well, preserving punctuation in the output. \n",
    "I.e. \n",
    "\n",
    "```\n",
    "Our > informant Mr Big Ears <, who's\n",
    "```\n",
    "\n",
    "should become \n",
    "\n",
    "```\n",
    "Our  ********* ** *** **** , who's\n",
    "```"
   ]
  },
  {
   "cell_type": "markdown",
   "metadata": {
    "slideshow": {
     "slide_type": "fragment"
    }
   },
   "source": [
    "<br/>\n",
    "\n",
    "**NOTE 2**: Your program should also preserve punctuation in anonimized words, i.e. \n",
    "```\n",
    "> suspect Mr Wrong Do (also known as Mr Cut Throat)\n",
    "```\n",
    "should become: \n",
    "\n",
    "```\n",
    "******* ** ***** ** (**** ***** ** ** *** ******)\n",
    "```"
   ]
  },
  {
   "cell_type": "markdown",
   "metadata": {
    "slideshow": {
     "slide_type": "fragment"
    }
   },
   "source": [
    "<br/>\n",
    "\n",
    "**IMPORTANT: HAVE YOU READ THE ABOVE NOTES?**\n",
    "\n",
    "Making a rough version of the program should be relatively straightforward, making the details also work may be more challenging\n",
    "\n",
    "\n",
    "**HINT**: to build the output string incrementally, use a `StringBuilder`"
   ]
  },
  {
   "cell_type": "markdown",
   "metadata": {
    "slideshow": {
     "slide_type": "slide"
    }
   },
   "source": [
    "## [4.5. Loop Analysis](https://csawesome.runestone.academy/runestone/books/published/csawesome/Unit4-Iteration/topic-4-5-loop-analysis.html)\n",
    "\n",
    "1) Tracing Loops\n",
    "\n",
    "2) Counting Loop Iterations\n",
    "\n",
    "3) Programming Challenge : POGIL Analyzing Loops\n",
    "\n",
    "5) Loop Analysis Game"
   ]
  },
  {
   "cell_type": "markdown",
   "metadata": {
    "slideshow": {
     "slide_type": "slide"
    }
   },
   "source": [
    "## CodingBat exercises - DO THEM !\n",
    "\n",
    "* [Warmup-1](https://codingbat.com/java/Warmup-1)\n",
    "* [Warmup-2](https://codingbat.com/java/Warmup-2) (not arrays)\n",
    "* [String 1](https://codingbat.com/java/String-1)\n",
    "* [Logic 1](https://codingbat.com/java/Logic-1)\n",
    "* [Logic 2](https://codingbat.com/java/Logic-2)\n",
    "* [String 2](https://codingbat.com/java/String-2)"
   ]
  },
  {
   "cell_type": "markdown",
   "metadata": {
    "slideshow": {
     "slide_type": "slide"
    }
   },
   "source": [
    "## Edabit exercises - DO THEM !\n",
    "\n",
    "https://edabit.com/challenges/java\n",
    "\n",
    "- **Select Strings as tag**\n",
    "- filter from Easy to Medium included\n",
    "- ignore exercises with _regex_ tag\n",
    "- if you have to create strings, prefer StringBuilder to `+` operator !!\n",
    "\n",
    "Pros should take care of:\n",
    "\n",
    "- null\n",
    "- empty case\n",
    "- one char\n",
    "- repetitions\n",
    "- lowercase / uppercase\n",
    "- performance on very long strings\n"
   ]
  }
 ],
 "metadata": {
  "celltoolbar": "Slideshow",
  "kernelspec": {
   "display_name": "Java",
   "language": "java",
   "name": "java"
  },
  "language_info": {
   "codemirror_mode": "java",
   "file_extension": ".jshell",
   "mimetype": "text/x-java-source",
   "name": "Java",
   "pygments_lexer": "java",
   "version": "15.0.2+7"
  },
  "toc": {
   "base_numbering": 1,
   "nav_menu": {},
   "number_sections": false,
   "sideBar": true,
   "skip_h1_title": false,
   "title_cell": "Table of Contents",
   "title_sidebar": "Contents",
   "toc_cell": false,
   "toc_position": {},
   "toc_section_display": true,
   "toc_window_display": true
  }
 },
 "nbformat": 4,
 "nbformat_minor": 4
}
