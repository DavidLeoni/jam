{
 "cells": [
  {
   "cell_type": "raw",
   "metadata": {
    "raw_mimetype": "text/html",
    "slideshow": {
     "slide_type": "notes"
    }
   },
   "source": [
    "<link rel=\"stylesheet\" href=\"custom.css\" id=\"theme\">"
   ]
  },
  {
   "cell_type": "markdown",
   "metadata": {
    "slideshow": {
     "slide_type": "slide"
    }
   },
   "source": [
    "\n",
    "# UF 06: JAVA\n",
    "\n",
    "## Sets and Maps\n",
    "\n",
    "**Alta Formazione Professionale - ITT Marconi**\n",
    "\n",
    "**March 2021**"
   ]
  },
  {
   "cell_type": "markdown",
   "metadata": {
    "slideshow": {
     "slide_type": "slide"
    }
   },
   "source": [
    "## Set\n",
    "\n",
    "* _mutable collection_"
   ]
  },
  {
   "cell_type": "markdown",
   "metadata": {
    "slideshow": {
     "slide_type": "fragment"
    }
   },
   "source": [
    "* _unordered_"
   ]
  },
  {
   "cell_type": "markdown",
   "metadata": {
    "slideshow": {
     "slide_type": "fragment"
    }
   },
   "source": [
    "* _distinct elements_"
   ]
  },
  {
   "cell_type": "markdown",
   "metadata": {
    "slideshow": {
     "slide_type": "fragment"
    }
   },
   "source": [
    "* elements should be _immutable_"
   ]
  },
  {
   "cell_type": "markdown",
   "metadata": {
    "slideshow": {
     "slide_type": "fragment"
    }
   },
   "source": [
    "* Java interface: `Set`"
   ]
  },
  {
   "cell_type": "markdown",
   "metadata": {
    "slideshow": {
     "slide_type": "fragment"
    }
   },
   "source": [
    "* main Java implementation: `HashSet`"
   ]
  },
  {
   "cell_type": "code",
   "execution_count": 1,
   "metadata": {
    "slideshow": {
     "slide_type": "slide"
    }
   },
   "outputs": [
    {
     "data": {
      "text/plain": [
       "true"
      ]
     },
     "execution_count": 1,
     "metadata": {},
     "output_type": "execute_result"
    }
   ],
   "source": [
    "Set<String> hset = new HashSet<String>();  // String: immutable elements\n",
    " \n",
    "hset.add(\"platform\");  // mutable collection\n",
    "hset.add(\"rpg\");\n",
    "hset.add(\"strategy\");"
   ]
  },
  {
   "cell_type": "code",
   "execution_count": 2,
   "metadata": {
    "slideshow": {
     "slide_type": "fragment"
    }
   },
   "outputs": [
    {
     "name": "stdout",
     "output_type": "stream",
     "text": [
      "[rpg, strategy, platform]\n"
     ]
    }
   ],
   "source": [
    "System.out.println(hset);    // unordered collection"
   ]
  },
  {
   "cell_type": "code",
   "execution_count": 3,
   "metadata": {
    "slideshow": {
     "slide_type": "fragment"
    }
   },
   "outputs": [
    {
     "name": "stdout",
     "output_type": "stream",
     "text": [
      "rpg\n",
      "strategy\n",
      "platform\n"
     ]
    }
   ],
   "source": [
    "for (String element : hset){     // unordered collection -> unpredictable order!\n",
    "    System.out.println(element);\n",
    "}"
   ]
  },
  {
   "cell_type": "markdown",
   "metadata": {
    "slideshow": {
     "slide_type": "fragment"
    }
   },
   "source": [
    "```java\n",
    "hset.get(0)  // no order -> no way to get first element!\n",
    "\n",
    "|   hset.get(0)\n",
    "cannot find symbol\n",
    "  symbol:   method get(int)\n",
    "```"
   ]
  },
  {
   "cell_type": "code",
   "execution_count": 4,
   "metadata": {
    "slideshow": {
     "slide_type": "slide"
    }
   },
   "outputs": [
    {
     "data": {
      "text/plain": [
       "true"
      ]
     },
     "execution_count": 4,
     "metadata": {},
     "output_type": "execute_result"
    }
   ],
   "source": [
    "hset.add(\"beat'em up\");"
   ]
  },
  {
   "cell_type": "code",
   "execution_count": 5,
   "metadata": {
    "slideshow": {
     "slide_type": "fragment"
    }
   },
   "outputs": [
    {
     "data": {
      "text/plain": [
       "false"
      ]
     },
     "execution_count": 5,
     "metadata": {},
     "output_type": "execute_result"
    }
   ],
   "source": [
    "hset.add(\"beat'em up\");   // distinct elements -> duplicates are silently discarded"
   ]
  },
  {
   "cell_type": "code",
   "execution_count": 6,
   "metadata": {
    "slideshow": {
     "slide_type": "fragment"
    }
   },
   "outputs": [
    {
     "data": {
      "text/plain": [
       "true"
      ]
     },
     "execution_count": 6,
     "metadata": {},
     "output_type": "execute_result"
    }
   ],
   "source": [
    "hset.remove(\"strategy\");"
   ]
  },
  {
   "cell_type": "code",
   "execution_count": 7,
   "metadata": {
    "slideshow": {
     "slide_type": "fragment"
    }
   },
   "outputs": [
    {
     "data": {
      "text/plain": [
       "false"
      ]
     },
     "execution_count": 7,
     "metadata": {},
     "output_type": "execute_result"
    }
   ],
   "source": [
    "hset.remove(\"strategy\");  // removals fail silently"
   ]
  },
  {
   "cell_type": "code",
   "execution_count": 8,
   "metadata": {
    "slideshow": {
     "slide_type": "fragment"
    }
   },
   "outputs": [
    {
     "name": "stdout",
     "output_type": "stream",
     "text": [
      "[beat'em up, rpg, platform]\n"
     ]
    }
   ],
   "source": [
    "System.out.println(hset);  // no duplicates"
   ]
  },
  {
   "cell_type": "markdown",
   "metadata": {
    "slideshow": {
     "slide_type": "slide"
    }
   },
   "source": [
    "## Search is constant time\n",
    "\n",
    "-> does *not* depend on set size"
   ]
  },
  {
   "cell_type": "code",
   "execution_count": 9,
   "metadata": {
    "slideshow": {
     "slide_type": "fragment"
    }
   },
   "outputs": [
    {
     "data": {
      "text/plain": [
       "true"
      ]
     },
     "execution_count": 9,
     "metadata": {},
     "output_type": "execute_result"
    }
   ],
   "source": [
    "hset.contains(\"rpg\")   // super fast "
   ]
  },
  {
   "cell_type": "markdown",
   "metadata": {
    "slideshow": {
     "slide_type": "slide"
    }
   },
   "source": [
    "## Victims of inequality"
   ]
  },
  {
   "cell_type": "code",
   "execution_count": 10,
   "metadata": {
    "slideshow": {
     "slide_type": "-"
    }
   },
   "outputs": [],
   "source": [
    "public class PoorMonster {\n",
    "    \n",
    "    // stuff that matters    \n",
    "    public String name = \"\";\n",
    "    public int lifepoints = 0;  \n",
    "    \n",
    "    //  Java rituals \n",
    "    \n",
    "    @Override\n",
    "    public String toString() {\n",
    "        return \"PoorMonster{\" + \"name=\" + name + \", lifepoints=\" + lifepoints + '}';\n",
    "    }    \n",
    "    \n",
    "    // NO hashCode NOR equals !\n",
    "}    "
   ]
  },
  {
   "cell_type": "code",
   "execution_count": 11,
   "metadata": {
    "slideshow": {
     "slide_type": "slide"
    }
   },
   "outputs": [
    {
     "data": {
      "text/plain": [
       "1"
      ]
     },
     "execution_count": 11,
     "metadata": {},
     "output_type": "execute_result"
    }
   ],
   "source": [
    "PoorMonster poor1 = new PoorMonster();\n",
    "poor1.name = \"Mr Poor\";\n",
    "poor1.lifepoints = 1;\n",
    "\n",
    "PoorMonster poor2 = new PoorMonster();\n",
    "poor2.name = \"Mr Poor\";\n",
    "poor2.lifepoints = 1;\n"
   ]
  },
  {
   "cell_type": "code",
   "execution_count": 12,
   "metadata": {
    "slideshow": {
     "slide_type": "slide"
    }
   },
   "outputs": [
    {
     "name": "stdout",
     "output_type": "stream",
     "text": [
      "[PoorMonster{name=Mr Poor, lifepoints=1}]\n"
     ]
    }
   ],
   "source": [
    "Set<PoorMonster> poorset = new HashSet<PoorMonster>();  \n",
    "\n",
    "poorset.add(poor1);\n",
    "poorset.add(poor1);\n",
    "\n",
    "System.out.println(poorset);"
   ]
  },
  {
   "cell_type": "code",
   "execution_count": 13,
   "metadata": {
    "slideshow": {
     "slide_type": "fragment"
    }
   },
   "outputs": [
    {
     "data": {
      "text/plain": [
       "true"
      ]
     },
     "execution_count": 13,
     "metadata": {},
     "output_type": "execute_result"
    }
   ],
   "source": [
    "poorset.add(poor2);"
   ]
  },
  {
   "cell_type": "code",
   "execution_count": 14,
   "metadata": {
    "slideshow": {
     "slide_type": "fragment"
    }
   },
   "outputs": [
    {
     "name": "stdout",
     "output_type": "stream",
     "text": [
      "[PoorMonster{name=Mr Poor, lifepoints=1}, PoorMonster{name=Mr Poor, lifepoints=1}]\n"
     ]
    }
   ],
   "source": [
    "System.out.println(poorset);   // We've got duplicates !"
   ]
  },
  {
   "cell_type": "markdown",
   "metadata": {
    "slideshow": {
     "slide_type": "slide"
    }
   },
   "source": [
    "## All equal monsters should be equal\n",
    "\n",
    "Using `Monster` defined as in [classes slides](https://davidleoni.github.io/jam/slides-6-classes.slides.html#/)"
   ]
  },
  {
   "cell_type": "code",
   "execution_count": 15,
   "metadata": {
    "slideshow": {
     "slide_type": "-"
    }
   },
   "outputs": [],
   "source": [
    "import java.util.Objects;\n",
    "\n",
    "public class Monster {\n",
    "    \n",
    "    // stuff that matters    \n",
    "    public String name = \"\";\n",
    "    public int lifepoints = 0;    \n",
    "    \n",
    "    // Java rituals  ......................\n",
    "    \n",
    "    @Override\n",
    "    public String toString() {\n",
    "        return \"Monster{\" + \"name=\" + name + \", lifepoints=\" + lifepoints + '}';\n",
    "    }    \n",
    "    @Override\n",
    "    public int hashCode() {\n",
    "        int hash = 3;\n",
    "        hash = 89 * hash + Objects.hashCode(this.name);\n",
    "        hash = 89 * hash + this.lifepoints;\n",
    "        return hash;\n",
    "    }\n",
    "    @Override\n",
    "    public boolean equals(Object obj) {\n",
    "        if (this == obj) {\n",
    "            return true;\n",
    "        }\n",
    "        if (obj == null) {\n",
    "            return false;\n",
    "        }\n",
    "        if (getClass() != obj.getClass()) {\n",
    "            return false;\n",
    "        }\n",
    "        final Monster other = (Monster) obj;\n",
    "        if (this.lifepoints != other.lifepoints) {\n",
    "            return false;\n",
    "        }\n",
    "        if (!Objects.equals(this.name, other.name)) {\n",
    "            return false;\n",
    "        }\n",
    "        return true;\n",
    "    }        \n",
    "}"
   ]
  },
  {
   "cell_type": "code",
   "execution_count": 16,
   "metadata": {
    "slideshow": {
     "slide_type": "slide"
    }
   },
   "outputs": [
    {
     "data": {
      "text/plain": [
       "4"
      ]
     },
     "execution_count": 16,
     "metadata": {},
     "output_type": "execute_result"
    }
   ],
   "source": [
    "Monster cerberus1 = new Monster();\n",
    "cerberus1.name = \"Cerberus\";\n",
    "cerberus1.lifepoints = 7;\n",
    "\n",
    "Monster cerberus2 = new Monster();\n",
    "cerberus2.name = \"Cerberus\";\n",
    "cerberus2.lifepoints = 7;\n",
    "\n",
    "Monster zombo = new Monster();\n",
    "zombo.name = \"Zombo\";\n",
    "zombo.lifepoints = 4;"
   ]
  },
  {
   "cell_type": "code",
   "execution_count": 17,
   "metadata": {
    "slideshow": {
     "slide_type": "slide"
    }
   },
   "outputs": [
    {
     "data": {
      "text/plain": [
       "true"
      ]
     },
     "execution_count": 17,
     "metadata": {},
     "output_type": "execute_result"
    }
   ],
   "source": [
    "Set<Monster> mset = new HashSet<Monster>();\n",
    " \n",
    "mset.add(cerberus1);"
   ]
  },
  {
   "cell_type": "code",
   "execution_count": 18,
   "metadata": {
    "slideshow": {
     "slide_type": "fragment"
    }
   },
   "outputs": [
    {
     "name": "stdout",
     "output_type": "stream",
     "text": [
      "[Monster{name=Cerberus, lifepoints=7}]\n"
     ]
    }
   ],
   "source": [
    "System.out.println(mset)"
   ]
  },
  {
   "cell_type": "code",
   "execution_count": 19,
   "metadata": {
    "slideshow": {
     "slide_type": "fragment"
    }
   },
   "outputs": [
    {
     "data": {
      "text/plain": [
       "false"
      ]
     },
     "execution_count": 19,
     "metadata": {},
     "output_type": "execute_result"
    }
   ],
   "source": [
    "mset.add(cerberus2);"
   ]
  },
  {
   "cell_type": "code",
   "execution_count": 20,
   "metadata": {
    "slideshow": {
     "slide_type": "fragment"
    }
   },
   "outputs": [
    {
     "name": "stdout",
     "output_type": "stream",
     "text": [
      "[Monster{name=Cerberus, lifepoints=7}]\n"
     ]
    }
   ],
   "source": [
    "System.out.println(mset)"
   ]
  },
  {
   "cell_type": "code",
   "execution_count": 21,
   "metadata": {
    "slideshow": {
     "slide_type": "fragment"
    }
   },
   "outputs": [
    {
     "name": "stdout",
     "output_type": "stream",
     "text": [
      "[Monster{name=Cerberus, lifepoints=7}, Monster{name=Zombo, lifepoints=4}]\n"
     ]
    }
   ],
   "source": [
    "mset.add(zombo);\n",
    "System.out.println(mset)"
   ]
  },
  {
   "cell_type": "code",
   "execution_count": 22,
   "metadata": {
    "slideshow": {
     "slide_type": "slide"
    }
   },
   "outputs": [
    {
     "data": {
      "text/plain": [
       "true"
      ]
     },
     "execution_count": 22,
     "metadata": {},
     "output_type": "execute_result"
    }
   ],
   "source": [
    "mset.contains(cerberus1);"
   ]
  },
  {
   "cell_type": "code",
   "execution_count": 23,
   "metadata": {
    "slideshow": {
     "slide_type": "fragment"
    }
   },
   "outputs": [
    {
     "data": {
      "text/plain": [
       "true"
      ]
     },
     "execution_count": 23,
     "metadata": {},
     "output_type": "execute_result"
    }
   ],
   "source": [
    "mset.contains(cerberus2);  "
   ]
  },
  {
   "cell_type": "code",
   "execution_count": 24,
   "metadata": {
    "slideshow": {
     "slide_type": "fragment"
    }
   },
   "outputs": [
    {
     "data": {
      "text/plain": [
       "true"
      ]
     },
     "execution_count": 24,
     "metadata": {},
     "output_type": "execute_result"
    }
   ],
   "source": [
    "mset.remove(cerberus1);"
   ]
  },
  {
   "cell_type": "code",
   "execution_count": 25,
   "metadata": {
    "slideshow": {
     "slide_type": "fragment"
    }
   },
   "outputs": [
    {
     "data": {
      "text/plain": [
       "false"
      ]
     },
     "execution_count": 25,
     "metadata": {},
     "output_type": "execute_result"
    }
   ],
   "source": [
    "mset.remove(cerberus2);  // silent fail"
   ]
  },
  {
   "cell_type": "markdown",
   "metadata": {
    "slideshow": {
     "slide_type": "slide"
    }
   },
   "source": [
    "## Beware the mutant\n",
    "\n",
    "![mutant-goblin](sets/img/mutant-goblin.png)"
   ]
  },
  {
   "cell_type": "code",
   "execution_count": 26,
   "metadata": {
    "slideshow": {
     "slide_type": "slide"
    }
   },
   "outputs": [
    {
     "data": {
      "text/plain": [
       "3"
      ]
     },
     "execution_count": 26,
     "metadata": {},
     "output_type": "execute_result"
    }
   ],
   "source": [
    "Monster mutantGoblin1 = new Monster();\n",
    "mutantGoblin1.name = \"Mutant Goblin\";\n",
    "mutantGoblin1.lifepoints = 3;  // NOTE 3"
   ]
  },
  {
   "cell_type": "code",
   "execution_count": 27,
   "metadata": {
    "slideshow": {
     "slide_type": "fragment"
    }
   },
   "outputs": [
    {
     "data": {
      "text/plain": [
       "5"
      ]
     },
     "execution_count": 27,
     "metadata": {},
     "output_type": "execute_result"
    }
   ],
   "source": [
    "Monster mutantGoblin2 = new Monster();\n",
    "mutantGoblin2.name = \"Mutant Goblin\";\n",
    "mutantGoblin2.lifepoints = 5;  // NOTE 5"
   ]
  },
  {
   "cell_type": "code",
   "execution_count": 28,
   "metadata": {
    "slideshow": {
     "slide_type": "fragment"
    }
   },
   "outputs": [
    {
     "name": "stdout",
     "output_type": "stream",
     "text": [
      "Monster{name=Mutant Goblin, lifepoints=3}\n",
      "Monster{name=Mutant Goblin, lifepoints=5}\n"
     ]
    }
   ],
   "source": [
    "System.out.println(mutantGoblin1);\n",
    "System.out.println(mutantGoblin2);"
   ]
  },
  {
   "cell_type": "code",
   "execution_count": 29,
   "metadata": {
    "slideshow": {
     "slide_type": "slide"
    }
   },
   "outputs": [
    {
     "name": "stdout",
     "output_type": "stream",
     "text": [
      "[Monster{name=Mutant Goblin, lifepoints=3}, Monster{name=Mutant Goblin, lifepoints=5}]\n"
     ]
    }
   ],
   "source": [
    "Set<Monster> brokenSet = new HashSet<Monster>();\n",
    "\n",
    "brokenSet.add(mutantGoblin1);\n",
    "brokenSet.add(mutantGoblin2);\n",
    "\n",
    "System.out.println(brokenSet);"
   ]
  },
  {
   "cell_type": "markdown",
   "metadata": {
    "slideshow": {
     "slide_type": "fragment"
    }
   },
   "source": [
    "So far so good but ...."
   ]
  },
  {
   "cell_type": "code",
   "execution_count": 30,
   "metadata": {
    "slideshow": {
     "slide_type": "fragment"
    }
   },
   "outputs": [
    {
     "data": {
      "text/plain": [
       "5"
      ]
     },
     "execution_count": 30,
     "metadata": {},
     "output_type": "execute_result"
    }
   ],
   "source": [
    "mutantGoblin1.lifepoints = 5;    //  Watch out !  "
   ]
  },
  {
   "cell_type": "code",
   "execution_count": 31,
   "metadata": {
    "slideshow": {
     "slide_type": "fragment"
    }
   },
   "outputs": [
    {
     "name": "stdout",
     "output_type": "stream",
     "text": [
      "[Monster{name=Mutant Goblin, lifepoints=5}, Monster{name=Mutant Goblin, lifepoints=5}]\n"
     ]
    }
   ],
   "source": [
    "System.out.println(brokenSet);"
   ]
  },
  {
   "cell_type": "markdown",
   "metadata": {
    "slideshow": {
     "slide_type": "fragment"
    }
   },
   "source": [
    "Very bad!  We broke the set!"
   ]
  },
  {
   "cell_type": "markdown",
   "metadata": {
    "slideshow": {
     "slide_type": "slide"
    }
   },
   "source": [
    "## Sets: Take away"
   ]
  },
  {
   "cell_type": "markdown",
   "metadata": {
    "slideshow": {
     "slide_type": "-"
    }
   },
   "source": [
    "* **Never mutate an item in a Set**"
   ]
  },
  {
   "cell_type": "markdown",
   "metadata": {
    "slideshow": {
     "slide_type": "fragment"
    }
   },
   "source": [
    "* Elements in a Set **SHOULD** be immutable"
   ]
  },
  {
   "cell_type": "markdown",
   "metadata": {
    "slideshow": {
     "slide_type": "fragment"
    }
   },
   "source": [
    "\n",
    "If you _really_ need to mutate an element:"
   ]
  },
  {
   "cell_type": "markdown",
   "metadata": {
    "slideshow": {
     "slide_type": "fragment"
    }
   },
   "source": [
    "1. remove the element\n",
    "2. modify it\n",
    "3. readd"
   ]
  },
  {
   "cell_type": "markdown",
   "metadata": {
    "slideshow": {
     "slide_type": "slide"
    }
   },
   "source": [
    "## Keep things in order\n",
    "\n",
    "* `LinkedHashSet`: maintains insertion order\n",
    "* `TreeSet`: maintains order given by a `Comparator`\n",
    "\n",
    "More info: see [this link](https://web.csulb.edu/~pnguyen/cecs277/lecnotes/hashtree.pdf)"
   ]
  },
  {
   "cell_type": "markdown",
   "metadata": {
    "slideshow": {
     "slide_type": "fragment"
    }
   },
   "source": [
    "\n",
    "Readings: [MIT Mutability & Immutability](http://web.mit.edu/6.031/www/fa17/classes/09-immutability/)"
   ]
  },
  {
   "cell_type": "markdown",
   "metadata": {
    "slideshow": {
     "slide_type": "slide"
    }
   },
   "source": [
    "## Maps\n",
    "\n",
    "\n",
    "- _mutable_ collections"
   ]
  },
  {
   "cell_type": "markdown",
   "metadata": {
    "slideshow": {
     "slide_type": "fragment"
    }
   },
   "source": [
    "- allow to rapidly associate elements called _keys_ to some _values_"
   ]
  },
  {
   "cell_type": "markdown",
   "metadata": {
    "slideshow": {
     "slide_type": "fragment"
    }
   },
   "source": [
    "Keys:\n",
    "\n",
    "- (should be) immutable"
   ]
  },
  {
   "cell_type": "markdown",
   "metadata": {
    "slideshow": {
     "slide_type": "fragment"
    }
   },
   "source": [
    "- unordered"
   ]
  },
  {
   "cell_type": "markdown",
   "metadata": {
    "slideshow": {
     "slide_type": "fragment"
    }
   },
   "source": [
    "- there cannot be duplicates"
   ]
  },
  {
   "cell_type": "markdown",
   "metadata": {
    "slideshow": {
     "slide_type": "fragment"
    }
   },
   "source": [
    "-> **keys behave like items of a** ***set***"
   ]
  },
  {
   "cell_type": "markdown",
   "metadata": {
    "slideshow": {
     "slide_type": "fragment"
    }
   },
   "source": [
    "Values:\n",
    "\n",
    "- can be anything"
   ]
  },
  {
   "cell_type": "markdown",
   "metadata": {
    "slideshow": {
     "slide_type": "fragment"
    }
   },
   "source": [
    "- can be duplicated"
   ]
  },
  {
   "cell_type": "markdown",
   "metadata": {
    "slideshow": {
     "slide_type": "fragment"
    }
   },
   "source": [
    "**Given a key, we can find the corresponding value very fast**"
   ]
  },
  {
   "cell_type": "code",
   "execution_count": 32,
   "metadata": {
    "slideshow": {
     "slide_type": "slide"
    }
   },
   "outputs": [
    {
     "data": {
      "text/plain": [
       "6"
      ]
     },
     "execution_count": 32,
     "metadata": {},
     "output_type": "execute_result"
    }
   ],
   "source": [
    "Monster cerberus1 = new Monster();\n",
    "cerberus1.name = \"Cerberus\";\n",
    "cerberus1.lifepoints = 7;\n",
    "\n",
    "Monster zombo = new Monster();\n",
    "zombo.name = \"Zombo\";\n",
    "zombo.lifepoints = 4;\n",
    "\n",
    "Monster mutantBlob = new Monster();\n",
    "mutantBlob.name = \"Mutant Blob\";\n",
    "mutantBlob.lifepoints = 6;     // NOTE 2"
   ]
  },
  {
   "cell_type": "code",
   "execution_count": 33,
   "metadata": {
    "slideshow": {
     "slide_type": "slide"
    }
   },
   "outputs": [
    {
     "name": "stdout",
     "output_type": "stream",
     "text": [
      "{pit=Monster{name=Zombo, lifepoints=4}, lab=Monster{name=Cerberus, lifepoints=7}, tower=Monster{name=Mutant Blob, lifepoints=6}}\n"
     ]
    }
   ],
   "source": [
    "HashMap<String, Monster> castle = new HashMap();\n",
    "\n",
    "castle.put(\"lab\", cerberus1);\n",
    "castle.put(\"pit\", zombo);\n",
    "castle.put(\"tower\", mutantBlob);\n",
    "\n",
    "System.out.println(castle);  // iteration is by keys, unpredictable order!"
   ]
  },
  {
   "cell_type": "code",
   "execution_count": 34,
   "metadata": {
    "slideshow": {
     "slide_type": "fragment"
    }
   },
   "outputs": [
    {
     "name": "stdout",
     "output_type": "stream",
     "text": [
      "pit: Monster{name=Zombo, lifepoints=4}\n",
      "lab: Monster{name=Cerberus, lifepoints=7}\n",
      "tower: Monster{name=Mutant Blob, lifepoints=6}\n"
     ]
    }
   ],
   "source": [
    "for (String key : castle.keySet()){   // unpredictable order!\n",
    "    System.out.println(key + \": \" +  castle.get(key));    \n",
    "}"
   ]
  },
  {
   "cell_type": "markdown",
   "metadata": {
    "slideshow": {
     "slide_type": "slide"
    }
   },
   "source": [
    "### Search by key is constant time\n",
    "\n",
    "-> does _not_ depend on map size!"
   ]
  },
  {
   "cell_type": "code",
   "execution_count": 35,
   "metadata": {
    "slideshow": {
     "slide_type": "-"
    }
   },
   "outputs": [
    {
     "name": "stdout",
     "output_type": "stream",
     "text": [
      "Monster{name=Zombo, lifepoints=4}\n"
     ]
    }
   ],
   "source": [
    "System.out.println(   castle.get(\"pit\")  )   // very fast!"
   ]
  },
  {
   "cell_type": "code",
   "execution_count": 36,
   "metadata": {
    "slideshow": {
     "slide_type": "fragment"
    }
   },
   "outputs": [
    {
     "data": {
      "text/plain": [
       "Monster{name=Zombo, lifepoints=4}"
      ]
     },
     "execution_count": 36,
     "metadata": {},
     "output_type": "execute_result"
    }
   ],
   "source": [
    "castle.put(\"pit\", mutantBlob);  // silent key replacement"
   ]
  },
  {
   "cell_type": "code",
   "execution_count": 37,
   "metadata": {
    "slideshow": {
     "slide_type": "fragment"
    }
   },
   "outputs": [
    {
     "name": "stdout",
     "output_type": "stream",
     "text": [
      "{pit=Monster{name=Mutant Blob, lifepoints=6}, lab=Monster{name=Cerberus, lifepoints=7}, tower=Monster{name=Mutant Blob, lifepoints=6}}\n"
     ]
    }
   ],
   "source": [
    "System.out.println(castle);   // values can be duplicated"
   ]
  },
  {
   "cell_type": "code",
   "execution_count": 38,
   "metadata": {
    "slideshow": {
     "slide_type": "slide"
    }
   },
   "outputs": [
    {
     "data": {
      "text/plain": [
       "900"
      ]
     },
     "execution_count": 38,
     "metadata": {},
     "output_type": "execute_result"
    }
   ],
   "source": [
    "castle.get(\"pit\").lifepoints = 900;   // mutating values is fine"
   ]
  },
  {
   "cell_type": "code",
   "execution_count": 39,
   "metadata": {
    "slideshow": {
     "slide_type": "fragment"
    }
   },
   "outputs": [
    {
     "name": "stdout",
     "output_type": "stream",
     "text": [
      "{pit=Monster{name=Mutant Blob, lifepoints=900}, lab=Monster{name=Cerberus, lifepoints=7}, tower=Monster{name=Mutant Blob, lifepoints=900}}\n"
     ]
    }
   ],
   "source": [
    "System.out.println(castle)      // even if we have more references to same object"
   ]
  },
  {
   "cell_type": "code",
   "execution_count": 40,
   "metadata": {
    "slideshow": {
     "slide_type": "fragment"
    }
   },
   "outputs": [
    {
     "name": "stdout",
     "output_type": "stream",
     "text": [
      "null\n"
     ]
    }
   ],
   "source": [
    "System.out.println(  castle.get(\"playground\")  )   // silent fail"
   ]
  },
  {
   "cell_type": "markdown",
   "metadata": {
    "slideshow": {
     "slide_type": "slide"
    }
   },
   "source": [
    "## What about mapping Monster to String?\n",
    "\n",
    "We can!"
   ]
  },
  {
   "cell_type": "code",
   "execution_count": 41,
   "metadata": {
    "slideshow": {
     "slide_type": "fragment"
    }
   },
   "outputs": [
    {
     "name": "stdout",
     "output_type": "stream",
     "text": [
      "{Monster{name=Cerberus, lifepoints=7}=hall, Monster{name=Zombo, lifepoints=4}=lab}\n"
     ]
    }
   ],
   "source": [
    "HashMap<Monster, String> dungeon = new HashMap();\n",
    "\n",
    "dungeon.put(cerberus1, \"hall\");\n",
    "dungeon.put(zombo, \"lab\");\n",
    "\n",
    "System.out.println(dungeon);"
   ]
  },
  {
   "cell_type": "code",
   "execution_count": 42,
   "metadata": {
    "slideshow": {
     "slide_type": "fragment"
    }
   },
   "outputs": [
    {
     "data": {
      "text/plain": [
       "hall"
      ]
     },
     "execution_count": 42,
     "metadata": {},
     "output_type": "execute_result"
    }
   ],
   "source": [
    "dungeon.put(cerberus1, \"corridor\");  // we can reassign key/value"
   ]
  },
  {
   "cell_type": "code",
   "execution_count": 43,
   "metadata": {
    "slideshow": {
     "slide_type": "fragment"
    }
   },
   "outputs": [
    {
     "name": "stdout",
     "output_type": "stream",
     "text": [
      "{Monster{name=Cerberus, lifepoints=7}=corridor, Monster{name=Zombo, lifepoints=4}=lab}\n"
     ]
    }
   ],
   "source": [
    "System.out.println(dungeon);"
   ]
  },
  {
   "cell_type": "code",
   "execution_count": 44,
   "metadata": {
    "slideshow": {
     "slide_type": "slide"
    }
   },
   "outputs": [
    {
     "data": {
      "text/plain": [
       "corridor"
      ]
     },
     "execution_count": 44,
     "metadata": {},
     "output_type": "execute_result"
    }
   ],
   "source": [
    "dungeon.put(cerberus2, \"pit\");  // if objects have equals() method, key will be replaced"
   ]
  },
  {
   "cell_type": "code",
   "execution_count": 45,
   "metadata": {
    "slideshow": {
     "slide_type": "fragment"
    }
   },
   "outputs": [
    {
     "name": "stdout",
     "output_type": "stream",
     "text": [
      "{Monster{name=Cerberus, lifepoints=7}=pit, Monster{name=Zombo, lifepoints=4}=lab}\n"
     ]
    }
   ],
   "source": [
    "System.out.println(dungeon);"
   ]
  },
  {
   "cell_type": "markdown",
   "metadata": {
    "slideshow": {
     "slide_type": "slide"
    }
   },
   "source": [
    "## Beware the poor key\n",
    "\n",
    "![poor-goblin](sets/img/poor-goblin.png)\n",
    "\n",
    "Remember poor monsters **don't** have `.equals(Object)` nor `hashCode()`"
   ]
  },
  {
   "cell_type": "code",
   "execution_count": 46,
   "metadata": {
    "slideshow": {
     "slide_type": "slide"
    }
   },
   "outputs": [
    {
     "data": {
      "text/plain": [
       "2"
      ]
     },
     "execution_count": 46,
     "metadata": {},
     "output_type": "execute_result"
    }
   ],
   "source": [
    "HashMap<PoorMonster, String> village = new HashMap();   // we inverted key/value types\n",
    "\n",
    "PoorMonster beggarGoblin1 = new PoorMonster();\n",
    "beggarGoblin1.name = \"Beggar Goblin\";\n",
    "beggarGoblin1.lifepoints = 2;  \n",
    "\n",
    "PoorMonster beggarGoblin2 = new PoorMonster();\n",
    "beggarGoblin2.name = \"Beggar Goblin\";\n",
    "beggarGoblin2.lifepoints = 2;  "
   ]
  },
  {
   "cell_type": "code",
   "execution_count": 47,
   "metadata": {
    "slideshow": {
     "slide_type": "fragment"
    }
   },
   "outputs": [
    {
     "name": "stdout",
     "output_type": "stream",
     "text": [
      "{PoorMonster{name=Beggar Goblin, lifepoints=2}=street}\n"
     ]
    }
   ],
   "source": [
    "village.put(beggarGoblin1, \"street\");  // works\n",
    "System.out.println(village);  "
   ]
  },
  {
   "cell_type": "code",
   "execution_count": 48,
   "metadata": {
    "slideshow": {
     "slide_type": "fragment"
    }
   },
   "outputs": [
    {
     "name": "stdout",
     "output_type": "stream",
     "text": [
      "{PoorMonster{name=Beggar Goblin, lifepoints=2}=market}\n"
     ]
    }
   ],
   "source": [
    "village.put(beggarGoblin1, \"market\" );  // works, replaces key/value\n",
    "System.out.println(village);"
   ]
  },
  {
   "cell_type": "code",
   "execution_count": 49,
   "metadata": {
    "slideshow": {
     "slide_type": "fragment"
    }
   },
   "outputs": [
    {
     "name": "stdout",
     "output_type": "stream",
     "text": [
      "{PoorMonster{name=Beggar Goblin, lifepoints=2}=market, PoorMonster{name=Beggar Goblin, lifepoints=2}=jail}\n"
     ]
    }
   ],
   "source": [
    "village.put(beggarGoblin2, \"jail\");  // no .equals(Object) -> different keys!\n",
    "System.out.println(village);  "
   ]
  },
  {
   "cell_type": "markdown",
   "metadata": {
    "slideshow": {
     "slide_type": "slide"
    }
   },
   "source": [
    "## Beware the mutant key\n",
    "\n",
    "![mutant-goblin](sets/img/mutant-goblin.png)"
   ]
  },
  {
   "cell_type": "code",
   "execution_count": 50,
   "metadata": {
    "slideshow": {
     "slide_type": "fragment"
    }
   },
   "outputs": [
    {
     "data": {
      "text/plain": [
       "5"
      ]
     },
     "execution_count": 50,
     "metadata": {},
     "output_type": "execute_result"
    }
   ],
   "source": [
    "Monster zombo = new Monster();\n",
    "zombo.name = \"Zombo\";\n",
    "zombo.lifepoints = 4;\n",
    "\n",
    "Monster mutantGoblin1 = new Monster();\n",
    "mutantGoblin1.name = \"Mutant Goblin\";\n",
    "mutantGoblin1.lifepoints = 3;  // NOTE 3\n",
    "\n",
    "Monster mutantGoblin2 = new Monster();\n",
    "mutantGoblin2.name = \"Mutant Goblin\";\n",
    "mutantGoblin2.lifepoints = 5;  // NOTE 5"
   ]
  },
  {
   "cell_type": "code",
   "execution_count": 51,
   "metadata": {
    "slideshow": {
     "slide_type": "slide"
    }
   },
   "outputs": [
    {
     "name": "stdout",
     "output_type": "stream",
     "text": [
      "{Monster{name=Mutant Goblin, lifepoints=3}=torture room}\n"
     ]
    }
   ],
   "source": [
    "HashMap<Monster, String> brokenMap = new HashMap();\n",
    "\n",
    "brokenMap.put(mutantGoblin1, \"torture room\");\n",
    "System.out.println(brokenMap);"
   ]
  },
  {
   "cell_type": "code",
   "execution_count": 52,
   "metadata": {
    "slideshow": {
     "slide_type": "fragment"
    }
   },
   "outputs": [
    {
     "name": "stdout",
     "output_type": "stream",
     "text": [
      "{Monster{name=Mutant Goblin, lifepoints=3}=torture room, Monster{name=Mutant Goblin, lifepoints=5}=jail}\n"
     ]
    }
   ],
   "source": [
    "brokenMap.put(mutantGoblin2, \"jail\" );\n",
    "System.out.println(brokenMap);"
   ]
  },
  {
   "cell_type": "code",
   "execution_count": 53,
   "metadata": {
    "slideshow": {
     "slide_type": "fragment"
    }
   },
   "outputs": [
    {
     "data": {
      "text/plain": [
       "torture room"
      ]
     },
     "execution_count": 53,
     "metadata": {},
     "output_type": "execute_result"
    }
   ],
   "source": [
    "brokenMap.get(mutantGoblin1)"
   ]
  },
  {
   "cell_type": "markdown",
   "metadata": {
    "slideshow": {
     "slide_type": "slide"
    }
   },
   "source": [
    "## Maps: Danger zone"
   ]
  },
  {
   "cell_type": "code",
   "execution_count": 54,
   "metadata": {
    "slideshow": {
     "slide_type": "fragment"
    }
   },
   "outputs": [
    {
     "data": {
      "text/plain": [
       "5"
      ]
     },
     "execution_count": 54,
     "metadata": {},
     "output_type": "execute_result"
    }
   ],
   "source": [
    "mutantGoblin1.lifepoints = 5  // WARNING: we're mutating attributes of a key!!!"
   ]
  },
  {
   "cell_type": "code",
   "execution_count": 55,
   "metadata": {
    "slideshow": {
     "slide_type": "fragment"
    }
   },
   "outputs": [
    {
     "name": "stdout",
     "output_type": "stream",
     "text": [
      "{Monster{name=Mutant Goblin, lifepoints=5}=torture room, Monster{name=Mutant Goblin, lifepoints=5}=jail}\n"
     ]
    }
   ],
   "source": [
    "System.out.println(brokenMap);  "
   ]
  },
  {
   "cell_type": "markdown",
   "metadata": {
    "slideshow": {
     "slide_type": "fragment"
    }
   },
   "source": [
    "* `Monster` class has proper `.equals(Object)` and `hashCode()` methods...\n",
    "* ...yet we end up with two equal keys !!!"
   ]
  }
 ],
 "metadata": {
  "celltoolbar": "Slideshow",
  "kernelspec": {
   "display_name": "Java",
   "language": "java",
   "name": "java"
  },
  "language_info": {
   "codemirror_mode": "java",
   "file_extension": ".jshell",
   "mimetype": "text/x-java-source",
   "name": "Java",
   "pygments_lexer": "java",
   "version": "15.0.2+7"
  },
  "toc": {
   "base_numbering": 1,
   "nav_menu": {},
   "number_sections": false,
   "sideBar": true,
   "skip_h1_title": false,
   "title_cell": "Table of Contents",
   "title_sidebar": "Contents",
   "toc_cell": false,
   "toc_position": {},
   "toc_section_display": true,
   "toc_window_display": true
  }
 },
 "nbformat": 4,
 "nbformat_minor": 4
}
